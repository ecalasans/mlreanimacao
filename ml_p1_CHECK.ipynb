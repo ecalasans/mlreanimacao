{
 "cells": [
  {
   "cell_type": "markdown",
   "source": [
    "# Reanimação Neonatal em Neonatologia\n",
    "Projeto 1 da Disciplina de Aprendizado de Máquina - PPgEEC/UFRN\n",
    "\n",
    "## Etapa 2 - Data Check"
   ],
   "metadata": {
    "collapsed": false,
    "pycharm": {
     "name": "#%% md\n"
    }
   }
  },
  {
   "cell_type": "markdown",
   "source": [
    "Neste notebook será realizada a checagem e testagem da integridade e conformidade do *dataset*."
   ],
   "metadata": {
    "collapsed": false,
    "pycharm": {
     "name": "#%% md\n"
    }
   }
  },
  {
   "cell_type": "markdown",
   "source": [
    "## 1. Configurações Iniciais"
   ],
   "metadata": {
    "collapsed": false,
    "pycharm": {
     "name": "#%% md\n"
    }
   }
  },
  {
   "cell_type": "code",
   "execution_count": 1,
   "outputs": [],
   "source": [
    "import wandb"
   ],
   "metadata": {
    "collapsed": false,
    "pycharm": {
     "name": "#%%\n"
    }
   }
  },
  {
   "cell_type": "code",
   "execution_count": 3,
   "outputs": [
    {
     "name": "stdout",
     "output_type": "stream",
     "text": [
      "\u001B[34m\u001B[1mwandb\u001B[0m: Appending key for api.wandb.ai to your netrc file: /Users/ericcalasans/.netrc\r\n"
     ]
    }
   ],
   "source": [
    "!wandb login c4d070b0b80b59891761b50eb9912749a4af585e --relogin"
   ],
   "metadata": {
    "collapsed": false,
    "pycharm": {
     "name": "#%%\n"
    }
   }
  },
  {
   "cell_type": "markdown",
   "source": [
    "## 2. Testagem com Pytest"
   ],
   "metadata": {
    "collapsed": false,
    "pycharm": {
     "name": "#%% md\n"
    }
   }
  },
  {
   "cell_type": "markdown",
   "source": [
    "O módulo **pytest** será usado para testar a consistência do *dataset* tendo como arquivo de teste o *test_data.py*."
   ],
   "metadata": {
    "collapsed": false,
    "pycharm": {
     "name": "#%% md\n"
    }
   }
  },
  {
   "cell_type": "code",
   "execution_count": 4,
   "outputs": [
    {
     "name": "stdout",
     "output_type": "stream",
     "text": [
      "\u001B[1mTest session starts (platform: darwin, Python 3.8.12, pytest 7.1.2, pytest-sugar 0.9.4)\u001B[0m\r\n",
      "cachedir: .pytest_cache\r\n",
      "rootdir: /Users/ericcalasans/Documents/Projetos/ml_proj1\r\n",
      "plugins: sugar-0.9.4\r\n",
      "\u001B[1mcollecting ... \u001B[0m\r\n",
      " \u001B[36mtest_data.py\u001B[0m::test_data_length\u001B[0m \u001B[32m✓\u001B[0m                                 \u001B[32m25% \u001B[0m\u001B[40m\u001B[32m█\u001B[0m\u001B[40m\u001B[32m█▌       \u001B[0m\r\n",
      " \u001B[36mtest_data.py\u001B[0m::test_qt_columns\u001B[0m \u001B[32m✓\u001B[0m                                  \u001B[32m50% \u001B[0m\u001B[40m\u001B[32m█\u001B[0m\u001B[40m\u001B[32m█\u001B[0m\u001B[40m\u001B[32m█\u001B[0m\u001B[40m\u001B[32m██     \u001B[0m\r\n",
      " \u001B[36mtest_data.py\u001B[0m::test_consistency_dataset\u001B[0m \u001B[32m✓\u001B[0m                         \u001B[32m75% \u001B[0m\u001B[40m\u001B[32m█\u001B[0m\u001B[40m\u001B[32m█\u001B[0m\u001B[40m\u001B[32m█\u001B[0m\u001B[40m\u001B[32m██\u001B[0m\u001B[40m\u001B[32m█\u001B[0m\u001B[40m\u001B[32m█▌  \u001B[0m\r\n",
      " \u001B[36mtest_data.py\u001B[0m::test_values_consistency\u001B[0m \u001B[32m✓\u001B[0m                         \u001B[32m100% \u001B[0m\u001B[40m\u001B[32m█\u001B[0m\u001B[40m\u001B[32m█\u001B[0m\u001B[40m\u001B[32m█\u001B[0m\u001B[40m\u001B[32m██\u001B[0m\u001B[40m\u001B[32m█\u001B[0m\u001B[40m\u001B[32m█\u001B[0m\u001B[40m\u001B[32m█\u001B[0m\u001B[40m\u001B[32m██\u001B[0m\r\n",
      "\r\n",
      "Results (15.84s):\r\n",
      "\u001B[32m       4 passed\u001B[0m\r\n"
     ]
    }
   ],
   "source": [
    "!pytest test_data.py -vv"
   ],
   "metadata": {
    "collapsed": false,
    "pycharm": {
     "name": "#%%\n"
    }
   }
  },
  {
   "cell_type": "code",
   "execution_count": null,
   "outputs": [],
   "source": [],
   "metadata": {
    "collapsed": false,
    "pycharm": {
     "name": "#%%\n"
    }
   }
  }
 ],
 "metadata": {
  "kernelspec": {
   "display_name": "Python 3",
   "language": "python",
   "name": "python3"
  },
  "language_info": {
   "codemirror_mode": {
    "name": "ipython",
    "version": 2
   },
   "file_extension": ".py",
   "mimetype": "text/x-python",
   "name": "python",
   "nbconvert_exporter": "python",
   "pygments_lexer": "ipython2",
   "version": "2.7.6"
  }
 },
 "nbformat": 4,
 "nbformat_minor": 0
}