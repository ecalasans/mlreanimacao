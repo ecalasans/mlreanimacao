{
 "cells": [
  {
   "cell_type": "markdown",
   "source": [
    "# TTRN em Neonatologia\n",
    "Projeto 1 da Disciplina de Aprendizado de Máquina - PPgEEC/UFRN"
   ],
   "metadata": {
    "collapsed": false,
    "pycharm": {
     "name": "#%% md\n"
    }
   }
  },
  {
   "cell_type": "markdown",
   "source": [
    "Este projeto tem como objetivo desenvolver um *pipeline* para deposição de um modelo classificatório em um ambiente de produção.\n",
    "\n",
    "O modelo se propõe a resolver um problema de **classificação** que tenta separar os recém nascidos que possam desenvolver uma patologia chamada **Taquipneia Transitória do Recém-Nascido(TTRN)** baseado nas seguintes variáveis(*labels*):\n",
    "\n",
    "* Idade materna\n",
    "* Fumo na gravidez\n",
    "* Uso de álcool na gravidez\n",
    "* Uso de drogas psicoativas na gravidez\n",
    "* Trabalho de parto prematuro\n",
    "* Doença Hipertensiva Específica da Gravidez(DHEG)\n",
    "* Diabetes Mellitus Gestacional(DMG)\n",
    "* Sexo do recém-nascido\n",
    "* Índice de Apgar no quinto minuto de vida\n",
    "* Reanimação neonatal\n",
    "* Peso de nascimento\n",
    "* Estatura ao nascimento\n",
    "* Perímetro cefálico ao nascimento\n",
    "\n",
    "Os dados para este modelo serão fornecidos pelo banco de dados da uma UTI neonatal do Estado após prévia autorização por escrito do responsável pelas informações."
   ],
   "metadata": {
    "collapsed": false,
    "pycharm": {
     "name": "#%% md\n"
    }
   }
  },
  {
   "cell_type": "markdown",
   "source": [
    "## 1. Configuração do Ambiente de Trabalho"
   ],
   "metadata": {
    "collapsed": false,
    "pycharm": {
     "name": "#%% md\n"
    }
   }
  },
  {
   "cell_type": "code",
   "execution_count": 1,
   "outputs": [],
   "source": [
    "# Importações\n",
    "\n",
    "import numpy as np\n",
    "import pandas as pd\n",
    "import matplotlib.pyplot as plt\n",
    "import seaborn as sns\n",
    "import wandb"
   ],
   "metadata": {
    "collapsed": false,
    "pycharm": {
     "name": "#%%\n"
    }
   }
  },
  {
   "cell_type": "code",
   "execution_count": null,
   "outputs": [],
   "source": [
    "# Login no wandb\n",
    "!wandb login"
   ],
   "metadata": {
    "collapsed": false,
    "pycharm": {
     "name": "#%%\n"
    }
   }
  },
  {
   "cell_type": "markdown",
   "source": [
    "## 2.  Etapas do ETL"
   ],
   "metadata": {
    "collapsed": false,
    "pycharm": {
     "name": "#%% md\n"
    }
   }
  },
  {
   "cell_type": "markdown",
   "source": [
    "### 2.1. Aquisição dos Dados(*Fetch Data*)"
   ],
   "metadata": {
    "collapsed": false,
    "pycharm": {
     "name": "#%% md\n"
    }
   }
  },
  {
   "cell_type": "code",
   "execution_count": null,
   "outputs": [],
   "source": [],
   "metadata": {
    "collapsed": false,
    "pycharm": {
     "name": "#%%\n"
    }
   }
  },
  {
   "cell_type": "markdown",
   "source": [
    "### 2.2. Análise Exploratória(*EDA*)"
   ],
   "metadata": {
    "collapsed": false,
    "pycharm": {
     "name": "#%% md\n"
    }
   }
  },
  {
   "cell_type": "markdown",
   "source": [
    "### 2.3. Preprocessamento(*Preprocessing*)"
   ],
   "metadata": {
    "collapsed": false,
    "pycharm": {
     "name": "#%% md\n"
    }
   }
  },
  {
   "cell_type": "markdown",
   "source": [
    "### 2.4. Limpeza dos Dados(*Clean Data*)"
   ],
   "metadata": {
    "collapsed": false,
    "pycharm": {
     "name": "#%% md\n"
    }
   }
  },
  {
   "cell_type": "code",
   "execution_count": null,
   "outputs": [],
   "source": [],
   "metadata": {
    "collapsed": false,
    "pycharm": {
     "name": "#%%\n"
    }
   }
  }
 ],
 "metadata": {
  "kernelspec": {
   "display_name": "Python 3",
   "language": "python",
   "name": "python3"
  },
  "language_info": {
   "codemirror_mode": {
    "name": "ipython",
    "version": 2
   },
   "file_extension": ".py",
   "mimetype": "text/x-python",
   "name": "python",
   "nbconvert_exporter": "python",
   "pygments_lexer": "ipython2",
   "version": "2.7.6"
  }
 },
 "nbformat": 4,
 "nbformat_minor": 0
}