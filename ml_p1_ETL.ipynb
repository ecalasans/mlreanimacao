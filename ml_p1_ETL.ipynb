{
 "cells": [
  {
   "cell_type": "markdown",
   "source": [
    "# TTRN em Neonatologia\n",
    "Projeto 1 da Disciplina de Aprendizado de Máquina - PPgEEC/UFRN"
   ],
   "metadata": {
    "collapsed": false,
    "pycharm": {
     "name": "#%% md\n"
    }
   }
  },
  {
   "cell_type": "markdown",
   "source": [
    "Este projeto tem como objetivo desenvolver um *pipeline* para deposição de um modelo classificatório em um ambiente de produção.\n",
    "\n",
    "O modelo se propõe a resolver um problema de **classificação** que tenta separar os recém nascidos que possam desenvolver uma patologia chamada **Taquipneia Transitória do Recém-Nascido(TTRN)** baseado nas seguintes variáveis(*labels*):\n",
    "\n",
    "* Idade materna\n",
    "* Fumo na gravidez\n",
    "* Uso de álcool na gravidez\n",
    "* Uso de drogas psicoativas na gravidez\n",
    "* Trabalho de parto prematuro\n",
    "* Doença Hipertensiva Específica da Gravidez(DHEG)\n",
    "* Diabetes Mellitus Gestacional(DMG)\n",
    "* Sexo do recém-nascido\n",
    "* Índice de Apgar no quinto minuto de vida\n",
    "* Reanimação neonatal\n",
    "* Peso de nascimento\n",
    "* Estatura ao nascimento\n",
    "* Perímetro cefálico ao nascimento\n",
    "\n",
    "Os dados para este modelo serão fornecidos pelo banco de dados da uma UTI neonatal do Estado após prévia autorização por escrito do responsável pelas informações."
   ],
   "metadata": {
    "collapsed": false,
    "pycharm": {
     "name": "#%% md\n"
    }
   }
  },
  {
   "cell_type": "markdown",
   "source": [
    "## 1. Configuração do Ambiente de Trabalho"
   ],
   "metadata": {
    "collapsed": false,
    "pycharm": {
     "name": "#%% md\n"
    }
   }
  },
  {
   "cell_type": "code",
   "execution_count": 3,
   "outputs": [],
   "source": [
    "# Importações\n",
    "\n",
    "import numpy as np\n",
    "import pandas as pd\n",
    "import matplotlib.pyplot as plt\n",
    "import seaborn as sns\n",
    "import wandb\n",
    "import requests\n",
    "import json"
   ],
   "metadata": {
    "collapsed": false,
    "pycharm": {
     "name": "#%%\n"
    }
   }
  },
  {
   "cell_type": "code",
   "execution_count": 2,
   "outputs": [
    {
     "name": "stdout",
     "output_type": "stream",
     "text": [
      "\u001B[34m\u001B[1mwandb\u001B[0m: Appending key for api.wandb.ai to your netrc file: /Users/ericcalasans/.netrc\r\n"
     ]
    }
   ],
   "source": [
    "# Login no wandb\n",
    "!wandb login c4d070b0b80b59891761b50eb9912749a4af585e --relogin"
   ],
   "metadata": {
    "collapsed": false,
    "pycharm": {
     "name": "#%%\n"
    }
   }
  },
  {
   "cell_type": "markdown",
   "source": [
    "## 2.  Etapas do ETL"
   ],
   "metadata": {
    "collapsed": false,
    "pycharm": {
     "name": "#%% md\n"
    }
   }
  },
  {
   "cell_type": "markdown",
   "source": [
    "### 2.1. Aquisição dos Dados(*Fetch Data*)"
   ],
   "metadata": {
    "collapsed": false,
    "pycharm": {
     "name": "#%% md\n"
    }
   }
  },
  {
   "cell_type": "markdown",
   "source": [
    "Os dados são provenientes da plataforma https://neo.redcaprn.org através de API própria da plataforma"
   ],
   "metadata": {
    "collapsed": false,
    "pycharm": {
     "name": "#%% md\n"
    }
   }
  },
  {
   "cell_type": "code",
   "execution_count": 4,
   "outputs": [],
   "source": [
    "# Conexão com a base de dados e aquisição\n",
    "data = {\n",
    "    'token': '4276F33FF3B3F9E3CEA6A50EFAD0C213',\n",
    "    'content': 'record',\n",
    "    'format': 'json',\n",
    "    'type': 'flat',\n",
    "    'csvDelimiter': '',\n",
    "    'rawOrLabel': 'raw',\n",
    "    'rawOrLabelHeaders': 'raw',\n",
    "    'exportCheckboxLabel': 'false',\n",
    "    'exportSurveyFields': 'false',\n",
    "    'exportDataAccessGroups': 'false',\n",
    "    'returnFormat': 'json'\n",
    "}\n",
    "r = requests.post('https://neo.redcaprn.org/api/',data=data)\n",
    "r_dump = json.dumps(r.json())\n",
    "df = pd.read_json(r_dump, dtype=True, convert_dates=True)"
   ],
   "metadata": {
    "collapsed": false,
    "pycharm": {
     "name": "#%%\n"
    }
   }
  },
  {
   "cell_type": "markdown",
   "source": [
    "O *dataset* consiste de várias tabelas do qual são selecionadas as tabelas de interesse das quais serão escolhidos os *labels*:"
   ],
   "metadata": {
    "collapsed": false,
    "pycharm": {
     "name": "#%% md\n"
    }
   }
  },
  {
   "cell_type": "code",
   "execution_count": 5,
   "outputs": [],
   "source": [
    "ident = df[['nome_pac', 'nascido_hsc', 'setor_origem_pac', 'idade_materna',\n",
    "            'cor_pele', 'proc_materna', 'escolaridade_materna', 'trabalho_mae',\n",
    "            'gesta', 'abortos', 'filhos_vivos', 'natimortos', 'mortos_menor_1_ano',\n",
    "            'ts_mae', 'cons_prenatal']]\n",
    "\n",
    "ant_maternos = df[['fumo', 'alcool', 'freq_alcool', 'psicoativas', 'violencia',\n",
    "                   'corioamnionite', 'rcui', 'tpp', 'dpp', 'has', 'dheg', 'hellp',\n",
    "                   'sulfatada', 'oligoamnio', 'dm', 'hiv', 'hep_b', 'hep_c', 'sifilis',\n",
    "                   'toxoplasmose', 'cmv', 'rubeola', 'covid_mae',\n",
    "                   'outras_doencas_maternas', 'cort_antenatal']]\n",
    "\n",
    "parto = df[['data_nasc', 'sexo', 'tempo_br', 'tipo_parto', 'gemelar',\n",
    "            'apgar_1_minuto', 'apgar_5_min', 'reanimacao', 'o2_21',\n",
    "            'massagem_cardiaca', 'cpap_sp', 'drogas_reanimacao', 'liq_amniotico',\n",
    "            'clamp_cu', 'ev_hipotermia', 'saco_plastico', 'touca', 'colchao']]\n",
    "\n",
    "antrop = df[['peso_nasc', 'estatura', 'pc', 'ig_nasc', 'ts_rn']]"
   ],
   "metadata": {
    "collapsed": false,
    "pycharm": {
     "name": "#%%\n"
    }
   }
  },
  {
   "cell_type": "markdown",
   "source": [
    "Da tabela **resp** vem a variável *target* **ttrn**:"
   ],
   "metadata": {
    "collapsed": false,
    "pycharm": {
     "name": "#%% md\n"
    }
   }
  },
  {
   "cell_type": "code",
   "execution_count": 6,
   "outputs": [],
   "source": [
    "resp = df[['apneia', 'sdr', 'ttrn', 'sam', 'hpprn', 'enfisema', 'hem_pulm',\n",
    "           'pneu_congenita', 'pneu_adquirida', 'dbp', 'o2circ', 'hood', 'cpap',\n",
    "           'vni', 'vm', 'ox_nitrico', 'tempo_o2', 'o2_28', 'o2_36', 'num_intub',\n",
    "           'falha_extub', 'surfactante', 'dose_surf', 'hv_surf', 'extub_acid']]"
   ],
   "metadata": {
    "collapsed": false,
    "pycharm": {
     "name": "#%%\n"
    }
   }
  },
  {
   "cell_type": "markdown",
   "source": [
    "Formação do *dataset* bruto(*raw* dataset) através da seleção das *labels* e *target*:"
   ],
   "metadata": {
    "collapsed": false,
    "pycharm": {
     "name": "#%% md\n"
    }
   }
  },
  {
   "cell_type": "code",
   "execution_count": 15,
   "outputs": [],
   "source": [
    "ttrn_raw = pd.concat(\n",
    "    [\n",
    "        ident['idade_materna'],\n",
    "        ant_maternos['fumo'],\n",
    "        ant_maternos['alcool'],\n",
    "        ant_maternos['psicoativas'],\n",
    "        ant_maternos['tpp'],\n",
    "        ant_maternos['dheg'],\n",
    "        ant_maternos['dm'],\n",
    "        parto['sexo'],\n",
    "        parto['apgar_5_min'],\n",
    "        parto['reanimacao'],\n",
    "        antrop['peso_nasc'],\n",
    "        antrop['estatura'],\n",
    "        antrop['pc'],\n",
    "        resp['ttrn'] # target\n",
    "    ],\n",
    "    axis=1\n",
    ")"
   ],
   "metadata": {
    "collapsed": false,
    "pycharm": {
     "name": "#%%\n"
    }
   }
  },
  {
   "cell_type": "code",
   "execution_count": 16,
   "outputs": [
    {
     "data": {
      "text/plain": "  idade_materna fumo alcool psicoativas tpp dheg dm sexo apgar_5_min  \\\n0            20                           2    2  1    2           8   \n1            21                           2    2  1    1           4   \n2            16                           2    1  6    2           2   \n3            40                           2    1  1    1           9   \n4            24                           2    1  1    2           9   \n\n  reanimacao peso_nasc estatura  pc ttrn  \n0          1      3875       50  34    2  \n1          4       810       33  25    2  \n2          4      2240       51  32    2  \n3          1       565       31  22    2  \n4          1      1860                    ",
      "text/html": "<div>\n<style scoped>\n    .dataframe tbody tr th:only-of-type {\n        vertical-align: middle;\n    }\n\n    .dataframe tbody tr th {\n        vertical-align: top;\n    }\n\n    .dataframe thead th {\n        text-align: right;\n    }\n</style>\n<table border=\"1\" class=\"dataframe\">\n  <thead>\n    <tr style=\"text-align: right;\">\n      <th></th>\n      <th>idade_materna</th>\n      <th>fumo</th>\n      <th>alcool</th>\n      <th>psicoativas</th>\n      <th>tpp</th>\n      <th>dheg</th>\n      <th>dm</th>\n      <th>sexo</th>\n      <th>apgar_5_min</th>\n      <th>reanimacao</th>\n      <th>peso_nasc</th>\n      <th>estatura</th>\n      <th>pc</th>\n      <th>ttrn</th>\n    </tr>\n  </thead>\n  <tbody>\n    <tr>\n      <th>0</th>\n      <td>20</td>\n      <td></td>\n      <td></td>\n      <td></td>\n      <td>2</td>\n      <td>2</td>\n      <td>1</td>\n      <td>2</td>\n      <td>8</td>\n      <td>1</td>\n      <td>3875</td>\n      <td>50</td>\n      <td>34</td>\n      <td>2</td>\n    </tr>\n    <tr>\n      <th>1</th>\n      <td>21</td>\n      <td></td>\n      <td></td>\n      <td></td>\n      <td>2</td>\n      <td>2</td>\n      <td>1</td>\n      <td>1</td>\n      <td>4</td>\n      <td>4</td>\n      <td>810</td>\n      <td>33</td>\n      <td>25</td>\n      <td>2</td>\n    </tr>\n    <tr>\n      <th>2</th>\n      <td>16</td>\n      <td></td>\n      <td></td>\n      <td></td>\n      <td>2</td>\n      <td>1</td>\n      <td>6</td>\n      <td>2</td>\n      <td>2</td>\n      <td>4</td>\n      <td>2240</td>\n      <td>51</td>\n      <td>32</td>\n      <td>2</td>\n    </tr>\n    <tr>\n      <th>3</th>\n      <td>40</td>\n      <td></td>\n      <td></td>\n      <td></td>\n      <td>2</td>\n      <td>1</td>\n      <td>1</td>\n      <td>1</td>\n      <td>9</td>\n      <td>1</td>\n      <td>565</td>\n      <td>31</td>\n      <td>22</td>\n      <td>2</td>\n    </tr>\n    <tr>\n      <th>4</th>\n      <td>24</td>\n      <td></td>\n      <td></td>\n      <td></td>\n      <td>2</td>\n      <td>1</td>\n      <td>1</td>\n      <td>2</td>\n      <td>9</td>\n      <td>1</td>\n      <td>1860</td>\n      <td></td>\n      <td></td>\n      <td></td>\n    </tr>\n  </tbody>\n</table>\n</div>"
     },
     "execution_count": 16,
     "metadata": {},
     "output_type": "execute_result"
    }
   ],
   "source": [
    "ttrn_raw.head()"
   ],
   "metadata": {
    "collapsed": false,
    "pycharm": {
     "name": "#%%\n"
    }
   }
  },
  {
   "cell_type": "markdown",
   "source": [
    "Criação do artefato inicial"
   ],
   "metadata": {
    "collapsed": false,
    "pycharm": {
     "name": "#%% md\n"
    }
   }
  },
  {
   "cell_type": "code",
   "execution_count": 17,
   "outputs": [],
   "source": [
    "#  Salva como .csv\n",
    "ttrn_raw.to_csv('ttrn_raw.csv', index=False)"
   ],
   "metadata": {
    "collapsed": false,
    "pycharm": {
     "name": "#%%\n"
    }
   }
  },
  {
   "cell_type": "code",
   "execution_count": 20,
   "outputs": [
    {
     "name": "stdout",
     "output_type": "stream",
     "text": [
      "\u001B[34m\u001B[1mwandb\u001B[0m: Uploading file ttrn_raw.csv to: \"ecalasans/mlttrn/ttrn_raw.csv:latest\" (ttrn_raw)\r\n",
      "\u001B[34m\u001B[1mwandb\u001B[0m: Currently logged in as: \u001B[33mecalasans\u001B[0m (use `wandb login --relogin` to force relogin)\r\n",
      "\u001B[34m\u001B[1mwandb\u001B[0m: wandb version 0.12.16 is available!  To upgrade, please run:\r\n",
      "\u001B[34m\u001B[1mwandb\u001B[0m:  $ pip install wandb --upgrade\r\n",
      "\u001B[34m\u001B[1mwandb\u001B[0m: Tracking run with wandb version 0.12.15\r\n",
      "\u001B[34m\u001B[1mwandb\u001B[0m: Run data is saved locally in \u001B[35m\u001B[1m/Users/ericcalasans/Documents/Projetos/ml_proj1/wandb/run-20220513_042753-28lv6kck\u001B[0m\r\n",
      "\u001B[34m\u001B[1mwandb\u001B[0m: Run \u001B[1m`wandb offline`\u001B[0m to turn off syncing.\r\n",
      "\u001B[34m\u001B[1mwandb\u001B[0m: Syncing run \u001B[33mglowing-jazz-1\u001B[0m\r\n",
      "\u001B[34m\u001B[1mwandb\u001B[0m: ⭐️ View project at \u001B[34m\u001B[4mhttps://wandb.ai/ecalasans/mlttrn\u001B[0m\r\n",
      "\u001B[34m\u001B[1mwandb\u001B[0m: 🚀 View run at \u001B[34m\u001B[4mhttps://wandb.ai/ecalasans/mlttrn/runs/28lv6kck\u001B[0m\r\n",
      "Artifact uploaded, use this artifact in a run by adding:\r\n",
      "\r\n",
      "    artifact = run.use_artifact(\"ecalasans/mlttrn/ttrn_raw.csv:latest\")\r\n",
      "\r\n",
      "\u001B[34m\u001B[1mwandb\u001B[0m: Waiting for W&B process to finish... \u001B[32m(success).\u001B[0m\r\n",
      "\u001B[34m\u001B[1mwandb\u001B[0m:                                                                                \r\n",
      "\u001B[34m\u001B[1mwandb\u001B[0m: Synced \u001B[33mglowing-jazz-1\u001B[0m: \u001B[34m\u001B[4mhttps://wandb.ai/ecalasans/mlttrn/runs/28lv6kck\u001B[0m\r\n",
      "\u001B[34m\u001B[1mwandb\u001B[0m: Synced 5 W&B file(s), 0 media file(s), 1 artifact file(s) and 0 other file(s)\r\n",
      "\u001B[34m\u001B[1mwandb\u001B[0m: Find logs at: \u001B[35m\u001B[1m./wandb/run-20220513_042753-28lv6kck/logs\u001B[0m\r\n"
     ]
    }
   ],
   "source": [
    "# Cria o artefato\n",
    "!wandb artifact put --name mlttrn/ttrn_raw.csv --type ttrn_raw --description \"TTRN - Dados brutos\" ttrn_raw.csv"
   ],
   "metadata": {
    "collapsed": false,
    "pycharm": {
     "name": "#%%\n"
    }
   }
  },
  {
   "cell_type": "markdown",
   "source": [
    "### 2.2. Análise Exploratória(*EDA*)"
   ],
   "metadata": {
    "collapsed": false,
    "pycharm": {
     "name": "#%% md\n"
    }
   }
  },
  {
   "cell_type": "markdown",
   "source": [
    "### 2.3. Preprocessamento(*Preprocessing*)"
   ],
   "metadata": {
    "collapsed": false,
    "pycharm": {
     "name": "#%% md\n"
    }
   }
  },
  {
   "cell_type": "markdown",
   "source": [
    "### 2.4. Limpeza dos Dados(*Clean Data*)"
   ],
   "metadata": {
    "collapsed": false,
    "pycharm": {
     "name": "#%% md\n"
    }
   }
  },
  {
   "cell_type": "code",
   "execution_count": 2,
   "outputs": [],
   "source": [],
   "metadata": {
    "collapsed": false,
    "pycharm": {
     "name": "#%%\n"
    }
   }
  }
 ],
 "metadata": {
  "kernelspec": {
   "display_name": "Python 3",
   "language": "python",
   "name": "python3"
  },
  "language_info": {
   "codemirror_mode": {
    "name": "ipython",
    "version": 2
   },
   "file_extension": ".py",
   "mimetype": "text/x-python",
   "name": "python",
   "nbconvert_exporter": "python",
   "pygments_lexer": "ipython2",
   "version": "2.7.6"
  }
 },
 "nbformat": 4,
 "nbformat_minor": 0
}