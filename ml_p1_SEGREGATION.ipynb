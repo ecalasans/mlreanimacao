{
 "cells": [
  {
   "cell_type": "markdown",
   "source": [
    "# *Machine Learning* em Reanimação Neonatal\n",
    "Projeto 1 da Disciplina de Aprendizado de Máquina - PPgEEC/UFRN\n",
    "\n",
    "## Etapa 3 - SEGREGATION"
   ],
   "metadata": {
    "collapsed": false,
    "pycharm": {
     "name": "#%% md\n"
    }
   }
  },
  {
   "cell_type": "markdown",
   "source": [
    "Este notebook servirá para dividir o *dataset* em conjunto de **treinamento** e de **teste**."
   ],
   "metadata": {
    "collapsed": false,
    "pycharm": {
     "name": "#%% md\n"
    }
   }
  },
  {
   "cell_type": "markdown",
   "source": [
    "## 1.  Configuração do Ambiente"
   ],
   "metadata": {
    "collapsed": false,
    "pycharm": {
     "name": "#%% md\n"
    }
   }
  },
  {
   "cell_type": "code",
   "execution_count": 9,
   "outputs": [],
   "source": [
    "import logging\n",
    "import os\n",
    "import tempfile\n",
    "import pandas as pd\n",
    "import wandb\n",
    "from sklearn.model_selection import train_test_split"
   ],
   "metadata": {
    "collapsed": false,
    "pycharm": {
     "name": "#%%\n"
    }
   }
  },
  {
   "cell_type": "code",
   "execution_count": 10,
   "outputs": [
    {
     "name": "stdout",
     "output_type": "stream",
     "text": [
      "\u001B[34m\u001B[1mwandb\u001B[0m: Appending key for api.wandb.ai to your netrc file: /Users/ericcalasans/.netrc\r\n"
     ]
    }
   ],
   "source": [
    "!wandb login c4d070b0b80b59891761b50eb9912749a4af585e --relogin"
   ],
   "metadata": {
    "collapsed": false,
    "pycharm": {
     "name": "#%%\n"
    }
   }
  },
  {
   "cell_type": "markdown",
   "source": [
    "## 2.  Segregação dos Dados"
   ],
   "metadata": {
    "collapsed": false,
    "pycharm": {
     "name": "#%% md\n"
    }
   }
  },
  {
   "cell_type": "markdown",
   "source": [
    "Criação das variáveis de apoio"
   ],
   "metadata": {
    "collapsed": false,
    "pycharm": {
     "name": "#%% md\n"
    }
   }
  },
  {
   "cell_type": "code",
   "execution_count": 11,
   "outputs": [],
   "source": [
    "# Tamanho do conjunto de teste(fração do dataset que é utilizada como dados de teste)\n",
    "test_size = 0.3\n",
    "\n",
    "# Coeficiente de aleatoriedade\n",
    "seed = 1618\n",
    "\n",
    "# Variável alvo(target)\n",
    "stratify = 'reanimacao'\n",
    "\n",
    "# Artefato de entrada\n",
    "input_artifact = 'mlreanimacao/clean_data.csv:latest'\n",
    "\n",
    "# Tipo do artefato\n",
    "artifact_type = 'segregated_data'"
   ],
   "metadata": {
    "collapsed": false,
    "pycharm": {
     "name": "#%%\n"
    }
   }
  },
  {
   "cell_type": "markdown",
   "source": [
    "Configurações do objeto de log - uso do módulo **logging**"
   ],
   "metadata": {
    "collapsed": false,
    "pycharm": {
     "name": "#%% md\n"
    }
   }
  },
  {
   "cell_type": "code",
   "execution_count": 12,
   "outputs": [],
   "source": [
    "logging.basicConfig(level=logging.INFO,\n",
    "                    format=\"%(asctime)s %(message)s\",\n",
    "                    datefmt='%d-%m-%Y %H:%M:%S')\n",
    "\n",
    "# Criação de um objeto para produzir os logs\n",
    "logger = logging.getLogger()"
   ],
   "metadata": {
    "collapsed": false,
    "pycharm": {
     "name": "#%%\n"
    }
   }
  },
  {
   "cell_type": "markdown",
   "source": [
    "Captura do artefato"
   ],
   "metadata": {
    "collapsed": false,
    "pycharm": {
     "name": "#%% md\n"
    }
   }
  },
  {
   "cell_type": "code",
   "execution_count": 13,
   "outputs": [
    {
     "data": {
      "text/plain": "<IPython.core.display.HTML object>",
      "text/html": "wandb version 0.12.16 is available!  To upgrade, please run:\n $ pip install wandb --upgrade"
     },
     "metadata": {},
     "output_type": "display_data"
    },
    {
     "data": {
      "text/plain": "<IPython.core.display.HTML object>",
      "text/html": "Tracking run with wandb version 0.12.15"
     },
     "metadata": {},
     "output_type": "display_data"
    },
    {
     "data": {
      "text/plain": "<IPython.core.display.HTML object>",
      "text/html": "Run data is saved locally in <code>/Users/ericcalasans/Documents/Projetos/ml_proj1/wandb/run-20220525_215213-3rdatu8r</code>"
     },
     "metadata": {},
     "output_type": "display_data"
    },
    {
     "data": {
      "text/plain": "<IPython.core.display.HTML object>",
      "text/html": "Syncing run <strong><a href=\"https://wandb.ai/ecalasans/mlreanimacao/runs/3rdatu8r\" target=\"_blank\">sparkling-dragon-60</a></strong> to <a href=\"https://wandb.ai/ecalasans/mlreanimacao\" target=\"_blank\">Weights & Biases</a> (<a href=\"https://wandb.me/run\" target=\"_blank\">docs</a>)<br/>"
     },
     "metadata": {},
     "output_type": "display_data"
    },
    {
     "name": "stderr",
     "output_type": "stream",
     "text": [
      "25-05-2022 21:52:20 Baixando artefato...\n"
     ]
    }
   ],
   "source": [
    "run = wandb.init(project='mlreanimacao', job_type='split_data')\n",
    "\n",
    "# Registra um log desta ação\n",
    "logger.info(\"Baixando artefato...\")\n",
    "artifact = run.use_artifact(input_artifact)\n",
    "artifact_file = artifact.file()\n",
    "df_to_split = pd.read_csv(artifact_file)"
   ],
   "metadata": {
    "collapsed": false,
    "pycharm": {
     "name": "#%%\n"
    }
   }
  },
  {
   "cell_type": "markdown",
   "source": [
    "Divisão do *dataset*"
   ],
   "metadata": {
    "collapsed": false,
    "pycharm": {
     "name": "#%% md\n"
    }
   }
  },
  {
   "cell_type": "code",
   "execution_count": 14,
   "outputs": [],
   "source": [
    "conjunto = {}\n",
    "\n",
    "# Conjunto de treino(train) e de teste(test)\n",
    "conjunto[\"train\"], conjunto[\"test\"] = train_test_split(\n",
    "    df_to_split,\n",
    "    test_size=test_size,\n",
    "    random_state=seed,\n",
    "    stratify=df_to_split['reanimacao']\n",
    ")"
   ],
   "metadata": {
    "collapsed": false,
    "pycharm": {
     "name": "#%%\n"
    }
   }
  },
  {
   "cell_type": "markdown",
   "source": [
    "## 3.  Criação de Artefatos"
   ],
   "metadata": {
    "collapsed": false,
    "pycharm": {
     "name": "#%% md\n"
    }
   }
  },
  {
   "cell_type": "markdown",
   "source": [
    "Serão criados artefatos separados para os conjuntos de treino e teste."
   ],
   "metadata": {
    "collapsed": false,
    "pycharm": {
     "name": "#%% md\n"
    }
   }
  },
  {
   "cell_type": "code",
   "execution_count": 15,
   "outputs": [
    {
     "name": "stderr",
     "output_type": "stream",
     "text": [
      "25-05-2022 21:52:29 Salvando o train dataset para o train.csv\n",
      "25-05-2022 21:52:29 Log do artefato\n",
      "25-05-2022 21:52:35 Salvando o test dataset para o test.csv\n",
      "25-05-2022 21:52:35 Log do artefato\n"
     ]
    }
   ],
   "source": [
    "with tempfile.TemporaryDirectory() as temp_dir:\n",
    "    for conj, df in conjunto.items():\n",
    "        artifact_name = f\"{conj}.csv\"\n",
    "        temp_path = os.path.join(temp_dir, artifact_name)\n",
    "        logger.info(f\"Salvando o {conj} dataset para o {artifact_name}\")\n",
    "        df.to_csv(temp_path, index=False)\n",
    "        artifact = wandb.Artifact(\n",
    "            name=artifact_name,\n",
    "            type=artifact_type,\n",
    "            description=f\"{conj} parte do dataset {input_artifact} \"\n",
    "        )\n",
    "        artifact.add_file(temp_path)\n",
    "        logger.info(\"Log do artefato\")\n",
    "        run.log_artifact(artifact)\n",
    "        artifact.wait()  # Espera o artefato ser logado"
   ],
   "metadata": {
    "collapsed": false,
    "pycharm": {
     "name": "#%%\n"
    }
   }
  },
  {
   "cell_type": "code",
   "execution_count": 16,
   "outputs": [
    {
     "data": {
      "text/plain": "<IPython.core.display.HTML object>",
      "text/html": "Waiting for W&B process to finish... <strong style=\"color:green\">(success).</strong>"
     },
     "metadata": {},
     "output_type": "display_data"
    },
    {
     "data": {
      "text/plain": "VBox(children=(Label(value='0.054 MB of 0.054 MB uploaded (0.000 MB deduped)\\r'), FloatProgress(value=1.0, max…",
      "application/vnd.jupyter.widget-view+json": {
       "version_major": 2,
       "version_minor": 0,
       "model_id": "2ff7dc7baa724cd9b28a33511c531ecb"
      }
     },
     "metadata": {},
     "output_type": "display_data"
    },
    {
     "data": {
      "text/plain": "<IPython.core.display.HTML object>",
      "text/html": "Synced <strong style=\"color:#cdcd00\">sparkling-dragon-60</strong>: <a href=\"https://wandb.ai/ecalasans/mlreanimacao/runs/3rdatu8r\" target=\"_blank\">https://wandb.ai/ecalasans/mlreanimacao/runs/3rdatu8r</a><br/>Synced 5 W&B file(s), 0 media file(s), 2 artifact file(s) and 0 other file(s)"
     },
     "metadata": {},
     "output_type": "display_data"
    },
    {
     "data": {
      "text/plain": "<IPython.core.display.HTML object>",
      "text/html": "Find logs at: <code>./wandb/run-20220525_215213-3rdatu8r/logs</code>"
     },
     "metadata": {},
     "output_type": "display_data"
    }
   ],
   "source": [
    "# Termina a execução do wandb\n",
    "run.finish()"
   ],
   "metadata": {
    "collapsed": false,
    "pycharm": {
     "name": "#%%\n"
    }
   }
  },
  {
   "cell_type": "code",
   "execution_count": null,
   "outputs": [],
   "source": [],
   "metadata": {
    "collapsed": false,
    "pycharm": {
     "name": "#%%\n"
    }
   }
  }
 ],
 "metadata": {
  "kernelspec": {
   "display_name": "Python 3",
   "language": "python",
   "name": "python3"
  },
  "language_info": {
   "codemirror_mode": {
    "name": "ipython",
    "version": 2
   },
   "file_extension": ".py",
   "mimetype": "text/x-python",
   "name": "python",
   "nbconvert_exporter": "python",
   "pygments_lexer": "ipython2",
   "version": "2.7.6"
  }
 },
 "nbformat": 4,
 "nbformat_minor": 0
}