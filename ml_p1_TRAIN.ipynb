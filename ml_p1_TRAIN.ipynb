{
 "cells": [
  {
   "cell_type": "markdown",
   "metadata": {
    "pycharm": {
     "name": "#%% md\n"
    }
   },
   "source": [
    "# *Machine Learning* em Reanimação Neonatal\n",
    "Projeto 1 da Disciplina de Aprendizado de Máquina - PPgEEC/UFRN\n",
    "\n",
    "## Etapa 4 - TRAIN"
   ]
  },
  {
   "cell_type": "markdown",
   "metadata": {
    "pycharm": {
     "name": "#%% md\n"
    }
   },
   "source": [
    "Neste notebook será realizado o treinamento do algoritmo *Decision Tree* utilizando os artefatos criados na etapa de segregação."
   ]
  },
  {
   "cell_type": "markdown",
   "metadata": {
    "pycharm": {
     "name": "#%% md\n"
    }
   },
   "source": [
    "## 1.  Configuração do Ambiente e Leitura de Artefatos"
   ]
  },
  {
   "cell_type": "code",
   "execution_count": 45,
   "metadata": {
    "pycharm": {
     "name": "#%%\n"
    }
   },
   "outputs": [],
   "source": [
    "import logging\n",
    "import wandb\n",
    "import pandas as pd\n",
    "import numpy as np\n",
    "import joblib\n",
    "import matplotlib.pyplot as plt\n",
    "from sklearn.model_selection import train_test_split\n",
    "from sklearn.neighbors import LocalOutlierFactor\n",
    "from sklearn.preprocessing import LabelEncoder\n",
    "from sklearn.preprocessing import OneHotEncoder\n",
    "from sklearn.base import BaseEstimator, TransformerMixin\n",
    "from sklearn.preprocessing import MinMaxScaler\n",
    "from sklearn.preprocessing import StandardScaler\n",
    "from sklearn.preprocessing import OneHotEncoder\n",
    "from sklearn.pipeline import Pipeline, FeatureUnion\n",
    "from sklearn.tree import DecisionTreeClassifier\n",
    "from sklearn.impute import SimpleImputer\n",
    "from sklearn.metrics import fbeta_score, precision_score, recall_score, accuracy_score\n",
    "from sklearn.metrics import classification_report\n",
    "from sklearn.metrics import confusion_matrix\n",
    "from sklearn.metrics import ConfusionMatrixDisplay"
   ]
  },
  {
   "cell_type": "markdown",
   "metadata": {
    "pycharm": {
     "name": "#%% md\n"
    }
   },
   "source": [
    "Login no wandb"
   ]
  },
  {
   "cell_type": "code",
   "execution_count": 46,
   "metadata": {
    "pycharm": {
     "name": "#%%\n"
    }
   },
   "outputs": [
    {
     "name": "stdout",
     "output_type": "stream",
     "text": [
      "\u001B[34m\u001B[1mwandb\u001B[0m: Appending key for api.wandb.ai to your netrc file: /Users/ericcalasans/.netrc\r\n"
     ]
    }
   ],
   "source": [
    "!wandb login c4d070b0b80b59891761b50eb9912749a4af585e --relogin"
   ]
  },
  {
   "cell_type": "markdown",
   "metadata": {
    "pycharm": {
     "name": "#%% md\n"
    }
   },
   "source": [
    "Variáveis globais"
   ]
  },
  {
   "cell_type": "code",
   "execution_count": 47,
   "metadata": {
    "pycharm": {
     "name": "#%%\n"
    }
   },
   "outputs": [],
   "source": [
    "# Tamanho do conjunto de teste(fração do dataset que é utilizada como dados de teste)\n",
    "val_size = 0.3\n",
    "\n",
    "# Coeficiente de aleatoriedade\n",
    "seed = 1618\n",
    "\n",
    "# Variável alvo(target)\n",
    "stratify = 'reanimacao'\n",
    "\n",
    "# Artefato de entrada\n",
    "input_artifact = 'mlreanimacao/train.csv:latest'\n",
    "\n",
    "# Tipo do artefato\n",
    "artifact_type = 'Train'"
   ]
  },
  {
   "cell_type": "markdown",
   "metadata": {
    "pycharm": {
     "name": "#%% md\n"
    }
   },
   "source": [
    "Configurações de log"
   ]
  },
  {
   "cell_type": "code",
   "execution_count": 48,
   "metadata": {
    "pycharm": {
     "name": "#%%\n"
    }
   },
   "outputs": [],
   "source": [
    "logging.basicConfig(level=logging.INFO,\n",
    "                    format=\"%(asctime)s %(message)s\",\n",
    "                    datefmt='%d-%m-%Y %H:%M:%S')\n",
    "\n",
    "# Objeto logging\n",
    "logger = logging.getLogger()"
   ]
  },
  {
   "cell_type": "markdown",
   "metadata": {
    "pycharm": {
     "name": "#%% md\n"
    }
   },
   "source": [
    "Captura de artefato"
   ]
  },
  {
   "cell_type": "code",
   "execution_count": 49,
   "metadata": {
    "pycharm": {
     "name": "#%%\n"
    }
   },
   "outputs": [
    {
     "data": {
      "text/plain": "<IPython.core.display.HTML object>",
      "text/html": "Finishing last run (ID:kcfabfjl) before initializing another..."
     },
     "metadata": {},
     "output_type": "display_data"
    },
    {
     "data": {
      "text/plain": "<IPython.core.display.HTML object>",
      "text/html": "Waiting for W&B process to finish... <strong style=\"color:green\">(success).</strong>"
     },
     "metadata": {},
     "output_type": "display_data"
    },
    {
     "data": {
      "text/plain": "VBox(children=(Label(value='0.001 MB of 0.001 MB uploaded (0.000 MB deduped)\\r'), FloatProgress(value=1.0, max…",
      "application/vnd.jupyter.widget-view+json": {
       "version_major": 2,
       "version_minor": 0,
       "model_id": "1fc7453ee17a49268bb8987d521d2eb5"
      }
     },
     "metadata": {},
     "output_type": "display_data"
    },
    {
     "data": {
      "text/plain": "<IPython.core.display.HTML object>",
      "text/html": "Synced <strong style=\"color:#cdcd00\">glamorous-cloud-57</strong>: <a href=\"https://wandb.ai/ecalasans/mlreanimacao/runs/kcfabfjl\" target=\"_blank\">https://wandb.ai/ecalasans/mlreanimacao/runs/kcfabfjl</a><br/>Synced 5 W&B file(s), 0 media file(s), 0 artifact file(s) and 0 other file(s)"
     },
     "metadata": {},
     "output_type": "display_data"
    },
    {
     "data": {
      "text/plain": "<IPython.core.display.HTML object>",
      "text/html": "Find logs at: <code>./wandb/run-20220525_214748-kcfabfjl/logs</code>"
     },
     "metadata": {},
     "output_type": "display_data"
    },
    {
     "data": {
      "text/plain": "<IPython.core.display.HTML object>",
      "text/html": "Successfully finished last run (ID:kcfabfjl). Initializing new run:<br/>"
     },
     "metadata": {},
     "output_type": "display_data"
    },
    {
     "data": {
      "text/plain": "<IPython.core.display.HTML object>",
      "text/html": "wandb version 0.12.16 is available!  To upgrade, please run:\n $ pip install wandb --upgrade"
     },
     "metadata": {},
     "output_type": "display_data"
    },
    {
     "data": {
      "text/plain": "<IPython.core.display.HTML object>",
      "text/html": "Tracking run with wandb version 0.12.15"
     },
     "metadata": {},
     "output_type": "display_data"
    },
    {
     "data": {
      "text/plain": "<IPython.core.display.HTML object>",
      "text/html": "Run data is saved locally in <code>/Users/ericcalasans/Documents/Projetos/ml_proj1/wandb/run-20220525_215309-2f6xdrgp</code>"
     },
     "metadata": {},
     "output_type": "display_data"
    },
    {
     "data": {
      "text/plain": "<IPython.core.display.HTML object>",
      "text/html": "Syncing run <strong><a href=\"https://wandb.ai/ecalasans/mlreanimacao/runs/2f6xdrgp\" target=\"_blank\">royal-donkey-61</a></strong> to <a href=\"https://wandb.ai/ecalasans/mlreanimacao\" target=\"_blank\">Weights & Biases</a> (<a href=\"https://wandb.me/run\" target=\"_blank\">docs</a>)<br/>"
     },
     "metadata": {},
     "output_type": "display_data"
    },
    {
     "name": "stderr",
     "output_type": "stream",
     "text": [
      "25-05-2022 21:53:23 Baixando artefato e realizando leitura...\n"
     ]
    }
   ],
   "source": [
    "run = wandb.init(project='mlreanimacao', job_type='train')\n",
    "\n",
    "# Registra um log desta ação\n",
    "logger.info(\"Baixando artefato e realizando leitura...\")\n",
    "artifact = run.use_artifact(input_artifact)\n",
    "artifact_file = artifact.file()\n",
    "df_to_split = pd.read_csv(artifact_file)"
   ]
  },
  {
   "cell_type": "markdown",
   "metadata": {
    "pycharm": {
     "name": "#%% md\n"
    }
   },
   "source": [
    "## 3.  Treinamento"
   ]
  },
  {
   "cell_type": "markdown",
   "metadata": {
    "pycharm": {
     "name": "#%% md\n"
    }
   },
   "source": [
    "Divisão do conjunto de treinamento"
   ]
  },
  {
   "cell_type": "code",
   "execution_count": 50,
   "metadata": {
    "pycharm": {
     "name": "#%%\n"
    }
   },
   "outputs": [
    {
     "name": "stderr",
     "output_type": "stream",
     "text": [
      "25-05-2022 21:53:26 Divisão em train/val\n"
     ]
    }
   ],
   "source": [
    "logger.info(\"Divisão em train/val\")\n",
    "\n",
    "x_train, x_val, y_train, y_val = train_test_split(df_to_split.drop(labels=stratify,axis=1),\n",
    "                                                  df_to_split[stratify],\n",
    "                                                  test_size=val_size,\n",
    "                                                  random_state=seed,\n",
    "                                                  shuffle=True,\n",
    "                                                  stratify=df_to_split[stratify])"
   ]
  },
  {
   "cell_type": "code",
   "execution_count": 51,
   "outputs": [
    {
     "data": {
      "text/plain": "293    Masculino\n194    Masculino\n182    Masculino\n46     Masculino\n17     Masculino\n         ...    \n11      Feminino\n243     Feminino\n287    Masculino\n14      Feminino\n72      Feminino\nName: sexo, Length: 267, dtype: object"
     },
     "execution_count": 51,
     "metadata": {},
     "output_type": "execute_result"
    }
   ],
   "source": [
    "x_train.sexo"
   ],
   "metadata": {
    "collapsed": false,
    "pycharm": {
     "name": "#%%\n"
    }
   }
  },
  {
   "cell_type": "code",
   "execution_count": 52,
   "metadata": {
    "pycharm": {
     "name": "#%%\n"
    }
   },
   "outputs": [
    {
     "name": "stderr",
     "output_type": "stream",
     "text": [
      "25-05-2022 21:53:37 x train: (267, 14)\n",
      "25-05-2022 21:53:37 y train: (267,)\n",
      "25-05-2022 21:53:37 x val: (115, 14)\n",
      "25-05-2022 21:53:37 y val: (115,)\n"
     ]
    }
   ],
   "source": [
    "logger.info(\"x train: {}\".format(x_train.shape))\n",
    "logger.info(\"y train: {}\".format(y_train.shape))\n",
    "logger.info(\"x val: {}\".format(x_val.shape))\n",
    "logger.info(\"y val: {}\".format(y_val.shape))"
   ]
  },
  {
   "cell_type": "markdown",
   "metadata": {
    "pycharm": {
     "name": "#%% md\n"
    }
   },
   "source": [
    "### 3.1. Preparação do *Dataset*"
   ]
  },
  {
   "cell_type": "markdown",
   "metadata": {
    "pycharm": {
     "name": "#%% md\n"
    }
   },
   "source": [
    "Remoção de *outliers* - só tem sentido com dados numéricos.\n",
    "\n",
    "Será considerada a *feature* **idade_materna** como possível fonte de *outliers* e um *boxplot* da feature revelará se existe outliers a serem tratados."
   ]
  },
  {
   "cell_type": "code",
   "execution_count": 53,
   "metadata": {
    "pycharm": {
     "name": "#%%\n"
    }
   },
   "outputs": [
    {
     "data": {
      "text/plain": "<Figure size 432x288 with 1 Axes>",
      "image/png": "[encoded data removed]"
     },
     "metadata": {
      "needs_background": "light"
     },
     "output_type": "display_data"
    }
   ],
   "source": [
    "%matplotlib inline\n",
    "plt.boxplot(df_to_split['idade_materna'])\n",
    "plt.title('Outliers em idade_materna')\n",
    "plt.xlabel('idade_materna')\n",
    "plt.tick_params(\n",
    "    axis='x',\n",
    "    bottom=False,\n",
    "    labelbottom=False\n",
    ")\n",
    "plt.show()"
   ]
  },
  {
   "cell_type": "markdown",
   "metadata": {
    "pycharm": {
     "name": "#%% md\n"
    }
   },
   "source": [
    "A princípio não parece haver *outliers* na *feature* porém será deixada a opção de tratamento para os mesmos em caso de surgirem no *dataset*."
   ]
  },
  {
   "cell_type": "code",
   "execution_count": 54,
   "metadata": {
    "pycharm": {
     "name": "#%%\n"
    }
   },
   "outputs": [
    {
     "name": "stderr",
     "output_type": "stream",
     "text": [
      "25-05-2022 21:53:56 Remoção de outliers\n"
     ]
    }
   ],
   "source": [
    "logger.info(\"Remoção de outliers\")\n",
    "\n",
    "# Variável temporária\n",
    "x = x_train['idade_materna'].copy()\n",
    "\n",
    "# Redimensiona variável para adequar ao procedimento - técnica sugerida pela mensagem de erro\n",
    "x = x.values.reshape(-1, 1)\n",
    "\n",
    "# Identifica e prevê outliers em um único passo\n",
    "lof = LocalOutlierFactor()\n",
    "outlier = lof.fit_predict(x)\n",
    "mask = outlier != -1"
   ]
  },
  {
   "cell_type": "code",
   "execution_count": 55,
   "metadata": {
    "pycharm": {
     "name": "#%%\n"
    }
   },
   "outputs": [
    {
     "name": "stderr",
     "output_type": "stream",
     "text": [
      "25-05-2022 21:53:58 x_train shape [original]: (267, 14)\n",
      "25-05-2022 21:53:58 x_train shape [outlier removal]: (259, 14)\n"
     ]
    }
   ],
   "source": [
    "logger.info(\"x_train shape [original]: {}\".format(x_train.shape))\n",
    "logger.info(\"x_train shape [outlier removal]: {}\".format(x_train.loc[mask,:].shape))"
   ]
  },
  {
   "cell_type": "markdown",
   "metadata": {
    "pycharm": {
     "name": "#%% md\n"
    }
   },
   "source": [
    "Após execução do passo anterior, percebe-se que o algoritmo considerou a existência de 12 *outliers* e os removeu, reduzindo o tamanho do *dataset*.  Desta forma o conjunto de treinamento será atualizado."
   ]
  },
  {
   "cell_type": "code",
   "execution_count": 56,
   "metadata": {
    "pycharm": {
     "name": "#%%\n"
    }
   },
   "outputs": [],
   "source": [
    "x_train = x_train.loc[mask,:].copy()\n",
    "y_train = y_train[mask].copy()"
   ]
  },
  {
   "cell_type": "code",
   "execution_count": 62,
   "outputs": [
    {
     "data": {
      "text/plain": "     idade_materna    fumo    alcool psicoativas    tpp    dpp oligoamnio  \\\n293           30.0  n_fumo  n_alcool     n_psico  s_tpp  n_dpp    n_oligo   \n194           33.0  n_fumo  n_alcool     n_psico  n_tpp  n_dpp    n_oligo   \n182           39.0  n_fumo  n_alcool     n_psico  n_tpp  n_dpp    n_oligo   \n46            25.0  n_fumo  n_alcool     n_psico  s_tpp  n_dpp    n_oligo   \n17            26.0  n_fumo  n_alcool     n_psico  s_tpp  n_dpp    n_oligo   \n..             ...     ...       ...         ...    ...    ...        ...   \n11            34.0  n_fumo  n_alcool     n_psico  n_tpp  n_dpp    n_oligo   \n243           34.0  n_fumo  n_alcool     d_psico  s_tpp  n_dpp    n_oligo   \n287           25.0  n_fumo  n_alcool     n_psico  n_tpp  n_dpp    n_oligo   \n14            24.0  n_fumo  n_alcool     n_psico  s_tpp  d_dpp    n_oligo   \n72            24.0  n_fumo  n_alcool     n_psico  n_tpp  n_dpp    n_oligo   \n\n       sifilis    hiv covid_mae    dheg    dm       sexo  apgar_1_minuto  \n293  n_sifilis  n_hiv   n_covid  n_dheg  n_dm  Masculino             1.0  \n194  n_sifilis  n_hiv   n_covid  n_dheg  s_dm  Masculino             9.0  \n182  s_sifilis  n_hiv   s_covid  n_dheg  n_dm  Masculino             6.0  \n46   n_sifilis  n_hiv   n_covid  n_dheg  s_dm  Masculino             8.0  \n17   n_sifilis  n_hiv   n_covid  s_dheg  n_dm  Masculino             9.0  \n..         ...    ...       ...     ...   ...        ...             ...  \n11   n_sifilis  n_hiv   n_covid  s_dheg  s_dm   Feminino             3.0  \n243  n_sifilis  n_hiv   n_covid  n_dheg  n_dm   Feminino             9.0  \n287  s_sifilis  n_hiv   n_covid  s_dheg  n_dm  Masculino             8.0  \n14   n_sifilis  n_hiv   s_covid  n_dheg  n_dm   Feminino             4.0  \n72   n_sifilis  n_hiv   n_covid  s_dheg  s_dm   Feminino             8.0  \n\n[259 rows x 14 columns]",
      "text/html": "<div>\n<style scoped>\n    .dataframe tbody tr th:only-of-type {\n        vertical-align: middle;\n    }\n\n    .dataframe tbody tr th {\n        vertical-align: top;\n    }\n\n    .dataframe thead th {\n        text-align: right;\n    }\n</style>\n<table border=\"1\" class=\"dataframe\">\n  <thead>\n    <tr style=\"text-align: right;\">\n      <th></th>\n      <th>idade_materna</th>\n      <th>fumo</th>\n      <th>alcool</th>\n      <th>psicoativas</th>\n      <th>tpp</th>\n      <th>dpp</th>\n      <th>oligoamnio</th>\n      <th>sifilis</th>\n      <th>hiv</th>\n      <th>covid_mae</th>\n      <th>dheg</th>\n      <th>dm</th>\n      <th>sexo</th>\n      <th>apgar_1_minuto</th>\n    </tr>\n  </thead>\n  <tbody>\n    <tr>\n      <th>293</th>\n      <td>30.0</td>\n      <td>n_fumo</td>\n      <td>n_alcool</td>\n      <td>n_psico</td>\n      <td>s_tpp</td>\n      <td>n_dpp</td>\n      <td>n_oligo</td>\n      <td>n_sifilis</td>\n      <td>n_hiv</td>\n      <td>n_covid</td>\n      <td>n_dheg</td>\n      <td>n_dm</td>\n      <td>Masculino</td>\n      <td>1.0</td>\n    </tr>\n    <tr>\n      <th>194</th>\n      <td>33.0</td>\n      <td>n_fumo</td>\n      <td>n_alcool</td>\n      <td>n_psico</td>\n      <td>n_tpp</td>\n      <td>n_dpp</td>\n      <td>n_oligo</td>\n      <td>n_sifilis</td>\n      <td>n_hiv</td>\n      <td>n_covid</td>\n      <td>n_dheg</td>\n      <td>s_dm</td>\n      <td>Masculino</td>\n      <td>9.0</td>\n    </tr>\n    <tr>\n      <th>182</th>\n      <td>39.0</td>\n      <td>n_fumo</td>\n      <td>n_alcool</td>\n      <td>n_psico</td>\n      <td>n_tpp</td>\n      <td>n_dpp</td>\n      <td>n_oligo</td>\n      <td>s_sifilis</td>\n      <td>n_hiv</td>\n      <td>s_covid</td>\n      <td>n_dheg</td>\n      <td>n_dm</td>\n      <td>Masculino</td>\n      <td>6.0</td>\n    </tr>\n    <tr>\n      <th>46</th>\n      <td>25.0</td>\n      <td>n_fumo</td>\n      <td>n_alcool</td>\n      <td>n_psico</td>\n      <td>s_tpp</td>\n      <td>n_dpp</td>\n      <td>n_oligo</td>\n      <td>n_sifilis</td>\n      <td>n_hiv</td>\n      <td>n_covid</td>\n      <td>n_dheg</td>\n      <td>s_dm</td>\n      <td>Masculino</td>\n      <td>8.0</td>\n    </tr>\n    <tr>\n      <th>17</th>\n      <td>26.0</td>\n      <td>n_fumo</td>\n      <td>n_alcool</td>\n      <td>n_psico</td>\n      <td>s_tpp</td>\n      <td>n_dpp</td>\n      <td>n_oligo</td>\n      <td>n_sifilis</td>\n      <td>n_hiv</td>\n      <td>n_covid</td>\n      <td>s_dheg</td>\n      <td>n_dm</td>\n      <td>Masculino</td>\n      <td>9.0</td>\n    </tr>\n    <tr>\n      <th>...</th>\n      <td>...</td>\n      <td>...</td>\n      <td>...</td>\n      <td>...</td>\n      <td>...</td>\n      <td>...</td>\n      <td>...</td>\n      <td>...</td>\n      <td>...</td>\n      <td>...</td>\n      <td>...</td>\n      <td>...</td>\n      <td>...</td>\n      <td>...</td>\n    </tr>\n    <tr>\n      <th>11</th>\n      <td>34.0</td>\n      <td>n_fumo</td>\n      <td>n_alcool</td>\n      <td>n_psico</td>\n      <td>n_tpp</td>\n      <td>n_dpp</td>\n      <td>n_oligo</td>\n      <td>n_sifilis</td>\n      <td>n_hiv</td>\n      <td>n_covid</td>\n      <td>s_dheg</td>\n      <td>s_dm</td>\n      <td>Feminino</td>\n      <td>3.0</td>\n    </tr>\n    <tr>\n      <th>243</th>\n      <td>34.0</td>\n      <td>n_fumo</td>\n      <td>n_alcool</td>\n      <td>d_psico</td>\n      <td>s_tpp</td>\n      <td>n_dpp</td>\n      <td>n_oligo</td>\n      <td>n_sifilis</td>\n      <td>n_hiv</td>\n      <td>n_covid</td>\n      <td>n_dheg</td>\n      <td>n_dm</td>\n      <td>Feminino</td>\n      <td>9.0</td>\n    </tr>\n    <tr>\n      <th>287</th>\n      <td>25.0</td>\n      <td>n_fumo</td>\n      <td>n_alcool</td>\n      <td>n_psico</td>\n      <td>n_tpp</td>\n      <td>n_dpp</td>\n      <td>n_oligo</td>\n      <td>s_sifilis</td>\n      <td>n_hiv</td>\n      <td>n_covid</td>\n      <td>s_dheg</td>\n      <td>n_dm</td>\n      <td>Masculino</td>\n      <td>8.0</td>\n    </tr>\n    <tr>\n      <th>14</th>\n      <td>24.0</td>\n      <td>n_fumo</td>\n      <td>n_alcool</td>\n      <td>n_psico</td>\n      <td>s_tpp</td>\n      <td>d_dpp</td>\n      <td>n_oligo</td>\n      <td>n_sifilis</td>\n      <td>n_hiv</td>\n      <td>s_covid</td>\n      <td>n_dheg</td>\n      <td>n_dm</td>\n      <td>Feminino</td>\n      <td>4.0</td>\n    </tr>\n    <tr>\n      <th>72</th>\n      <td>24.0</td>\n      <td>n_fumo</td>\n      <td>n_alcool</td>\n      <td>n_psico</td>\n      <td>n_tpp</td>\n      <td>n_dpp</td>\n      <td>n_oligo</td>\n      <td>n_sifilis</td>\n      <td>n_hiv</td>\n      <td>n_covid</td>\n      <td>s_dheg</td>\n      <td>s_dm</td>\n      <td>Feminino</td>\n      <td>8.0</td>\n    </tr>\n  </tbody>\n</table>\n<p>259 rows × 14 columns</p>\n</div>"
     },
     "execution_count": 62,
     "metadata": {},
     "output_type": "execute_result"
    }
   ],
   "source": [
    "x_train"
   ],
   "metadata": {
    "collapsed": false,
    "pycharm": {
     "name": "#%%\n"
    }
   }
  },
  {
   "cell_type": "markdown",
   "metadata": {
    "pycharm": {
     "name": "#%% md\n"
    }
   },
   "source": [
    "### 3.2.  Codificação da Variável *Target*"
   ]
  },
  {
   "cell_type": "markdown",
   "metadata": {
    "pycharm": {
     "name": "#%% md\n"
    }
   },
   "source": [
    "Neste passo a variável *target* categórica terá seus valores de texto substituídos por uma valor numérico.  Originalmente, no *dataset* recebido da API, as variáveis são já codificadas em valores numéricos pelo operador do sistema de alimentação dos dados via dicionário de dados.  No entanto, este processo foi revertido aqui na etapa de preprocessamento para fins didáticos."
   ]
  },
  {
   "cell_type": "code",
   "execution_count": 63,
   "metadata": {
    "pycharm": {
     "name": "#%%\n"
    }
   },
   "outputs": [
    {
     "data": {
      "text/plain": "array([1, 0, 1, 0, 0, 0, 1, 0, 1, 0, 1, 0, 1, 1, 1, 0, 0, 1, 0, 0, 0, 1,\n       1, 0, 1, 1, 0, 0, 1, 0, 0, 0, 0, 0, 0, 0, 0, 0, 1, 0, 1, 0, 1, 0,\n       0, 0, 1, 1, 0, 1, 0, 0, 1, 0, 1, 1, 0, 0, 1, 0, 0, 0, 0, 0, 0, 1,\n       1, 1, 1, 0, 1, 0, 1, 0, 0, 0, 0, 0, 1, 1, 1, 0, 0, 1, 0, 0, 0, 1,\n       1, 1, 0, 0, 1, 1, 0, 1, 1, 0, 0, 1, 0, 0, 1, 1, 1, 0, 1, 1, 1, 1,\n       1, 1, 0, 1, 0, 1, 0, 0, 0, 0, 1, 0, 0, 0, 0, 1, 0, 1, 0, 0, 0, 0,\n       0, 0, 0, 0, 1, 1, 0, 0, 1, 1, 1, 1, 0, 1, 0, 0, 1, 1, 0, 1, 0, 0,\n       0, 0, 0, 0, 0, 0, 0, 1, 0, 1, 1, 1, 1, 1, 1, 0, 0, 1, 0, 0, 0, 1,\n       1, 1, 1, 1, 0, 0, 1, 1, 1, 0, 1, 0, 0, 0, 0, 0, 0, 0, 0, 0, 0, 1,\n       0, 1, 1, 1, 0, 0, 0, 0, 1, 0, 1, 0, 1, 1, 1, 1, 0, 1, 0, 0, 1, 0,\n       1, 1, 1, 0, 0, 1, 0, 1, 0, 0, 0, 0, 1, 0, 0, 0, 0, 0, 1, 0, 0, 0,\n       0, 0, 0, 1, 0, 0, 0, 0, 1, 0, 0, 0, 1, 0, 0, 1, 0])"
     },
     "execution_count": 63,
     "metadata": {},
     "output_type": "execute_result"
    }
   ],
   "source": [
    "y_train"
   ]
  },
  {
   "cell_type": "code",
   "execution_count": 64,
   "outputs": [
    {
     "name": "stderr",
     "output_type": "stream",
     "text": [
      "25-05-2022 21:55:07 Codificando variável target\n",
      "25-05-2022 21:55:07 Classes [0, 1]: [0 1]\n"
     ]
    }
   ],
   "source": [
    "logger.info(\"Codificando variável target\")\n",
    "# Objeto codificador\n",
    "le = LabelEncoder()\n",
    "\n",
    "# Treinamento e transformação do conjunto de treinamento\n",
    "y_train = le.fit_transform(y_train)\n",
    "\n",
    "# Transformação do conjunto de validação - não é necessário treinamento pois já\n",
    "# foi realizado\n",
    "y_val = le.transform(y_val)\n",
    "\n",
    "logger.info(\"Classes [0, 1]: {}\".format(le.inverse_transform([0, 1])))"
   ],
   "metadata": {
    "collapsed": false,
    "pycharm": {
     "name": "#%%\n"
    }
   }
  },
  {
   "cell_type": "code",
   "execution_count": 65,
   "metadata": {
    "pycharm": {
     "name": "#%%\n"
    }
   },
   "outputs": [
    {
     "data": {
      "text/plain": "array([1, 1, 1, 1, 0, 1, 0, 0, 0, 0, 1, 1, 1, 0, 0, 1, 1, 1, 0, 0, 0, 0,\n       1, 1, 0, 1, 0, 1, 1, 0, 0, 0, 1, 0, 1, 1, 1, 1, 1, 0, 0, 0, 1, 0,\n       0, 1, 0, 0, 0, 0, 1, 0, 0, 0, 0, 1, 1, 0, 1, 1, 0, 1, 0, 1, 0, 0,\n       0, 1, 0, 0, 0, 0, 0, 1, 0, 0, 0, 0, 0, 0, 1, 0, 1, 1, 0, 1, 1, 0,\n       0, 0, 1, 0, 1, 0, 1, 0, 1, 0, 1, 1, 0, 0, 0, 0, 0, 0, 1, 0, 0, 1,\n       0, 1, 0, 0, 0])"
     },
     "execution_count": 65,
     "metadata": {},
     "output_type": "execute_result"
    }
   ],
   "source": [
    "y_val"
   ]
  },
  {
   "cell_type": "markdown",
   "metadata": {
    "pycharm": {
     "name": "#%% md\n"
    }
   },
   "source": [
    "### 3.3. Codificação das *Features*"
   ]
  },
  {
   "cell_type": "markdown",
   "source": [
    "#### 3.3.1. *Features* Categóricas"
   ],
   "metadata": {
    "collapsed": false,
    "pycharm": {
     "name": "#%% md\n"
    }
   }
  },
  {
   "cell_type": "code",
   "execution_count": 66,
   "outputs": [
    {
     "data": {
      "text/plain": "(259, 14)"
     },
     "execution_count": 66,
     "metadata": {},
     "output_type": "execute_result"
    }
   ],
   "source": [
    "x_train.shape"
   ],
   "metadata": {
    "collapsed": false,
    "pycharm": {
     "name": "#%%\n"
    }
   }
  },
  {
   "cell_type": "markdown",
   "source": [
    "Seleciona as *features* categóricas"
   ],
   "metadata": {
    "collapsed": false,
    "pycharm": {
     "name": "#%% md\n"
    }
   }
  },
  {
   "cell_type": "code",
   "execution_count": 67,
   "outputs": [
    {
     "data": {
      "text/plain": "['fumo',\n 'alcool',\n 'psicoativas',\n 'tpp',\n 'dpp',\n 'oligoamnio',\n 'sifilis',\n 'hiv',\n 'covid_mae',\n 'dheg',\n 'dm',\n 'sexo']"
     },
     "execution_count": 67,
     "metadata": {},
     "output_type": "execute_result"
    }
   ],
   "source": [
    "colunas = x_train.select_dtypes('object').columns.to_list()\n",
    "colunas"
   ],
   "metadata": {
    "collapsed": false,
    "pycharm": {
     "name": "#%%\n"
    }
   }
  },
  {
   "cell_type": "code",
   "execution_count": 68,
   "outputs": [
    {
     "data": {
      "text/plain": "array(['n_fumo', 'd_fumo', 's_fumo'], dtype=object)"
     },
     "execution_count": 68,
     "metadata": {},
     "output_type": "execute_result"
    }
   ],
   "source": [
    "x_val.fumo.unique()"
   ],
   "metadata": {
    "collapsed": false,
    "pycharm": {
     "name": "#%%\n"
    }
   }
  },
  {
   "cell_type": "code",
   "execution_count": 69,
   "outputs": [],
   "source": [
    "for col in colunas:\n",
    "    # Cria o objeto OneHotEncoder\n",
    "    one_hot = OneHotEncoder(sparse=False, drop='first')\n",
    "\n",
    "    # Treinamento do codificador\n",
    "    one_hot.fit(x_train[col].values.reshape(-1,1))\n",
    "\n",
    "    # Criação de novas colunas\n",
    "    x_train[one_hot.get_feature_names_out()] = one_hot.transform(x_train[col].values.reshape(-1,1))\n",
    "    x_val[one_hot.get_feature_names_out()] = one_hot.transform(x_val[col].values.reshape(-1,1))"
   ],
   "metadata": {
    "collapsed": false,
    "pycharm": {
     "name": "#%%\n"
    }
   }
  },
  {
   "cell_type": "code",
   "execution_count": 70,
   "outputs": [
    {
     "data": {
      "text/plain": "     idade_materna    fumo    alcool psicoativas    tpp    dpp oligoamnio  \\\n293           30.0  n_fumo  n_alcool     n_psico  s_tpp  n_dpp    n_oligo   \n194           33.0  n_fumo  n_alcool     n_psico  n_tpp  n_dpp    n_oligo   \n182           39.0  n_fumo  n_alcool     n_psico  n_tpp  n_dpp    n_oligo   \n46            25.0  n_fumo  n_alcool     n_psico  s_tpp  n_dpp    n_oligo   \n17            26.0  n_fumo  n_alcool     n_psico  s_tpp  n_dpp    n_oligo   \n..             ...     ...       ...         ...    ...    ...        ...   \n11            34.0  n_fumo  n_alcool     n_psico  n_tpp  n_dpp    n_oligo   \n243           34.0  n_fumo  n_alcool     d_psico  s_tpp  n_dpp    n_oligo   \n287           25.0  n_fumo  n_alcool     n_psico  n_tpp  n_dpp    n_oligo   \n14            24.0  n_fumo  n_alcool     n_psico  s_tpp  d_dpp    n_oligo   \n72            24.0  n_fumo  n_alcool     n_psico  n_tpp  n_dpp    n_oligo   \n\n       sifilis    hiv covid_mae  ... x0_s_sifilis x0_n_hiv x0_s_hiv  \\\n293  n_sifilis  n_hiv   n_covid  ...          0.0      1.0      0.0   \n194  n_sifilis  n_hiv   n_covid  ...          0.0      1.0      0.0   \n182  s_sifilis  n_hiv   s_covid  ...          1.0      1.0      0.0   \n46   n_sifilis  n_hiv   n_covid  ...          0.0      1.0      0.0   \n17   n_sifilis  n_hiv   n_covid  ...          0.0      1.0      0.0   \n..         ...    ...       ...  ...          ...      ...      ...   \n11   n_sifilis  n_hiv   n_covid  ...          0.0      1.0      0.0   \n243  n_sifilis  n_hiv   n_covid  ...          0.0      1.0      0.0   \n287  s_sifilis  n_hiv   n_covid  ...          1.0      1.0      0.0   \n14   n_sifilis  n_hiv   s_covid  ...          0.0      1.0      0.0   \n72   n_sifilis  n_hiv   n_covid  ...          0.0      1.0      0.0   \n\n     x0_n_covid  x0_s_covid  x0_n_dheg  x0_s_dheg  x0_n_dm  x0_s_dm  \\\n293         1.0         0.0        1.0        0.0      1.0      0.0   \n194         1.0         0.0        1.0        0.0      0.0      1.0   \n182         0.0         1.0        1.0        0.0      1.0      0.0   \n46          1.0         0.0        1.0        0.0      0.0      1.0   \n17          1.0         0.0        0.0        1.0      1.0      0.0   \n..          ...         ...        ...        ...      ...      ...   \n11          1.0         0.0        0.0        1.0      0.0      1.0   \n243         1.0         0.0        1.0        0.0      1.0      0.0   \n287         1.0         0.0        0.0        1.0      1.0      0.0   \n14          0.0         1.0        1.0        0.0      1.0      0.0   \n72          1.0         0.0        0.0        1.0      0.0      1.0   \n\n     x0_Masculino  \n293           1.0  \n194           1.0  \n182           1.0  \n46            1.0  \n17            1.0  \n..            ...  \n11            0.0  \n243           0.0  \n287           1.0  \n14            0.0  \n72            0.0  \n\n[259 rows x 37 columns]",
      "text/html": "<div>\n<style scoped>\n    .dataframe tbody tr th:only-of-type {\n        vertical-align: middle;\n    }\n\n    .dataframe tbody tr th {\n        vertical-align: top;\n    }\n\n    .dataframe thead th {\n        text-align: right;\n    }\n</style>\n<table border=\"1\" class=\"dataframe\">\n  <thead>\n    <tr style=\"text-align: right;\">\n      <th></th>\n      <th>idade_materna</th>\n      <th>fumo</th>\n      <th>alcool</th>\n      <th>psicoativas</th>\n      <th>tpp</th>\n      <th>dpp</th>\n      <th>oligoamnio</th>\n      <th>sifilis</th>\n      <th>hiv</th>\n      <th>covid_mae</th>\n      <th>...</th>\n      <th>x0_s_sifilis</th>\n      <th>x0_n_hiv</th>\n      <th>x0_s_hiv</th>\n      <th>x0_n_covid</th>\n      <th>x0_s_covid</th>\n      <th>x0_n_dheg</th>\n      <th>x0_s_dheg</th>\n      <th>x0_n_dm</th>\n      <th>x0_s_dm</th>\n      <th>x0_Masculino</th>\n    </tr>\n  </thead>\n  <tbody>\n    <tr>\n      <th>293</th>\n      <td>30.0</td>\n      <td>n_fumo</td>\n      <td>n_alcool</td>\n      <td>n_psico</td>\n      <td>s_tpp</td>\n      <td>n_dpp</td>\n      <td>n_oligo</td>\n      <td>n_sifilis</td>\n      <td>n_hiv</td>\n      <td>n_covid</td>\n      <td>...</td>\n      <td>0.0</td>\n      <td>1.0</td>\n      <td>0.0</td>\n      <td>1.0</td>\n      <td>0.0</td>\n      <td>1.0</td>\n      <td>0.0</td>\n      <td>1.0</td>\n      <td>0.0</td>\n      <td>1.0</td>\n    </tr>\n    <tr>\n      <th>194</th>\n      <td>33.0</td>\n      <td>n_fumo</td>\n      <td>n_alcool</td>\n      <td>n_psico</td>\n      <td>n_tpp</td>\n      <td>n_dpp</td>\n      <td>n_oligo</td>\n      <td>n_sifilis</td>\n      <td>n_hiv</td>\n      <td>n_covid</td>\n      <td>...</td>\n      <td>0.0</td>\n      <td>1.0</td>\n      <td>0.0</td>\n      <td>1.0</td>\n      <td>0.0</td>\n      <td>1.0</td>\n      <td>0.0</td>\n      <td>0.0</td>\n      <td>1.0</td>\n      <td>1.0</td>\n    </tr>\n    <tr>\n      <th>182</th>\n      <td>39.0</td>\n      <td>n_fumo</td>\n      <td>n_alcool</td>\n      <td>n_psico</td>\n      <td>n_tpp</td>\n      <td>n_dpp</td>\n      <td>n_oligo</td>\n      <td>s_sifilis</td>\n      <td>n_hiv</td>\n      <td>s_covid</td>\n      <td>...</td>\n      <td>1.0</td>\n      <td>1.0</td>\n      <td>0.0</td>\n      <td>0.0</td>\n      <td>1.0</td>\n      <td>1.0</td>\n      <td>0.0</td>\n      <td>1.0</td>\n      <td>0.0</td>\n      <td>1.0</td>\n    </tr>\n    <tr>\n      <th>46</th>\n      <td>25.0</td>\n      <td>n_fumo</td>\n      <td>n_alcool</td>\n      <td>n_psico</td>\n      <td>s_tpp</td>\n      <td>n_dpp</td>\n      <td>n_oligo</td>\n      <td>n_sifilis</td>\n      <td>n_hiv</td>\n      <td>n_covid</td>\n      <td>...</td>\n      <td>0.0</td>\n      <td>1.0</td>\n      <td>0.0</td>\n      <td>1.0</td>\n      <td>0.0</td>\n      <td>1.0</td>\n      <td>0.0</td>\n      <td>0.0</td>\n      <td>1.0</td>\n      <td>1.0</td>\n    </tr>\n    <tr>\n      <th>17</th>\n      <td>26.0</td>\n      <td>n_fumo</td>\n      <td>n_alcool</td>\n      <td>n_psico</td>\n      <td>s_tpp</td>\n      <td>n_dpp</td>\n      <td>n_oligo</td>\n      <td>n_sifilis</td>\n      <td>n_hiv</td>\n      <td>n_covid</td>\n      <td>...</td>\n      <td>0.0</td>\n      <td>1.0</td>\n      <td>0.0</td>\n      <td>1.0</td>\n      <td>0.0</td>\n      <td>0.0</td>\n      <td>1.0</td>\n      <td>1.0</td>\n      <td>0.0</td>\n      <td>1.0</td>\n    </tr>\n    <tr>\n      <th>...</th>\n      <td>...</td>\n      <td>...</td>\n      <td>...</td>\n      <td>...</td>\n      <td>...</td>\n      <td>...</td>\n      <td>...</td>\n      <td>...</td>\n      <td>...</td>\n      <td>...</td>\n      <td>...</td>\n      <td>...</td>\n      <td>...</td>\n      <td>...</td>\n      <td>...</td>\n      <td>...</td>\n      <td>...</td>\n      <td>...</td>\n      <td>...</td>\n      <td>...</td>\n      <td>...</td>\n    </tr>\n    <tr>\n      <th>11</th>\n      <td>34.0</td>\n      <td>n_fumo</td>\n      <td>n_alcool</td>\n      <td>n_psico</td>\n      <td>n_tpp</td>\n      <td>n_dpp</td>\n      <td>n_oligo</td>\n      <td>n_sifilis</td>\n      <td>n_hiv</td>\n      <td>n_covid</td>\n      <td>...</td>\n      <td>0.0</td>\n      <td>1.0</td>\n      <td>0.0</td>\n      <td>1.0</td>\n      <td>0.0</td>\n      <td>0.0</td>\n      <td>1.0</td>\n      <td>0.0</td>\n      <td>1.0</td>\n      <td>0.0</td>\n    </tr>\n    <tr>\n      <th>243</th>\n      <td>34.0</td>\n      <td>n_fumo</td>\n      <td>n_alcool</td>\n      <td>d_psico</td>\n      <td>s_tpp</td>\n      <td>n_dpp</td>\n      <td>n_oligo</td>\n      <td>n_sifilis</td>\n      <td>n_hiv</td>\n      <td>n_covid</td>\n      <td>...</td>\n      <td>0.0</td>\n      <td>1.0</td>\n      <td>0.0</td>\n      <td>1.0</td>\n      <td>0.0</td>\n      <td>1.0</td>\n      <td>0.0</td>\n      <td>1.0</td>\n      <td>0.0</td>\n      <td>0.0</td>\n    </tr>\n    <tr>\n      <th>287</th>\n      <td>25.0</td>\n      <td>n_fumo</td>\n      <td>n_alcool</td>\n      <td>n_psico</td>\n      <td>n_tpp</td>\n      <td>n_dpp</td>\n      <td>n_oligo</td>\n      <td>s_sifilis</td>\n      <td>n_hiv</td>\n      <td>n_covid</td>\n      <td>...</td>\n      <td>1.0</td>\n      <td>1.0</td>\n      <td>0.0</td>\n      <td>1.0</td>\n      <td>0.0</td>\n      <td>0.0</td>\n      <td>1.0</td>\n      <td>1.0</td>\n      <td>0.0</td>\n      <td>1.0</td>\n    </tr>\n    <tr>\n      <th>14</th>\n      <td>24.0</td>\n      <td>n_fumo</td>\n      <td>n_alcool</td>\n      <td>n_psico</td>\n      <td>s_tpp</td>\n      <td>d_dpp</td>\n      <td>n_oligo</td>\n      <td>n_sifilis</td>\n      <td>n_hiv</td>\n      <td>s_covid</td>\n      <td>...</td>\n      <td>0.0</td>\n      <td>1.0</td>\n      <td>0.0</td>\n      <td>0.0</td>\n      <td>1.0</td>\n      <td>1.0</td>\n      <td>0.0</td>\n      <td>1.0</td>\n      <td>0.0</td>\n      <td>0.0</td>\n    </tr>\n    <tr>\n      <th>72</th>\n      <td>24.0</td>\n      <td>n_fumo</td>\n      <td>n_alcool</td>\n      <td>n_psico</td>\n      <td>n_tpp</td>\n      <td>n_dpp</td>\n      <td>n_oligo</td>\n      <td>n_sifilis</td>\n      <td>n_hiv</td>\n      <td>n_covid</td>\n      <td>...</td>\n      <td>0.0</td>\n      <td>1.0</td>\n      <td>0.0</td>\n      <td>1.0</td>\n      <td>0.0</td>\n      <td>0.0</td>\n      <td>1.0</td>\n      <td>0.0</td>\n      <td>1.0</td>\n      <td>0.0</td>\n    </tr>\n  </tbody>\n</table>\n<p>259 rows × 37 columns</p>\n</div>"
     },
     "execution_count": 70,
     "metadata": {},
     "output_type": "execute_result"
    }
   ],
   "source": [
    "x_train"
   ],
   "metadata": {
    "collapsed": false,
    "pycharm": {
     "name": "#%%\n"
    }
   }
  },
  {
   "cell_type": "code",
   "execution_count": 71,
   "outputs": [
    {
     "data": {
      "text/plain": "     idade_materna    fumo    alcool psicoativas    tpp    dpp oligoamnio  \\\n306           35.0  n_fumo  n_alcool     n_psico  n_tpp  n_dpp    n_oligo   \n156           27.0  n_fumo  n_alcool     n_psico  n_tpp  n_dpp    n_oligo   \n282           28.0  n_fumo  n_alcool     n_psico  n_tpp  s_dpp    n_oligo   \n281           42.0  n_fumo  n_alcool     n_psico  s_tpp  n_dpp    s_oligo   \n334           40.0  n_fumo  n_alcool     n_psico  s_tpp  s_dpp    n_oligo   \n..             ...     ...       ...         ...    ...    ...        ...   \n27            21.0  d_fumo  d_alcool     d_psico  n_tpp  n_dpp    d_oligo   \n370           34.0  n_fumo  n_alcool     n_psico  s_tpp  n_dpp    n_oligo   \n18            15.0  n_fumo  n_alcool     n_psico  n_tpp  n_dpp    n_oligo   \n172           35.0  n_fumo  n_alcool     n_psico  n_tpp  s_dpp    n_oligo   \n379           33.0  n_fumo  n_alcool     n_psico  n_tpp  n_dpp    n_oligo   \n\n       sifilis    hiv covid_mae  ... x0_s_sifilis x0_n_hiv x0_s_hiv  \\\n306  n_sifilis  d_hiv   s_covid  ...          0.0      0.0      0.0   \n156  n_sifilis  n_hiv   n_covid  ...          0.0      1.0      0.0   \n282  n_sifilis  n_hiv   n_covid  ...          0.0      1.0      0.0   \n281  n_sifilis  n_hiv   n_covid  ...          0.0      1.0      0.0   \n334  s_sifilis  n_hiv   n_covid  ...          1.0      1.0      0.0   \n..         ...    ...       ...  ...          ...      ...      ...   \n27   d_sifilis  d_hiv   d_covid  ...          0.0      0.0      0.0   \n370  s_sifilis  n_hiv   n_covid  ...          1.0      1.0      0.0   \n18   n_sifilis  n_hiv   n_covid  ...          0.0      1.0      0.0   \n172  n_sifilis  n_hiv   n_covid  ...          0.0      1.0      0.0   \n379  n_sifilis  n_hiv   n_covid  ...          0.0      1.0      0.0   \n\n     x0_n_covid  x0_s_covid  x0_n_dheg  x0_s_dheg  x0_n_dm  x0_s_dm  \\\n306         0.0         1.0        1.0        0.0      0.0      1.0   \n156         1.0         0.0        0.0        1.0      1.0      0.0   \n282         1.0         0.0        1.0        0.0      1.0      0.0   \n281         1.0         0.0        0.0        1.0      1.0      0.0   \n334         1.0         0.0        0.0        1.0      1.0      0.0   \n..          ...         ...        ...        ...      ...      ...   \n27          0.0         0.0        0.0        0.0      0.0      0.0   \n370         1.0         0.0        1.0        0.0      1.0      0.0   \n18          1.0         0.0        0.0        1.0      1.0      0.0   \n172         1.0         0.0        0.0        1.0      1.0      0.0   \n379         1.0         0.0        1.0        0.0      1.0      0.0   \n\n     x0_Masculino  \n306           1.0  \n156           1.0  \n282           0.0  \n281           1.0  \n334           1.0  \n..            ...  \n27            1.0  \n370           0.0  \n18            0.0  \n172           1.0  \n379           1.0  \n\n[115 rows x 37 columns]",
      "text/html": "<div>\n<style scoped>\n    .dataframe tbody tr th:only-of-type {\n        vertical-align: middle;\n    }\n\n    .dataframe tbody tr th {\n        vertical-align: top;\n    }\n\n    .dataframe thead th {\n        text-align: right;\n    }\n</style>\n<table border=\"1\" class=\"dataframe\">\n  <thead>\n    <tr style=\"text-align: right;\">\n      <th></th>\n      <th>idade_materna</th>\n      <th>fumo</th>\n      <th>alcool</th>\n      <th>psicoativas</th>\n      <th>tpp</th>\n      <th>dpp</th>\n      <th>oligoamnio</th>\n      <th>sifilis</th>\n      <th>hiv</th>\n      <th>covid_mae</th>\n      <th>...</th>\n      <th>x0_s_sifilis</th>\n      <th>x0_n_hiv</th>\n      <th>x0_s_hiv</th>\n      <th>x0_n_covid</th>\n      <th>x0_s_covid</th>\n      <th>x0_n_dheg</th>\n      <th>x0_s_dheg</th>\n      <th>x0_n_dm</th>\n      <th>x0_s_dm</th>\n      <th>x0_Masculino</th>\n    </tr>\n  </thead>\n  <tbody>\n    <tr>\n      <th>306</th>\n      <td>35.0</td>\n      <td>n_fumo</td>\n      <td>n_alcool</td>\n      <td>n_psico</td>\n      <td>n_tpp</td>\n      <td>n_dpp</td>\n      <td>n_oligo</td>\n      <td>n_sifilis</td>\n      <td>d_hiv</td>\n      <td>s_covid</td>\n      <td>...</td>\n      <td>0.0</td>\n      <td>0.0</td>\n      <td>0.0</td>\n      <td>0.0</td>\n      <td>1.0</td>\n      <td>1.0</td>\n      <td>0.0</td>\n      <td>0.0</td>\n      <td>1.0</td>\n      <td>1.0</td>\n    </tr>\n    <tr>\n      <th>156</th>\n      <td>27.0</td>\n      <td>n_fumo</td>\n      <td>n_alcool</td>\n      <td>n_psico</td>\n      <td>n_tpp</td>\n      <td>n_dpp</td>\n      <td>n_oligo</td>\n      <td>n_sifilis</td>\n      <td>n_hiv</td>\n      <td>n_covid</td>\n      <td>...</td>\n      <td>0.0</td>\n      <td>1.0</td>\n      <td>0.0</td>\n      <td>1.0</td>\n      <td>0.0</td>\n      <td>0.0</td>\n      <td>1.0</td>\n      <td>1.0</td>\n      <td>0.0</td>\n      <td>1.0</td>\n    </tr>\n    <tr>\n      <th>282</th>\n      <td>28.0</td>\n      <td>n_fumo</td>\n      <td>n_alcool</td>\n      <td>n_psico</td>\n      <td>n_tpp</td>\n      <td>s_dpp</td>\n      <td>n_oligo</td>\n      <td>n_sifilis</td>\n      <td>n_hiv</td>\n      <td>n_covid</td>\n      <td>...</td>\n      <td>0.0</td>\n      <td>1.0</td>\n      <td>0.0</td>\n      <td>1.0</td>\n      <td>0.0</td>\n      <td>1.0</td>\n      <td>0.0</td>\n      <td>1.0</td>\n      <td>0.0</td>\n      <td>0.0</td>\n    </tr>\n    <tr>\n      <th>281</th>\n      <td>42.0</td>\n      <td>n_fumo</td>\n      <td>n_alcool</td>\n      <td>n_psico</td>\n      <td>s_tpp</td>\n      <td>n_dpp</td>\n      <td>s_oligo</td>\n      <td>n_sifilis</td>\n      <td>n_hiv</td>\n      <td>n_covid</td>\n      <td>...</td>\n      <td>0.0</td>\n      <td>1.0</td>\n      <td>0.0</td>\n      <td>1.0</td>\n      <td>0.0</td>\n      <td>0.0</td>\n      <td>1.0</td>\n      <td>1.0</td>\n      <td>0.0</td>\n      <td>1.0</td>\n    </tr>\n    <tr>\n      <th>334</th>\n      <td>40.0</td>\n      <td>n_fumo</td>\n      <td>n_alcool</td>\n      <td>n_psico</td>\n      <td>s_tpp</td>\n      <td>s_dpp</td>\n      <td>n_oligo</td>\n      <td>s_sifilis</td>\n      <td>n_hiv</td>\n      <td>n_covid</td>\n      <td>...</td>\n      <td>1.0</td>\n      <td>1.0</td>\n      <td>0.0</td>\n      <td>1.0</td>\n      <td>0.0</td>\n      <td>0.0</td>\n      <td>1.0</td>\n      <td>1.0</td>\n      <td>0.0</td>\n      <td>1.0</td>\n    </tr>\n    <tr>\n      <th>...</th>\n      <td>...</td>\n      <td>...</td>\n      <td>...</td>\n      <td>...</td>\n      <td>...</td>\n      <td>...</td>\n      <td>...</td>\n      <td>...</td>\n      <td>...</td>\n      <td>...</td>\n      <td>...</td>\n      <td>...</td>\n      <td>...</td>\n      <td>...</td>\n      <td>...</td>\n      <td>...</td>\n      <td>...</td>\n      <td>...</td>\n      <td>...</td>\n      <td>...</td>\n      <td>...</td>\n    </tr>\n    <tr>\n      <th>27</th>\n      <td>21.0</td>\n      <td>d_fumo</td>\n      <td>d_alcool</td>\n      <td>d_psico</td>\n      <td>n_tpp</td>\n      <td>n_dpp</td>\n      <td>d_oligo</td>\n      <td>d_sifilis</td>\n      <td>d_hiv</td>\n      <td>d_covid</td>\n      <td>...</td>\n      <td>0.0</td>\n      <td>0.0</td>\n      <td>0.0</td>\n      <td>0.0</td>\n      <td>0.0</td>\n      <td>0.0</td>\n      <td>0.0</td>\n      <td>0.0</td>\n      <td>0.0</td>\n      <td>1.0</td>\n    </tr>\n    <tr>\n      <th>370</th>\n      <td>34.0</td>\n      <td>n_fumo</td>\n      <td>n_alcool</td>\n      <td>n_psico</td>\n      <td>s_tpp</td>\n      <td>n_dpp</td>\n      <td>n_oligo</td>\n      <td>s_sifilis</td>\n      <td>n_hiv</td>\n      <td>n_covid</td>\n      <td>...</td>\n      <td>1.0</td>\n      <td>1.0</td>\n      <td>0.0</td>\n      <td>1.0</td>\n      <td>0.0</td>\n      <td>1.0</td>\n      <td>0.0</td>\n      <td>1.0</td>\n      <td>0.0</td>\n      <td>0.0</td>\n    </tr>\n    <tr>\n      <th>18</th>\n      <td>15.0</td>\n      <td>n_fumo</td>\n      <td>n_alcool</td>\n      <td>n_psico</td>\n      <td>n_tpp</td>\n      <td>n_dpp</td>\n      <td>n_oligo</td>\n      <td>n_sifilis</td>\n      <td>n_hiv</td>\n      <td>n_covid</td>\n      <td>...</td>\n      <td>0.0</td>\n      <td>1.0</td>\n      <td>0.0</td>\n      <td>1.0</td>\n      <td>0.0</td>\n      <td>0.0</td>\n      <td>1.0</td>\n      <td>1.0</td>\n      <td>0.0</td>\n      <td>0.0</td>\n    </tr>\n    <tr>\n      <th>172</th>\n      <td>35.0</td>\n      <td>n_fumo</td>\n      <td>n_alcool</td>\n      <td>n_psico</td>\n      <td>n_tpp</td>\n      <td>s_dpp</td>\n      <td>n_oligo</td>\n      <td>n_sifilis</td>\n      <td>n_hiv</td>\n      <td>n_covid</td>\n      <td>...</td>\n      <td>0.0</td>\n      <td>1.0</td>\n      <td>0.0</td>\n      <td>1.0</td>\n      <td>0.0</td>\n      <td>0.0</td>\n      <td>1.0</td>\n      <td>1.0</td>\n      <td>0.0</td>\n      <td>1.0</td>\n    </tr>\n    <tr>\n      <th>379</th>\n      <td>33.0</td>\n      <td>n_fumo</td>\n      <td>n_alcool</td>\n      <td>n_psico</td>\n      <td>n_tpp</td>\n      <td>n_dpp</td>\n      <td>n_oligo</td>\n      <td>n_sifilis</td>\n      <td>n_hiv</td>\n      <td>n_covid</td>\n      <td>...</td>\n      <td>0.0</td>\n      <td>1.0</td>\n      <td>0.0</td>\n      <td>1.0</td>\n      <td>0.0</td>\n      <td>1.0</td>\n      <td>0.0</td>\n      <td>1.0</td>\n      <td>0.0</td>\n      <td>1.0</td>\n    </tr>\n  </tbody>\n</table>\n<p>115 rows × 37 columns</p>\n</div>"
     },
     "execution_count": 71,
     "metadata": {},
     "output_type": "execute_result"
    }
   ],
   "source": [
    "x_val"
   ],
   "metadata": {
    "collapsed": false,
    "pycharm": {
     "name": "#%%\n"
    }
   }
  },
  {
   "cell_type": "code",
   "execution_count": 72,
   "outputs": [
    {
     "data": {
      "text/plain": "<IPython.core.display.HTML object>",
      "text/html": "Waiting for W&B process to finish... <strong style=\"color:green\">(success).</strong>"
     },
     "metadata": {},
     "output_type": "display_data"
    },
    {
     "data": {
      "text/plain": "VBox(children=(Label(value='0.001 MB of 0.001 MB uploaded (0.000 MB deduped)\\r'), FloatProgress(value=1.0, max…",
      "application/vnd.jupyter.widget-view+json": {
       "version_major": 2,
       "version_minor": 0,
       "model_id": "724f7a4ba7ed40719946a560e45d588f"
      }
     },
     "metadata": {},
     "output_type": "display_data"
    },
    {
     "data": {
      "text/plain": "<IPython.core.display.HTML object>",
      "text/html": "Synced <strong style=\"color:#cdcd00\">royal-donkey-61</strong>: <a href=\"https://wandb.ai/ecalasans/mlreanimacao/runs/2f6xdrgp\" target=\"_blank\">https://wandb.ai/ecalasans/mlreanimacao/runs/2f6xdrgp</a><br/>Synced 5 W&B file(s), 0 media file(s), 0 artifact file(s) and 0 other file(s)"
     },
     "metadata": {},
     "output_type": "display_data"
    },
    {
     "data": {
      "text/plain": "<IPython.core.display.HTML object>",
      "text/html": "Find logs at: <code>./wandb/run-20220525_215309-2f6xdrgp/logs</code>"
     },
     "metadata": {},
     "output_type": "display_data"
    }
   ],
   "source": [
    "# Finaliza a execução do wandb\n",
    "run.finish()"
   ],
   "metadata": {
    "collapsed": false,
    "pycharm": {
     "name": "#%%\n"
    }
   }
  },
  {
   "cell_type": "code",
   "execution_count": null,
   "outputs": [],
   "source": [],
   "metadata": {
    "collapsed": false,
    "pycharm": {
     "name": "#%%\n"
    }
   }
  }
 ],
 "metadata": {
  "interpreter": {
   "hash": "a6df4f99f956271f2216113daf53bb4424045a1a04a5301999ce02b002a8d33f"
  },
  "kernelspec": {
   "display_name": "Python 3.8.12 ('mlearning')",
   "language": "python",
   "name": "python3"
  },
  "language_info": {
   "codemirror_mode": {
    "name": "ipython",
    "version": 3
   },
   "file_extension": ".py",
   "mimetype": "text/x-python",
   "name": "python",
   "nbconvert_exporter": "python",
   "pygments_lexer": "ipython3",
   "version": "3.8.12"
  },
  "orig_nbformat": 4
 },
 "nbformat": 4,
 "nbformat_minor": 2
}