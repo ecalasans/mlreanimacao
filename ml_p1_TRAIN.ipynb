{
 "cells": [
  {
   "cell_type": "markdown",
   "metadata": {},
   "source": [
    "# *Machine Learning* em Reanimação Neonatal\n",
    "Projeto 1 da Disciplina de Aprendizado de Máquina - PPgEEC/UFRN\n",
    "\n",
    "## Etapa 4 - TRAIN"
   ]
  },
  {
   "cell_type": "markdown",
   "metadata": {},
   "source": [
    "Neste notebook será realizado o treinamento do algoritmo *Decision Tree* utilizando os artefatos criados na etapa de segregação."
   ]
  },
  {
   "cell_type": "markdown",
   "metadata": {},
   "source": [
    "## 1.  Configuração do Ambiente"
   ]
  },
  {
   "cell_type": "code",
   "execution_count": 2,
   "metadata": {},
   "outputs": [],
   "source": [
    "import logging\n",
    "import wandb\n",
    "import pandas as pd\n",
    "import numpy as np\n",
    "import joblib\n",
    "import matplotlib.pyplot as plt\n",
    "from sklearn.model_selection import train_test_split\n",
    "from sklearn.neighbors import LocalOutlierFactor\n",
    "from sklearn.preprocessing import LabelEncoder\n",
    "from sklearn.preprocessing import OneHotEncoder\n",
    "from sklearn.base import BaseEstimator, TransformerMixin\n",
    "from sklearn.preprocessing import MinMaxScaler\n",
    "from sklearn.preprocessing import StandardScaler\n",
    "from sklearn.preprocessing import OneHotEncoder\n",
    "from sklearn.pipeline import Pipeline, FeatureUnion\n",
    "from sklearn.tree import DecisionTreeClassifier\n",
    "from sklearn.impute import SimpleImputer\n",
    "from sklearn.metrics import fbeta_score, precision_score, recall_score, accuracy_score\n",
    "from sklearn.metrics import classification_report\n",
    "from sklearn.metrics import confusion_matrix\n",
    "from sklearn.metrics import ConfusionMatrixDisplay"
   ]
  },
  {
   "cell_type": "markdown",
   "metadata": {},
   "source": [
    "Login no wandb"
   ]
  },
  {
   "cell_type": "code",
   "execution_count": 3,
   "metadata": {},
   "outputs": [
    {
     "name": "stdout",
     "output_type": "stream",
     "text": [
      "\u001b[34m\u001b[1mwandb\u001b[0m: Appending key for api.wandb.ai to your netrc file: /Users/ericcalasans/.netrc\n"
     ]
    }
   ],
   "source": [
    "!wandb login c4d070b0b80b59891761b50eb9912749a4af585e --relogin"
   ]
  },
  {
   "cell_type": "markdown",
   "metadata": {},
   "source": [
    "Variáveis globais"
   ]
  },
  {
   "cell_type": "code",
   "execution_count": 4,
   "metadata": {},
   "outputs": [],
   "source": [
    "# Tamanho do conjunto de teste(fração do dataset que é utilizada como dados de teste)\n",
    "test_size = 0.3\n",
    "\n",
    "# Coeficiente de aleatoriedade\n",
    "seed = 1618\n",
    "\n",
    "# Variável alvo(target)\n",
    "stratify = 'reanimacao'\n",
    "\n",
    "# Artefato de entrada\n",
    "input_artifact = 'mlreanimacao/train.csv:latest'\n",
    "\n",
    "# Tipo do artefato\n",
    "artifact_type = 'Train'"
   ]
  },
  {
   "cell_type": "markdown",
   "metadata": {},
   "source": [
    "Configurações de log"
   ]
  },
  {
   "cell_type": "code",
   "execution_count": 5,
   "metadata": {},
   "outputs": [],
   "source": [
    "logging.basicConfig(level=logging.INFO,\n",
    "                    format=\"%(asctime)s %(message)s\",\n",
    "                    datefmt='%d-%m-%Y %H:%M:%S')\n",
    "\n",
    "# Objeto logging\n",
    "logger = logging.getLogger()"
   ]
  },
  {
   "cell_type": "markdown",
   "metadata": {},
   "source": [
    "Captura de artefato"
   ]
  },
  {
   "cell_type": "code",
   "execution_count": 6,
   "metadata": {},
   "outputs": [
    {
     "name": "stderr",
     "output_type": "stream",
     "text": [
      "24-05-2022 04:41:36 Failed to detect the name of this notebook, you can set it manually with the WANDB_NOTEBOOK_NAME environment variable to enable code saving.\n",
      "\u001b[34m\u001b[1mwandb\u001b[0m: Currently logged in as: \u001b[33mecalasans\u001b[0m. Use \u001b[1m`wandb login --relogin`\u001b[0m to force relogin\n"
     ]
    },
    {
     "data": {
      "text/html": [
       "Tracking run with wandb version 0.12.16"
      ],
      "text/plain": [
       "<IPython.core.display.HTML object>"
      ]
     },
     "metadata": {},
     "output_type": "display_data"
    },
    {
     "data": {
      "text/html": [
       "Run data is saved locally in <code>/Users/ericcalasans/Documents/Projetos/ml_proj1/wandb/run-20220524_044136-31ehzpth</code>"
      ],
      "text/plain": [
       "<IPython.core.display.HTML object>"
      ]
     },
     "metadata": {},
     "output_type": "display_data"
    },
    {
     "data": {
      "text/html": [
       "Syncing run <strong><a href=\"https://wandb.ai/ecalasans/mlreanimacao/runs/31ehzpth\" target=\"_blank\">pious-water-29</a></strong> to <a href=\"https://wandb.ai/ecalasans/mlreanimacao\" target=\"_blank\">Weights & Biases</a> (<a href=\"https://wandb.me/run\" target=\"_blank\">docs</a>)<br/>"
      ],
      "text/plain": [
       "<IPython.core.display.HTML object>"
      ]
     },
     "metadata": {},
     "output_type": "display_data"
    },
    {
     "name": "stderr",
     "output_type": "stream",
     "text": [
      "24-05-2022 04:41:46 Baixando artefato e realizando leitura...\n"
     ]
    },
    {
     "ename": "CommError",
     "evalue": "Project ecalasans/mlreanimacao does not contain artifact: \"train.csv:latest\"",
     "output_type": "error",
     "traceback": [
      "\u001b[0;31m---------------------------------------------------------------------------\u001b[0m",
      "\u001b[0;31mValueError\u001b[0m                                Traceback (most recent call last)",
      "File \u001b[0;32m~/opt/anaconda3/envs/mlearning/lib/python3.8/site-packages/wandb/apis/normalize.py:22\u001b[0m, in \u001b[0;36mnormalize_exceptions.<locals>.wrapper\u001b[0;34m(*args, **kwargs)\u001b[0m\n\u001b[1;32m     <a href='file:///Users/ericcalasans/opt/anaconda3/envs/mlearning/lib/python3.8/site-packages/wandb/apis/normalize.py?line=20'>21</a>\u001b[0m \u001b[39mtry\u001b[39;00m:\n\u001b[0;32m---> <a href='file:///Users/ericcalasans/opt/anaconda3/envs/mlearning/lib/python3.8/site-packages/wandb/apis/normalize.py?line=21'>22</a>\u001b[0m     \u001b[39mreturn\u001b[39;00m func(\u001b[39m*\u001b[39;49margs, \u001b[39m*\u001b[39;49m\u001b[39m*\u001b[39;49mkwargs)\n\u001b[1;32m     <a href='file:///Users/ericcalasans/opt/anaconda3/envs/mlearning/lib/python3.8/site-packages/wandb/apis/normalize.py?line=22'>23</a>\u001b[0m \u001b[39mexcept\u001b[39;00m requests\u001b[39m.\u001b[39mHTTPError \u001b[39mas\u001b[39;00m err:\n",
      "File \u001b[0;32m~/opt/anaconda3/envs/mlearning/lib/python3.8/site-packages/wandb/apis/public.py:777\u001b[0m, in \u001b[0;36mApi.artifact\u001b[0;34m(self, name, type)\u001b[0m\n\u001b[1;32m    <a href='file:///Users/ericcalasans/opt/anaconda3/envs/mlearning/lib/python3.8/site-packages/wandb/apis/public.py?line=775'>776</a>\u001b[0m entity, project, artifact_name \u001b[39m=\u001b[39m \u001b[39mself\u001b[39m\u001b[39m.\u001b[39m_parse_artifact_path(name)\n\u001b[0;32m--> <a href='file:///Users/ericcalasans/opt/anaconda3/envs/mlearning/lib/python3.8/site-packages/wandb/apis/public.py?line=776'>777</a>\u001b[0m artifact \u001b[39m=\u001b[39m Artifact(\u001b[39mself\u001b[39;49m\u001b[39m.\u001b[39;49mclient, entity, project, artifact_name)\n\u001b[1;32m    <a href='file:///Users/ericcalasans/opt/anaconda3/envs/mlearning/lib/python3.8/site-packages/wandb/apis/public.py?line=777'>778</a>\u001b[0m \u001b[39mif\u001b[39;00m \u001b[39mtype\u001b[39m \u001b[39mis\u001b[39;00m \u001b[39mnot\u001b[39;00m \u001b[39mNone\u001b[39;00m \u001b[39mand\u001b[39;00m artifact\u001b[39m.\u001b[39mtype \u001b[39m!=\u001b[39m \u001b[39mtype\u001b[39m:\n",
      "File \u001b[0;32m~/opt/anaconda3/envs/mlearning/lib/python3.8/site-packages/wandb/apis/public.py:3493\u001b[0m, in \u001b[0;36mArtifact.__init__\u001b[0;34m(self, client, entity, project, name, attrs)\u001b[0m\n\u001b[1;32m   <a href='file:///Users/ericcalasans/opt/anaconda3/envs/mlearning/lib/python3.8/site-packages/wandb/apis/public.py?line=3491'>3492</a>\u001b[0m \u001b[39mif\u001b[39;00m \u001b[39mself\u001b[39m\u001b[39m.\u001b[39m_attrs \u001b[39mis\u001b[39;00m \u001b[39mNone\u001b[39;00m:\n\u001b[0;32m-> <a href='file:///Users/ericcalasans/opt/anaconda3/envs/mlearning/lib/python3.8/site-packages/wandb/apis/public.py?line=3492'>3493</a>\u001b[0m     \u001b[39mself\u001b[39;49m\u001b[39m.\u001b[39;49m_load()\n\u001b[1;32m   <a href='file:///Users/ericcalasans/opt/anaconda3/envs/mlearning/lib/python3.8/site-packages/wandb/apis/public.py?line=3493'>3494</a>\u001b[0m \u001b[39mself\u001b[39m\u001b[39m.\u001b[39m_metadata \u001b[39m=\u001b[39m json\u001b[39m.\u001b[39mloads(\u001b[39mself\u001b[39m\u001b[39m.\u001b[39m_attrs\u001b[39m.\u001b[39mget(\u001b[39m\"\u001b[39m\u001b[39mmetadata\u001b[39m\u001b[39m\"\u001b[39m) \u001b[39mor\u001b[39;00m \u001b[39m\"\u001b[39m\u001b[39m{}\u001b[39;00m\u001b[39m\"\u001b[39m)\n",
      "File \u001b[0;32m~/opt/anaconda3/envs/mlearning/lib/python3.8/site-packages/wandb/apis/public.py:4060\u001b[0m, in \u001b[0;36mArtifact._load\u001b[0;34m(self)\u001b[0m\n\u001b[1;32m   <a href='file:///Users/ericcalasans/opt/anaconda3/envs/mlearning/lib/python3.8/site-packages/wandb/apis/public.py?line=4054'>4055</a>\u001b[0m \u001b[39mif\u001b[39;00m (\n\u001b[1;32m   <a href='file:///Users/ericcalasans/opt/anaconda3/envs/mlearning/lib/python3.8/site-packages/wandb/apis/public.py?line=4055'>4056</a>\u001b[0m     response \u001b[39mis\u001b[39;00m \u001b[39mNone\u001b[39;00m\n\u001b[1;32m   <a href='file:///Users/ericcalasans/opt/anaconda3/envs/mlearning/lib/python3.8/site-packages/wandb/apis/public.py?line=4056'>4057</a>\u001b[0m     \u001b[39mor\u001b[39;00m response\u001b[39m.\u001b[39mget(\u001b[39m\"\u001b[39m\u001b[39mproject\u001b[39m\u001b[39m\"\u001b[39m) \u001b[39mis\u001b[39;00m \u001b[39mNone\u001b[39;00m\n\u001b[1;32m   <a href='file:///Users/ericcalasans/opt/anaconda3/envs/mlearning/lib/python3.8/site-packages/wandb/apis/public.py?line=4057'>4058</a>\u001b[0m     \u001b[39mor\u001b[39;00m response[\u001b[39m\"\u001b[39m\u001b[39mproject\u001b[39m\u001b[39m\"\u001b[39m]\u001b[39m.\u001b[39mget(\u001b[39m\"\u001b[39m\u001b[39martifact\u001b[39m\u001b[39m\"\u001b[39m) \u001b[39mis\u001b[39;00m \u001b[39mNone\u001b[39;00m\n\u001b[1;32m   <a href='file:///Users/ericcalasans/opt/anaconda3/envs/mlearning/lib/python3.8/site-packages/wandb/apis/public.py?line=4058'>4059</a>\u001b[0m ):\n\u001b[0;32m-> <a href='file:///Users/ericcalasans/opt/anaconda3/envs/mlearning/lib/python3.8/site-packages/wandb/apis/public.py?line=4059'>4060</a>\u001b[0m     \u001b[39mraise\u001b[39;00m \u001b[39mValueError\u001b[39;00m(\n\u001b[1;32m   <a href='file:///Users/ericcalasans/opt/anaconda3/envs/mlearning/lib/python3.8/site-packages/wandb/apis/public.py?line=4060'>4061</a>\u001b[0m         \u001b[39m'\u001b[39m\u001b[39mProject \u001b[39m\u001b[39m%s\u001b[39;00m\u001b[39m/\u001b[39m\u001b[39m%s\u001b[39;00m\u001b[39m does not contain artifact: \u001b[39m\u001b[39m\"\u001b[39m\u001b[39m%s\u001b[39;00m\u001b[39m\"\u001b[39m\u001b[39m'\u001b[39m\n\u001b[1;32m   <a href='file:///Users/ericcalasans/opt/anaconda3/envs/mlearning/lib/python3.8/site-packages/wandb/apis/public.py?line=4061'>4062</a>\u001b[0m         \u001b[39m%\u001b[39m (\u001b[39mself\u001b[39m\u001b[39m.\u001b[39mentity, \u001b[39mself\u001b[39m\u001b[39m.\u001b[39mproject, \u001b[39mself\u001b[39m\u001b[39m.\u001b[39m_artifact_name)\n\u001b[1;32m   <a href='file:///Users/ericcalasans/opt/anaconda3/envs/mlearning/lib/python3.8/site-packages/wandb/apis/public.py?line=4062'>4063</a>\u001b[0m     )\n\u001b[1;32m   <a href='file:///Users/ericcalasans/opt/anaconda3/envs/mlearning/lib/python3.8/site-packages/wandb/apis/public.py?line=4063'>4064</a>\u001b[0m \u001b[39mself\u001b[39m\u001b[39m.\u001b[39m_attrs \u001b[39m=\u001b[39m response[\u001b[39m\"\u001b[39m\u001b[39mproject\u001b[39m\u001b[39m\"\u001b[39m][\u001b[39m\"\u001b[39m\u001b[39martifact\u001b[39m\u001b[39m\"\u001b[39m]\n",
      "\u001b[0;31mValueError\u001b[0m: Project ecalasans/mlreanimacao does not contain artifact: \"train.csv:latest\"",
      "\nDuring handling of the above exception, another exception occurred:\n",
      "\u001b[0;31mCommError\u001b[0m                                 Traceback (most recent call last)",
      "\u001b[1;32m/Users/ericcalasans/Documents/Projetos/ml_proj1/ml_p1_TRAIN.ipynb Cell 12'\u001b[0m in \u001b[0;36m<cell line: 5>\u001b[0;34m()\u001b[0m\n\u001b[1;32m      <a href='vscode-notebook-cell:/Users/ericcalasans/Documents/Projetos/ml_proj1/ml_p1_TRAIN.ipynb#ch0000013?line=2'>3</a>\u001b[0m \u001b[39m# Registra um log desta ação\u001b[39;00m\n\u001b[1;32m      <a href='vscode-notebook-cell:/Users/ericcalasans/Documents/Projetos/ml_proj1/ml_p1_TRAIN.ipynb#ch0000013?line=3'>4</a>\u001b[0m logger\u001b[39m.\u001b[39minfo(\u001b[39m\"\u001b[39m\u001b[39mBaixando artefato e realizando leitura...\u001b[39m\u001b[39m\"\u001b[39m)\n\u001b[0;32m----> <a href='vscode-notebook-cell:/Users/ericcalasans/Documents/Projetos/ml_proj1/ml_p1_TRAIN.ipynb#ch0000013?line=4'>5</a>\u001b[0m artifact \u001b[39m=\u001b[39m run\u001b[39m.\u001b[39;49muse_artifact(input_artifact)\n\u001b[1;32m      <a href='vscode-notebook-cell:/Users/ericcalasans/Documents/Projetos/ml_proj1/ml_p1_TRAIN.ipynb#ch0000013?line=5'>6</a>\u001b[0m artifact_file \u001b[39m=\u001b[39m artifact\u001b[39m.\u001b[39mfile()\n\u001b[1;32m      <a href='vscode-notebook-cell:/Users/ericcalasans/Documents/Projetos/ml_proj1/ml_p1_TRAIN.ipynb#ch0000013?line=6'>7</a>\u001b[0m df_to_split \u001b[39m=\u001b[39m pd\u001b[39m.\u001b[39mread_csv(artifact_file)\n",
      "File \u001b[0;32m~/opt/anaconda3/envs/mlearning/lib/python3.8/site-packages/wandb/sdk/wandb_run.py:222\u001b[0m, in \u001b[0;36m_run_decorator._attach.<locals>.wrapper\u001b[0;34m(self, *args, **kwargs)\u001b[0m\n\u001b[1;32m    <a href='file:///Users/ericcalasans/opt/anaconda3/envs/mlearning/lib/python3.8/site-packages/wandb/sdk/wandb_run.py?line=219'>220</a>\u001b[0m         \u001b[39mraise\u001b[39;00m e\n\u001b[1;32m    <a href='file:///Users/ericcalasans/opt/anaconda3/envs/mlearning/lib/python3.8/site-packages/wandb/sdk/wandb_run.py?line=220'>221</a>\u001b[0m     \u001b[39mcls\u001b[39m\u001b[39m.\u001b[39m_is_attaching \u001b[39m=\u001b[39m \u001b[39m\"\u001b[39m\u001b[39m\"\u001b[39m\n\u001b[0;32m--> <a href='file:///Users/ericcalasans/opt/anaconda3/envs/mlearning/lib/python3.8/site-packages/wandb/sdk/wandb_run.py?line=221'>222</a>\u001b[0m \u001b[39mreturn\u001b[39;00m func(\u001b[39mself\u001b[39;49m, \u001b[39m*\u001b[39;49margs, \u001b[39m*\u001b[39;49m\u001b[39m*\u001b[39;49mkwargs)\n",
      "File \u001b[0;32m~/opt/anaconda3/envs/mlearning/lib/python3.8/site-packages/wandb/sdk/wandb_run.py:2308\u001b[0m, in \u001b[0;36mRun.use_artifact\u001b[0;34m(self, artifact_or_name, type, aliases, use_as)\u001b[0m\n\u001b[1;32m   <a href='file:///Users/ericcalasans/opt/anaconda3/envs/mlearning/lib/python3.8/site-packages/wandb/sdk/wandb_run.py?line=2305'>2306</a>\u001b[0m     name \u001b[39m=\u001b[39m artifact_or_name\n\u001b[1;32m   <a href='file:///Users/ericcalasans/opt/anaconda3/envs/mlearning/lib/python3.8/site-packages/wandb/sdk/wandb_run.py?line=2306'>2307</a>\u001b[0m public_api \u001b[39m=\u001b[39m \u001b[39mself\u001b[39m\u001b[39m.\u001b[39m_public_api()\n\u001b[0;32m-> <a href='file:///Users/ericcalasans/opt/anaconda3/envs/mlearning/lib/python3.8/site-packages/wandb/sdk/wandb_run.py?line=2307'>2308</a>\u001b[0m artifact \u001b[39m=\u001b[39m public_api\u001b[39m.\u001b[39;49martifact(\u001b[39mtype\u001b[39;49m\u001b[39m=\u001b[39;49m\u001b[39mtype\u001b[39;49m, name\u001b[39m=\u001b[39;49mname)\n\u001b[1;32m   <a href='file:///Users/ericcalasans/opt/anaconda3/envs/mlearning/lib/python3.8/site-packages/wandb/sdk/wandb_run.py?line=2308'>2309</a>\u001b[0m \u001b[39mif\u001b[39;00m \u001b[39mtype\u001b[39m \u001b[39mis\u001b[39;00m \u001b[39mnot\u001b[39;00m \u001b[39mNone\u001b[39;00m \u001b[39mand\u001b[39;00m \u001b[39mtype\u001b[39m \u001b[39m!=\u001b[39m artifact\u001b[39m.\u001b[39mtype:\n\u001b[1;32m   <a href='file:///Users/ericcalasans/opt/anaconda3/envs/mlearning/lib/python3.8/site-packages/wandb/sdk/wandb_run.py?line=2309'>2310</a>\u001b[0m     \u001b[39mraise\u001b[39;00m \u001b[39mValueError\u001b[39;00m(\n\u001b[1;32m   <a href='file:///Users/ericcalasans/opt/anaconda3/envs/mlearning/lib/python3.8/site-packages/wandb/sdk/wandb_run.py?line=2310'>2311</a>\u001b[0m         \u001b[39m\"\u001b[39m\u001b[39mSupplied type \u001b[39m\u001b[39m{}\u001b[39;00m\u001b[39m does not match type \u001b[39m\u001b[39m{}\u001b[39;00m\u001b[39m of artifact \u001b[39m\u001b[39m{}\u001b[39;00m\u001b[39m\"\u001b[39m\u001b[39m.\u001b[39mformat(\n\u001b[1;32m   <a href='file:///Users/ericcalasans/opt/anaconda3/envs/mlearning/lib/python3.8/site-packages/wandb/sdk/wandb_run.py?line=2311'>2312</a>\u001b[0m             \u001b[39mtype\u001b[39m, artifact\u001b[39m.\u001b[39mtype, artifact\u001b[39m.\u001b[39mname\n\u001b[1;32m   <a href='file:///Users/ericcalasans/opt/anaconda3/envs/mlearning/lib/python3.8/site-packages/wandb/sdk/wandb_run.py?line=2312'>2313</a>\u001b[0m         )\n\u001b[1;32m   <a href='file:///Users/ericcalasans/opt/anaconda3/envs/mlearning/lib/python3.8/site-packages/wandb/sdk/wandb_run.py?line=2313'>2314</a>\u001b[0m     )\n",
      "File \u001b[0;32m~/opt/anaconda3/envs/mlearning/lib/python3.8/site-packages/wandb/apis/normalize.py:58\u001b[0m, in \u001b[0;36mnormalize_exceptions.<locals>.wrapper\u001b[0;34m(*args, **kwargs)\u001b[0m\n\u001b[1;32m     <a href='file:///Users/ericcalasans/opt/anaconda3/envs/mlearning/lib/python3.8/site-packages/wandb/apis/normalize.py?line=55'>56</a>\u001b[0m     \u001b[39mraise\u001b[39;00m\n\u001b[1;32m     <a href='file:///Users/ericcalasans/opt/anaconda3/envs/mlearning/lib/python3.8/site-packages/wandb/apis/normalize.py?line=56'>57</a>\u001b[0m \u001b[39melse\u001b[39;00m:\n\u001b[0;32m---> <a href='file:///Users/ericcalasans/opt/anaconda3/envs/mlearning/lib/python3.8/site-packages/wandb/apis/normalize.py?line=57'>58</a>\u001b[0m     \u001b[39mraise\u001b[39;00m CommError(message, err)\u001b[39m.\u001b[39mwith_traceback(sys\u001b[39m.\u001b[39mexc_info()[\u001b[39m2\u001b[39m])\n",
      "File \u001b[0;32m~/opt/anaconda3/envs/mlearning/lib/python3.8/site-packages/wandb/apis/normalize.py:22\u001b[0m, in \u001b[0;36mnormalize_exceptions.<locals>.wrapper\u001b[0;34m(*args, **kwargs)\u001b[0m\n\u001b[1;32m     <a href='file:///Users/ericcalasans/opt/anaconda3/envs/mlearning/lib/python3.8/site-packages/wandb/apis/normalize.py?line=19'>20</a>\u001b[0m message \u001b[39m=\u001b[39m \u001b[39m\"\u001b[39m\u001b[39mWhoa, you found a bug.\u001b[39m\u001b[39m\"\u001b[39m\n\u001b[1;32m     <a href='file:///Users/ericcalasans/opt/anaconda3/envs/mlearning/lib/python3.8/site-packages/wandb/apis/normalize.py?line=20'>21</a>\u001b[0m \u001b[39mtry\u001b[39;00m:\n\u001b[0;32m---> <a href='file:///Users/ericcalasans/opt/anaconda3/envs/mlearning/lib/python3.8/site-packages/wandb/apis/normalize.py?line=21'>22</a>\u001b[0m     \u001b[39mreturn\u001b[39;00m func(\u001b[39m*\u001b[39;49margs, \u001b[39m*\u001b[39;49m\u001b[39m*\u001b[39;49mkwargs)\n\u001b[1;32m     <a href='file:///Users/ericcalasans/opt/anaconda3/envs/mlearning/lib/python3.8/site-packages/wandb/apis/normalize.py?line=22'>23</a>\u001b[0m \u001b[39mexcept\u001b[39;00m requests\u001b[39m.\u001b[39mHTTPError \u001b[39mas\u001b[39;00m err:\n\u001b[1;32m     <a href='file:///Users/ericcalasans/opt/anaconda3/envs/mlearning/lib/python3.8/site-packages/wandb/apis/normalize.py?line=23'>24</a>\u001b[0m     \u001b[39mraise\u001b[39;00m CommError(err\u001b[39m.\u001b[39mresponse, err)\n",
      "File \u001b[0;32m~/opt/anaconda3/envs/mlearning/lib/python3.8/site-packages/wandb/apis/public.py:777\u001b[0m, in \u001b[0;36mApi.artifact\u001b[0;34m(self, name, type)\u001b[0m\n\u001b[1;32m    <a href='file:///Users/ericcalasans/opt/anaconda3/envs/mlearning/lib/python3.8/site-packages/wandb/apis/public.py?line=774'>775</a>\u001b[0m     \u001b[39mraise\u001b[39;00m \u001b[39mValueError\u001b[39;00m(\u001b[39m\"\u001b[39m\u001b[39mYou must specify name= to fetch an artifact.\u001b[39m\u001b[39m\"\u001b[39m)\n\u001b[1;32m    <a href='file:///Users/ericcalasans/opt/anaconda3/envs/mlearning/lib/python3.8/site-packages/wandb/apis/public.py?line=775'>776</a>\u001b[0m entity, project, artifact_name \u001b[39m=\u001b[39m \u001b[39mself\u001b[39m\u001b[39m.\u001b[39m_parse_artifact_path(name)\n\u001b[0;32m--> <a href='file:///Users/ericcalasans/opt/anaconda3/envs/mlearning/lib/python3.8/site-packages/wandb/apis/public.py?line=776'>777</a>\u001b[0m artifact \u001b[39m=\u001b[39m Artifact(\u001b[39mself\u001b[39;49m\u001b[39m.\u001b[39;49mclient, entity, project, artifact_name)\n\u001b[1;32m    <a href='file:///Users/ericcalasans/opt/anaconda3/envs/mlearning/lib/python3.8/site-packages/wandb/apis/public.py?line=777'>778</a>\u001b[0m \u001b[39mif\u001b[39;00m \u001b[39mtype\u001b[39m \u001b[39mis\u001b[39;00m \u001b[39mnot\u001b[39;00m \u001b[39mNone\u001b[39;00m \u001b[39mand\u001b[39;00m artifact\u001b[39m.\u001b[39mtype \u001b[39m!=\u001b[39m \u001b[39mtype\u001b[39m:\n\u001b[1;32m    <a href='file:///Users/ericcalasans/opt/anaconda3/envs/mlearning/lib/python3.8/site-packages/wandb/apis/public.py?line=778'>779</a>\u001b[0m     \u001b[39mraise\u001b[39;00m \u001b[39mValueError\u001b[39;00m(\n\u001b[1;32m    <a href='file:///Users/ericcalasans/opt/anaconda3/envs/mlearning/lib/python3.8/site-packages/wandb/apis/public.py?line=779'>780</a>\u001b[0m         \u001b[39mf\u001b[39m\u001b[39m\"\u001b[39m\u001b[39mtype \u001b[39m\u001b[39m{\u001b[39;00m\u001b[39mtype\u001b[39m\u001b[39m}\u001b[39;00m\u001b[39m specified but this artifact is of type \u001b[39m\u001b[39m{\u001b[39;00martifact\u001b[39m.\u001b[39mtype\u001b[39m}\u001b[39;00m\u001b[39m\"\u001b[39m\n\u001b[1;32m    <a href='file:///Users/ericcalasans/opt/anaconda3/envs/mlearning/lib/python3.8/site-packages/wandb/apis/public.py?line=780'>781</a>\u001b[0m     )\n",
      "File \u001b[0;32m~/opt/anaconda3/envs/mlearning/lib/python3.8/site-packages/wandb/apis/public.py:3493\u001b[0m, in \u001b[0;36mArtifact.__init__\u001b[0;34m(self, client, entity, project, name, attrs)\u001b[0m\n\u001b[1;32m   <a href='file:///Users/ericcalasans/opt/anaconda3/envs/mlearning/lib/python3.8/site-packages/wandb/apis/public.py?line=3490'>3491</a>\u001b[0m \u001b[39mself\u001b[39m\u001b[39m.\u001b[39m_attrs \u001b[39m=\u001b[39m attrs\n\u001b[1;32m   <a href='file:///Users/ericcalasans/opt/anaconda3/envs/mlearning/lib/python3.8/site-packages/wandb/apis/public.py?line=3491'>3492</a>\u001b[0m \u001b[39mif\u001b[39;00m \u001b[39mself\u001b[39m\u001b[39m.\u001b[39m_attrs \u001b[39mis\u001b[39;00m \u001b[39mNone\u001b[39;00m:\n\u001b[0;32m-> <a href='file:///Users/ericcalasans/opt/anaconda3/envs/mlearning/lib/python3.8/site-packages/wandb/apis/public.py?line=3492'>3493</a>\u001b[0m     \u001b[39mself\u001b[39;49m\u001b[39m.\u001b[39;49m_load()\n\u001b[1;32m   <a href='file:///Users/ericcalasans/opt/anaconda3/envs/mlearning/lib/python3.8/site-packages/wandb/apis/public.py?line=3493'>3494</a>\u001b[0m \u001b[39mself\u001b[39m\u001b[39m.\u001b[39m_metadata \u001b[39m=\u001b[39m json\u001b[39m.\u001b[39mloads(\u001b[39mself\u001b[39m\u001b[39m.\u001b[39m_attrs\u001b[39m.\u001b[39mget(\u001b[39m\"\u001b[39m\u001b[39mmetadata\u001b[39m\u001b[39m\"\u001b[39m) \u001b[39mor\u001b[39;00m \u001b[39m\"\u001b[39m\u001b[39m{}\u001b[39;00m\u001b[39m\"\u001b[39m)\n\u001b[1;32m   <a href='file:///Users/ericcalasans/opt/anaconda3/envs/mlearning/lib/python3.8/site-packages/wandb/apis/public.py?line=3494'>3495</a>\u001b[0m \u001b[39mself\u001b[39m\u001b[39m.\u001b[39m_description \u001b[39m=\u001b[39m \u001b[39mself\u001b[39m\u001b[39m.\u001b[39m_attrs\u001b[39m.\u001b[39mget(\u001b[39m\"\u001b[39m\u001b[39mdescription\u001b[39m\u001b[39m\"\u001b[39m, \u001b[39mNone\u001b[39;00m)\n",
      "File \u001b[0;32m~/opt/anaconda3/envs/mlearning/lib/python3.8/site-packages/wandb/apis/public.py:4060\u001b[0m, in \u001b[0;36mArtifact._load\u001b[0;34m(self)\u001b[0m\n\u001b[1;32m   <a href='file:///Users/ericcalasans/opt/anaconda3/envs/mlearning/lib/python3.8/site-packages/wandb/apis/public.py?line=4051'>4052</a>\u001b[0m         \u001b[39mraise\u001b[39;00m \u001b[39mValueError\u001b[39;00m(\n\u001b[1;32m   <a href='file:///Users/ericcalasans/opt/anaconda3/envs/mlearning/lib/python3.8/site-packages/wandb/apis/public.py?line=4052'>4053</a>\u001b[0m             \u001b[39m'\u001b[39m\u001b[39mAttempted to fetch artifact without alias (e.g. \u001b[39m\u001b[39m\"\u001b[39m\u001b[39m<artifact_name>:v3\u001b[39m\u001b[39m\"\u001b[39m\u001b[39m or \u001b[39m\u001b[39m\"\u001b[39m\u001b[39m<artifact_name>:latest\u001b[39m\u001b[39m\"\u001b[39m\u001b[39m)\u001b[39m\u001b[39m'\u001b[39m\n\u001b[1;32m   <a href='file:///Users/ericcalasans/opt/anaconda3/envs/mlearning/lib/python3.8/site-packages/wandb/apis/public.py?line=4053'>4054</a>\u001b[0m         )\n\u001b[1;32m   <a href='file:///Users/ericcalasans/opt/anaconda3/envs/mlearning/lib/python3.8/site-packages/wandb/apis/public.py?line=4054'>4055</a>\u001b[0m \u001b[39mif\u001b[39;00m (\n\u001b[1;32m   <a href='file:///Users/ericcalasans/opt/anaconda3/envs/mlearning/lib/python3.8/site-packages/wandb/apis/public.py?line=4055'>4056</a>\u001b[0m     response \u001b[39mis\u001b[39;00m \u001b[39mNone\u001b[39;00m\n\u001b[1;32m   <a href='file:///Users/ericcalasans/opt/anaconda3/envs/mlearning/lib/python3.8/site-packages/wandb/apis/public.py?line=4056'>4057</a>\u001b[0m     \u001b[39mor\u001b[39;00m response\u001b[39m.\u001b[39mget(\u001b[39m\"\u001b[39m\u001b[39mproject\u001b[39m\u001b[39m\"\u001b[39m) \u001b[39mis\u001b[39;00m \u001b[39mNone\u001b[39;00m\n\u001b[1;32m   <a href='file:///Users/ericcalasans/opt/anaconda3/envs/mlearning/lib/python3.8/site-packages/wandb/apis/public.py?line=4057'>4058</a>\u001b[0m     \u001b[39mor\u001b[39;00m response[\u001b[39m\"\u001b[39m\u001b[39mproject\u001b[39m\u001b[39m\"\u001b[39m]\u001b[39m.\u001b[39mget(\u001b[39m\"\u001b[39m\u001b[39martifact\u001b[39m\u001b[39m\"\u001b[39m) \u001b[39mis\u001b[39;00m \u001b[39mNone\u001b[39;00m\n\u001b[1;32m   <a href='file:///Users/ericcalasans/opt/anaconda3/envs/mlearning/lib/python3.8/site-packages/wandb/apis/public.py?line=4058'>4059</a>\u001b[0m ):\n\u001b[0;32m-> <a href='file:///Users/ericcalasans/opt/anaconda3/envs/mlearning/lib/python3.8/site-packages/wandb/apis/public.py?line=4059'>4060</a>\u001b[0m     \u001b[39mraise\u001b[39;00m \u001b[39mValueError\u001b[39;00m(\n\u001b[1;32m   <a href='file:///Users/ericcalasans/opt/anaconda3/envs/mlearning/lib/python3.8/site-packages/wandb/apis/public.py?line=4060'>4061</a>\u001b[0m         \u001b[39m'\u001b[39m\u001b[39mProject \u001b[39m\u001b[39m%s\u001b[39;00m\u001b[39m/\u001b[39m\u001b[39m%s\u001b[39;00m\u001b[39m does not contain artifact: \u001b[39m\u001b[39m\"\u001b[39m\u001b[39m%s\u001b[39;00m\u001b[39m\"\u001b[39m\u001b[39m'\u001b[39m\n\u001b[1;32m   <a href='file:///Users/ericcalasans/opt/anaconda3/envs/mlearning/lib/python3.8/site-packages/wandb/apis/public.py?line=4061'>4062</a>\u001b[0m         \u001b[39m%\u001b[39m (\u001b[39mself\u001b[39m\u001b[39m.\u001b[39mentity, \u001b[39mself\u001b[39m\u001b[39m.\u001b[39mproject, \u001b[39mself\u001b[39m\u001b[39m.\u001b[39m_artifact_name)\n\u001b[1;32m   <a href='file:///Users/ericcalasans/opt/anaconda3/envs/mlearning/lib/python3.8/site-packages/wandb/apis/public.py?line=4062'>4063</a>\u001b[0m     )\n\u001b[1;32m   <a href='file:///Users/ericcalasans/opt/anaconda3/envs/mlearning/lib/python3.8/site-packages/wandb/apis/public.py?line=4063'>4064</a>\u001b[0m \u001b[39mself\u001b[39m\u001b[39m.\u001b[39m_attrs \u001b[39m=\u001b[39m response[\u001b[39m\"\u001b[39m\u001b[39mproject\u001b[39m\u001b[39m\"\u001b[39m][\u001b[39m\"\u001b[39m\u001b[39martifact\u001b[39m\u001b[39m\"\u001b[39m]\n\u001b[1;32m   <a href='file:///Users/ericcalasans/opt/anaconda3/envs/mlearning/lib/python3.8/site-packages/wandb/apis/public.py?line=4064'>4065</a>\u001b[0m \u001b[39mreturn\u001b[39;00m \u001b[39mself\u001b[39m\u001b[39m.\u001b[39m_attrs\n",
      "\u001b[0;31mCommError\u001b[0m: Project ecalasans/mlreanimacao does not contain artifact: \"train.csv:latest\""
     ]
    }
   ],
   "source": [
    "run = wandb.init(project='mlreanimacao', job_type='train')\n",
    "\n",
    "# Registra um log desta ação\n",
    "logger.info(\"Baixando artefato e realizando leitura...\")\n",
    "artifact = run.use_artifact(input_artifact)\n",
    "artifact_file = artifact.file()\n",
    "df_to_split = pd.read_csv(artifact_file)"
   ]
  }
 ],
 "metadata": {
  "interpreter": {
   "hash": "a6df4f99f956271f2216113daf53bb4424045a1a04a5301999ce02b002a8d33f"
  },
  "kernelspec": {
   "display_name": "Python 3.8.12 ('mlearning')",
   "language": "python",
   "name": "python3"
  },
  "language_info": {
   "codemirror_mode": {
    "name": "ipython",
    "version": 3
   },
   "file_extension": ".py",
   "mimetype": "text/x-python",
   "name": "python",
   "nbconvert_exporter": "python",
   "pygments_lexer": "ipython3",
   "version": "3.8.12"
  },
  "orig_nbformat": 4
 },
 "nbformat": 4,
 "nbformat_minor": 2
}
