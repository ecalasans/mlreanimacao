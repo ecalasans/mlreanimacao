{
 "cells": [
  {
   "cell_type": "markdown",
   "source": [
    "# *Machine Learning* em Reanimação Neonatal\n",
    "Projeto 1 da Disciplina de Aprendizado de Máquina - PPgEEC/UFRN\n",
    "\n",
    "## Etapa 4 - TRAIN"
   ],
   "metadata": {
    "collapsed": false,
    "pycharm": {
     "name": "#%% md\n"
    }
   }
  },
  {
   "cell_type": "markdown",
   "metadata": {
    "pycharm": {
     "name": "#%% md\n"
    }
   },
   "source": [
    "Neste notebook será realizado o treinamento do algoritmo *Decision Tree* utilizando os artefatos criados na etapa de segregação."
   ]
  },
  {
   "cell_type": "markdown",
   "metadata": {
    "pycharm": {
     "name": "#%% md\n"
    }
   },
   "source": [
    "## 1.  Configuração do Ambiente e Leitura de Artefatos"
   ]
  },
  {
   "cell_type": "code",
   "execution_count": 1,
   "metadata": {
    "pycharm": {
     "name": "#%%\n"
    }
   },
   "outputs": [],
   "source": [
    "import logging\n",
    "import wandb\n",
    "import pandas as pd\n",
    "import numpy as np\n",
    "import joblib\n",
    "import matplotlib.pyplot as plt\n",
    "from sklearn.model_selection import train_test_split\n",
    "from sklearn.neighbors import LocalOutlierFactor\n",
    "from sklearn.preprocessing import LabelEncoder\n",
    "from sklearn.preprocessing import OneHotEncoder\n",
    "from sklearn.base import BaseEstimator, TransformerMixin\n",
    "from sklearn.preprocessing import MinMaxScaler\n",
    "from sklearn.preprocessing import StandardScaler\n",
    "from sklearn.preprocessing import OneHotEncoder\n",
    "from sklearn.pipeline import Pipeline, FeatureUnion\n",
    "from sklearn.tree import DecisionTreeClassifier\n",
    "from sklearn.impute import SimpleImputer\n",
    "from sklearn.metrics import fbeta_score, precision_score, recall_score, accuracy_score\n",
    "from sklearn.metrics import classification_report\n",
    "from sklearn.metrics import confusion_matrix\n",
    "from sklearn.metrics import ConfusionMatrixDisplay"
   ]
  },
  {
   "cell_type": "markdown",
   "metadata": {
    "pycharm": {
     "name": "#%% md\n"
    }
   },
   "source": [
    "Login no wandb"
   ]
  },
  {
   "cell_type": "code",
   "execution_count": 2,
   "metadata": {
    "pycharm": {
     "name": "#%%\n"
    }
   },
   "outputs": [
    {
     "name": "stdout",
     "output_type": "stream",
     "text": [
      "\u001B[34m\u001B[1mwandb\u001B[0m: Appending key for api.wandb.ai to your netrc file: /Users/ericcalasans/.netrc\r\n"
     ]
    }
   ],
   "source": [
    "!wandb login c4d070b0b80b59891761b50eb9912749a4af585e --relogin"
   ]
  },
  {
   "cell_type": "markdown",
   "metadata": {
    "pycharm": {
     "name": "#%% md\n"
    }
   },
   "source": [
    "Variáveis globais"
   ]
  },
  {
   "cell_type": "code",
   "execution_count": 3,
   "metadata": {
    "pycharm": {
     "name": "#%%\n"
    }
   },
   "outputs": [],
   "source": [
    "# Tamanho do conjunto de teste(fração do dataset que é utilizada como dados de teste)\n",
    "val_size = 0.3\n",
    "\n",
    "# Coeficiente de aleatoriedade\n",
    "seed = 1618\n",
    "\n",
    "# Variável alvo(target)\n",
    "stratify = 'reanimacao'\n",
    "\n",
    "# Artefato de entrada\n",
    "input_artifact = 'mlreanimacao/train.csv:latest'\n",
    "\n",
    "# Tipo do artefato\n",
    "artifact_type = 'Train'"
   ]
  },
  {
   "cell_type": "markdown",
   "metadata": {
    "pycharm": {
     "name": "#%% md\n"
    }
   },
   "source": [
    "Configurações de log"
   ]
  },
  {
   "cell_type": "code",
   "execution_count": 4,
   "metadata": {
    "pycharm": {
     "name": "#%%\n"
    }
   },
   "outputs": [],
   "source": [
    "logging.basicConfig(level=logging.INFO,\n",
    "                    format=\"%(asctime)s %(message)s\",\n",
    "                    datefmt='%d-%m-%Y %H:%M:%S')\n",
    "\n",
    "# Objeto logging\n",
    "logger = logging.getLogger()"
   ]
  },
  {
   "cell_type": "markdown",
   "metadata": {
    "pycharm": {
     "name": "#%% md\n"
    }
   },
   "source": [
    "Captura de artefato"
   ]
  },
  {
   "cell_type": "code",
   "execution_count": 5,
   "metadata": {
    "pycharm": {
     "name": "#%%\n"
    }
   },
   "outputs": [
    {
     "name": "stderr",
     "output_type": "stream",
     "text": [
      "\u001B[34m\u001B[1mwandb\u001B[0m: Currently logged in as: \u001B[33mecalasans\u001B[0m (use `wandb login --relogin` to force relogin)\n"
     ]
    },
    {
     "data": {
      "text/plain": "<IPython.core.display.HTML object>",
      "text/html": "wandb version 0.12.17 is available!  To upgrade, please run:\n $ pip install wandb --upgrade"
     },
     "metadata": {},
     "output_type": "display_data"
    },
    {
     "data": {
      "text/plain": "<IPython.core.display.HTML object>",
      "text/html": "Tracking run with wandb version 0.12.15"
     },
     "metadata": {},
     "output_type": "display_data"
    },
    {
     "data": {
      "text/plain": "<IPython.core.display.HTML object>",
      "text/html": "Run data is saved locally in <code>/Users/ericcalasans/Documents/Projetos/ml_proj1/wandb/run-20220529_061830-1o67td20</code>"
     },
     "metadata": {},
     "output_type": "display_data"
    },
    {
     "data": {
      "text/plain": "<IPython.core.display.HTML object>",
      "text/html": "Syncing run <strong><a href=\"https://wandb.ai/ecalasans/mlreanimacao/runs/1o67td20\" target=\"_blank\">exalted-rain-73</a></strong> to <a href=\"https://wandb.ai/ecalasans/mlreanimacao\" target=\"_blank\">Weights & Biases</a> (<a href=\"https://wandb.me/run\" target=\"_blank\">docs</a>)<br/>"
     },
     "metadata": {},
     "output_type": "display_data"
    },
    {
     "name": "stderr",
     "output_type": "stream",
     "text": [
      "29-05-2022 06:18:38 Baixando artefato e realizando leitura...\n"
     ]
    }
   ],
   "source": [
    "run = wandb.init(project='mlreanimacao', job_type='train')\n",
    "\n",
    "# Registra um log desta ação\n",
    "logger.info(\"Baixando artefato e realizando leitura...\")\n",
    "artifact = run.use_artifact(input_artifact)\n",
    "artifact_file = artifact.file()\n",
    "df_to_split = pd.read_csv(artifact_file)"
   ]
  },
  {
   "cell_type": "markdown",
   "metadata": {
    "pycharm": {
     "name": "#%% md\n"
    }
   },
   "source": [
    "## 3.  Treinamento"
   ]
  },
  {
   "cell_type": "markdown",
   "metadata": {
    "pycharm": {
     "name": "#%% md\n"
    }
   },
   "source": [
    "Divisão do conjunto de treinamento"
   ]
  },
  {
   "cell_type": "code",
   "execution_count": 6,
   "metadata": {
    "pycharm": {
     "name": "#%%\n"
    }
   },
   "outputs": [
    {
     "name": "stderr",
     "output_type": "stream",
     "text": [
      "29-05-2022 06:19:05 Divisão em train/val\n"
     ]
    }
   ],
   "source": [
    "logger.info(\"Divisão em train/val\")\n",
    "\n",
    "x_train, x_val, y_train, y_val = train_test_split(df_to_split.drop(labels=stratify,axis=1),\n",
    "                                                  df_to_split[stratify],\n",
    "                                                  test_size=val_size,\n",
    "                                                  random_state=seed,\n",
    "                                                  shuffle=True,\n",
    "                                                  stratify=df_to_split[stratify])"
   ]
  },
  {
   "cell_type": "code",
   "execution_count": 7,
   "outputs": [
    {
     "data": {
      "text/plain": "     idade_materna    fumo    alcool psicoativas    tpp    dpp oligoamnio  \\\n293           30.0  n_fumo  n_alcool     n_psico  s_tpp  n_dpp    n_oligo   \n194           33.0  n_fumo  n_alcool     n_psico  n_tpp  n_dpp    n_oligo   \n182           39.0  n_fumo  n_alcool     n_psico  n_tpp  n_dpp    n_oligo   \n46            25.0  n_fumo  n_alcool     n_psico  s_tpp  n_dpp    n_oligo   \n17            26.0  n_fumo  n_alcool     n_psico  s_tpp  n_dpp    n_oligo   \n..             ...     ...       ...         ...    ...    ...        ...   \n11            34.0  n_fumo  n_alcool     n_psico  n_tpp  n_dpp    n_oligo   \n243           34.0  n_fumo  n_alcool     d_psico  s_tpp  n_dpp    n_oligo   \n287           25.0  n_fumo  n_alcool     n_psico  n_tpp  n_dpp    n_oligo   \n14            24.0  n_fumo  n_alcool     n_psico  s_tpp  d_dpp    n_oligo   \n72            24.0  n_fumo  n_alcool     n_psico  n_tpp  n_dpp    n_oligo   \n\n       sifilis    hiv covid_mae    dheg    dm       sexo  apgar_1_minuto  \n293  n_sifilis  n_hiv   n_covid  n_dheg  n_dm  Masculino             1.0  \n194  n_sifilis  n_hiv   n_covid  n_dheg  s_dm  Masculino             9.0  \n182  s_sifilis  n_hiv   s_covid  n_dheg  n_dm  Masculino             6.0  \n46   n_sifilis  n_hiv   n_covid  n_dheg  s_dm  Masculino             8.0  \n17   n_sifilis  n_hiv   n_covid  s_dheg  n_dm  Masculino             9.0  \n..         ...    ...       ...     ...   ...        ...             ...  \n11   n_sifilis  n_hiv   n_covid  s_dheg  s_dm   Feminino             3.0  \n243  n_sifilis  n_hiv   n_covid  n_dheg  n_dm   Feminino             9.0  \n287  s_sifilis  n_hiv   n_covid  s_dheg  n_dm  Masculino             8.0  \n14   n_sifilis  n_hiv   s_covid  n_dheg  n_dm   Feminino             4.0  \n72   n_sifilis  n_hiv   n_covid  s_dheg  s_dm   Feminino             8.0  \n\n[267 rows x 14 columns]",
      "text/html": "<div>\n<style scoped>\n    .dataframe tbody tr th:only-of-type {\n        vertical-align: middle;\n    }\n\n    .dataframe tbody tr th {\n        vertical-align: top;\n    }\n\n    .dataframe thead th {\n        text-align: right;\n    }\n</style>\n<table border=\"1\" class=\"dataframe\">\n  <thead>\n    <tr style=\"text-align: right;\">\n      <th></th>\n      <th>idade_materna</th>\n      <th>fumo</th>\n      <th>alcool</th>\n      <th>psicoativas</th>\n      <th>tpp</th>\n      <th>dpp</th>\n      <th>oligoamnio</th>\n      <th>sifilis</th>\n      <th>hiv</th>\n      <th>covid_mae</th>\n      <th>dheg</th>\n      <th>dm</th>\n      <th>sexo</th>\n      <th>apgar_1_minuto</th>\n    </tr>\n  </thead>\n  <tbody>\n    <tr>\n      <th>293</th>\n      <td>30.0</td>\n      <td>n_fumo</td>\n      <td>n_alcool</td>\n      <td>n_psico</td>\n      <td>s_tpp</td>\n      <td>n_dpp</td>\n      <td>n_oligo</td>\n      <td>n_sifilis</td>\n      <td>n_hiv</td>\n      <td>n_covid</td>\n      <td>n_dheg</td>\n      <td>n_dm</td>\n      <td>Masculino</td>\n      <td>1.0</td>\n    </tr>\n    <tr>\n      <th>194</th>\n      <td>33.0</td>\n      <td>n_fumo</td>\n      <td>n_alcool</td>\n      <td>n_psico</td>\n      <td>n_tpp</td>\n      <td>n_dpp</td>\n      <td>n_oligo</td>\n      <td>n_sifilis</td>\n      <td>n_hiv</td>\n      <td>n_covid</td>\n      <td>n_dheg</td>\n      <td>s_dm</td>\n      <td>Masculino</td>\n      <td>9.0</td>\n    </tr>\n    <tr>\n      <th>182</th>\n      <td>39.0</td>\n      <td>n_fumo</td>\n      <td>n_alcool</td>\n      <td>n_psico</td>\n      <td>n_tpp</td>\n      <td>n_dpp</td>\n      <td>n_oligo</td>\n      <td>s_sifilis</td>\n      <td>n_hiv</td>\n      <td>s_covid</td>\n      <td>n_dheg</td>\n      <td>n_dm</td>\n      <td>Masculino</td>\n      <td>6.0</td>\n    </tr>\n    <tr>\n      <th>46</th>\n      <td>25.0</td>\n      <td>n_fumo</td>\n      <td>n_alcool</td>\n      <td>n_psico</td>\n      <td>s_tpp</td>\n      <td>n_dpp</td>\n      <td>n_oligo</td>\n      <td>n_sifilis</td>\n      <td>n_hiv</td>\n      <td>n_covid</td>\n      <td>n_dheg</td>\n      <td>s_dm</td>\n      <td>Masculino</td>\n      <td>8.0</td>\n    </tr>\n    <tr>\n      <th>17</th>\n      <td>26.0</td>\n      <td>n_fumo</td>\n      <td>n_alcool</td>\n      <td>n_psico</td>\n      <td>s_tpp</td>\n      <td>n_dpp</td>\n      <td>n_oligo</td>\n      <td>n_sifilis</td>\n      <td>n_hiv</td>\n      <td>n_covid</td>\n      <td>s_dheg</td>\n      <td>n_dm</td>\n      <td>Masculino</td>\n      <td>9.0</td>\n    </tr>\n    <tr>\n      <th>...</th>\n      <td>...</td>\n      <td>...</td>\n      <td>...</td>\n      <td>...</td>\n      <td>...</td>\n      <td>...</td>\n      <td>...</td>\n      <td>...</td>\n      <td>...</td>\n      <td>...</td>\n      <td>...</td>\n      <td>...</td>\n      <td>...</td>\n      <td>...</td>\n    </tr>\n    <tr>\n      <th>11</th>\n      <td>34.0</td>\n      <td>n_fumo</td>\n      <td>n_alcool</td>\n      <td>n_psico</td>\n      <td>n_tpp</td>\n      <td>n_dpp</td>\n      <td>n_oligo</td>\n      <td>n_sifilis</td>\n      <td>n_hiv</td>\n      <td>n_covid</td>\n      <td>s_dheg</td>\n      <td>s_dm</td>\n      <td>Feminino</td>\n      <td>3.0</td>\n    </tr>\n    <tr>\n      <th>243</th>\n      <td>34.0</td>\n      <td>n_fumo</td>\n      <td>n_alcool</td>\n      <td>d_psico</td>\n      <td>s_tpp</td>\n      <td>n_dpp</td>\n      <td>n_oligo</td>\n      <td>n_sifilis</td>\n      <td>n_hiv</td>\n      <td>n_covid</td>\n      <td>n_dheg</td>\n      <td>n_dm</td>\n      <td>Feminino</td>\n      <td>9.0</td>\n    </tr>\n    <tr>\n      <th>287</th>\n      <td>25.0</td>\n      <td>n_fumo</td>\n      <td>n_alcool</td>\n      <td>n_psico</td>\n      <td>n_tpp</td>\n      <td>n_dpp</td>\n      <td>n_oligo</td>\n      <td>s_sifilis</td>\n      <td>n_hiv</td>\n      <td>n_covid</td>\n      <td>s_dheg</td>\n      <td>n_dm</td>\n      <td>Masculino</td>\n      <td>8.0</td>\n    </tr>\n    <tr>\n      <th>14</th>\n      <td>24.0</td>\n      <td>n_fumo</td>\n      <td>n_alcool</td>\n      <td>n_psico</td>\n      <td>s_tpp</td>\n      <td>d_dpp</td>\n      <td>n_oligo</td>\n      <td>n_sifilis</td>\n      <td>n_hiv</td>\n      <td>s_covid</td>\n      <td>n_dheg</td>\n      <td>n_dm</td>\n      <td>Feminino</td>\n      <td>4.0</td>\n    </tr>\n    <tr>\n      <th>72</th>\n      <td>24.0</td>\n      <td>n_fumo</td>\n      <td>n_alcool</td>\n      <td>n_psico</td>\n      <td>n_tpp</td>\n      <td>n_dpp</td>\n      <td>n_oligo</td>\n      <td>n_sifilis</td>\n      <td>n_hiv</td>\n      <td>n_covid</td>\n      <td>s_dheg</td>\n      <td>s_dm</td>\n      <td>Feminino</td>\n      <td>8.0</td>\n    </tr>\n  </tbody>\n</table>\n<p>267 rows × 14 columns</p>\n</div>"
     },
     "execution_count": 7,
     "metadata": {},
     "output_type": "execute_result"
    }
   ],
   "source": [
    "x_train"
   ],
   "metadata": {
    "collapsed": false,
    "pycharm": {
     "name": "#%%\n"
    }
   }
  },
  {
   "cell_type": "code",
   "execution_count": 8,
   "metadata": {
    "pycharm": {
     "name": "#%%\n"
    }
   },
   "outputs": [
    {
     "name": "stderr",
     "output_type": "stream",
     "text": [
      "29-05-2022 06:19:07 x train: (267, 14)\n",
      "29-05-2022 06:19:07 y train: (267,)\n",
      "29-05-2022 06:19:07 x val: (115, 14)\n",
      "29-05-2022 06:19:07 y val: (115,)\n"
     ]
    }
   ],
   "source": [
    "logger.info(\"x train: {}\".format(x_train.shape))\n",
    "logger.info(\"y train: {}\".format(y_train.shape))\n",
    "logger.info(\"x val: {}\".format(x_val.shape))\n",
    "logger.info(\"y val: {}\".format(y_val.shape))"
   ]
  },
  {
   "cell_type": "markdown",
   "metadata": {
    "pycharm": {
     "name": "#%% md\n"
    }
   },
   "source": [
    "### 3.1. Preparação do *Dataset*"
   ]
  },
  {
   "cell_type": "markdown",
   "metadata": {
    "pycharm": {
     "name": "#%% md\n"
    }
   },
   "source": [
    "Remoção de *outliers* - só tem sentido com dados numéricos.\n",
    "\n",
    "Será considerada a *feature* **idade_materna** como possível fonte de *outliers* e um *boxplot* da feature revelará se existe outliers a serem tratados."
   ]
  },
  {
   "cell_type": "code",
   "execution_count": 9,
   "metadata": {
    "pycharm": {
     "name": "#%%\n"
    }
   },
   "outputs": [
    {
     "data": {
      "text/plain": "<Figure size 432x288 with 1 Axes>",
      "image/png": "[encoded data removed]"
     },
     "metadata": {
      "needs_background": "light"
     },
     "output_type": "display_data"
    }
   ],
   "source": [
    "%matplotlib inline\n",
    "plt.boxplot(df_to_split['idade_materna'])\n",
    "plt.title('Outliers em idade_materna')\n",
    "plt.xlabel('idade_materna')\n",
    "plt.tick_params(\n",
    "    axis='x',\n",
    "    bottom=False,\n",
    "    labelbottom=False\n",
    ")\n",
    "plt.show()"
   ]
  },
  {
   "cell_type": "markdown",
   "metadata": {
    "pycharm": {
     "name": "#%% md\n"
    }
   },
   "source": [
    "A princípio não parece haver *outliers* na *feature* porém será deixada a opção de tratamento para os mesmos em caso de surgirem no *dataset*."
   ]
  },
  {
   "cell_type": "code",
   "execution_count": 10,
   "metadata": {
    "pycharm": {
     "name": "#%%\n"
    }
   },
   "outputs": [
    {
     "name": "stderr",
     "output_type": "stream",
     "text": [
      "29-05-2022 06:19:15 Remoção de outliers\n"
     ]
    }
   ],
   "source": [
    "logger.info(\"Remoção de outliers\")\n",
    "\n",
    "# Variável temporária\n",
    "x = x_train['idade_materna'].copy()\n",
    "\n",
    "# Redimensiona variável para adequar ao procedimento - técnica sugerida pela mensagem de erro\n",
    "x = x.values.reshape(-1, 1)\n",
    "\n",
    "# Identifica e prevê outliers em um único passo\n",
    "lof = LocalOutlierFactor()\n",
    "outlier = lof.fit_predict(x)\n",
    "mask = outlier != -1"
   ]
  },
  {
   "cell_type": "code",
   "execution_count": 11,
   "metadata": {
    "pycharm": {
     "name": "#%%\n"
    }
   },
   "outputs": [
    {
     "name": "stderr",
     "output_type": "stream",
     "text": [
      "29-05-2022 06:19:16 x_train shape [original]: (267, 14)\n",
      "29-05-2022 06:19:16 x_train shape [outlier removal]: (259, 14)\n"
     ]
    }
   ],
   "source": [
    "logger.info(\"x_train shape [original]: {}\".format(x_train.shape))\n",
    "logger.info(\"x_train shape [outlier removal]: {}\".format(x_train.loc[mask,:].shape))"
   ]
  },
  {
   "cell_type": "markdown",
   "metadata": {
    "pycharm": {
     "name": "#%% md\n"
    }
   },
   "source": [
    "Após execução do passo anterior, percebe-se que o algoritmo considerou a existência de 12 *outliers* e os removeu, reduzindo o tamanho do *dataset*.  Desta forma o conjunto de treinamento será atualizado."
   ]
  },
  {
   "cell_type": "code",
   "execution_count": 12,
   "metadata": {
    "pycharm": {
     "name": "#%%\n"
    }
   },
   "outputs": [],
   "source": [
    "x_train = x_train.loc[mask,:].copy()\n",
    "y_train = y_train[mask].copy()"
   ]
  },
  {
   "cell_type": "code",
   "execution_count": 13,
   "outputs": [
    {
     "data": {
      "text/plain": "     idade_materna    fumo    alcool psicoativas    tpp    dpp oligoamnio  \\\n293           30.0  n_fumo  n_alcool     n_psico  s_tpp  n_dpp    n_oligo   \n194           33.0  n_fumo  n_alcool     n_psico  n_tpp  n_dpp    n_oligo   \n182           39.0  n_fumo  n_alcool     n_psico  n_tpp  n_dpp    n_oligo   \n46            25.0  n_fumo  n_alcool     n_psico  s_tpp  n_dpp    n_oligo   \n17            26.0  n_fumo  n_alcool     n_psico  s_tpp  n_dpp    n_oligo   \n..             ...     ...       ...         ...    ...    ...        ...   \n11            34.0  n_fumo  n_alcool     n_psico  n_tpp  n_dpp    n_oligo   \n243           34.0  n_fumo  n_alcool     d_psico  s_tpp  n_dpp    n_oligo   \n287           25.0  n_fumo  n_alcool     n_psico  n_tpp  n_dpp    n_oligo   \n14            24.0  n_fumo  n_alcool     n_psico  s_tpp  d_dpp    n_oligo   \n72            24.0  n_fumo  n_alcool     n_psico  n_tpp  n_dpp    n_oligo   \n\n       sifilis    hiv covid_mae    dheg    dm       sexo  apgar_1_minuto  \n293  n_sifilis  n_hiv   n_covid  n_dheg  n_dm  Masculino             1.0  \n194  n_sifilis  n_hiv   n_covid  n_dheg  s_dm  Masculino             9.0  \n182  s_sifilis  n_hiv   s_covid  n_dheg  n_dm  Masculino             6.0  \n46   n_sifilis  n_hiv   n_covid  n_dheg  s_dm  Masculino             8.0  \n17   n_sifilis  n_hiv   n_covid  s_dheg  n_dm  Masculino             9.0  \n..         ...    ...       ...     ...   ...        ...             ...  \n11   n_sifilis  n_hiv   n_covid  s_dheg  s_dm   Feminino             3.0  \n243  n_sifilis  n_hiv   n_covid  n_dheg  n_dm   Feminino             9.0  \n287  s_sifilis  n_hiv   n_covid  s_dheg  n_dm  Masculino             8.0  \n14   n_sifilis  n_hiv   s_covid  n_dheg  n_dm   Feminino             4.0  \n72   n_sifilis  n_hiv   n_covid  s_dheg  s_dm   Feminino             8.0  \n\n[259 rows x 14 columns]",
      "text/html": "<div>\n<style scoped>\n    .dataframe tbody tr th:only-of-type {\n        vertical-align: middle;\n    }\n\n    .dataframe tbody tr th {\n        vertical-align: top;\n    }\n\n    .dataframe thead th {\n        text-align: right;\n    }\n</style>\n<table border=\"1\" class=\"dataframe\">\n  <thead>\n    <tr style=\"text-align: right;\">\n      <th></th>\n      <th>idade_materna</th>\n      <th>fumo</th>\n      <th>alcool</th>\n      <th>psicoativas</th>\n      <th>tpp</th>\n      <th>dpp</th>\n      <th>oligoamnio</th>\n      <th>sifilis</th>\n      <th>hiv</th>\n      <th>covid_mae</th>\n      <th>dheg</th>\n      <th>dm</th>\n      <th>sexo</th>\n      <th>apgar_1_minuto</th>\n    </tr>\n  </thead>\n  <tbody>\n    <tr>\n      <th>293</th>\n      <td>30.0</td>\n      <td>n_fumo</td>\n      <td>n_alcool</td>\n      <td>n_psico</td>\n      <td>s_tpp</td>\n      <td>n_dpp</td>\n      <td>n_oligo</td>\n      <td>n_sifilis</td>\n      <td>n_hiv</td>\n      <td>n_covid</td>\n      <td>n_dheg</td>\n      <td>n_dm</td>\n      <td>Masculino</td>\n      <td>1.0</td>\n    </tr>\n    <tr>\n      <th>194</th>\n      <td>33.0</td>\n      <td>n_fumo</td>\n      <td>n_alcool</td>\n      <td>n_psico</td>\n      <td>n_tpp</td>\n      <td>n_dpp</td>\n      <td>n_oligo</td>\n      <td>n_sifilis</td>\n      <td>n_hiv</td>\n      <td>n_covid</td>\n      <td>n_dheg</td>\n      <td>s_dm</td>\n      <td>Masculino</td>\n      <td>9.0</td>\n    </tr>\n    <tr>\n      <th>182</th>\n      <td>39.0</td>\n      <td>n_fumo</td>\n      <td>n_alcool</td>\n      <td>n_psico</td>\n      <td>n_tpp</td>\n      <td>n_dpp</td>\n      <td>n_oligo</td>\n      <td>s_sifilis</td>\n      <td>n_hiv</td>\n      <td>s_covid</td>\n      <td>n_dheg</td>\n      <td>n_dm</td>\n      <td>Masculino</td>\n      <td>6.0</td>\n    </tr>\n    <tr>\n      <th>46</th>\n      <td>25.0</td>\n      <td>n_fumo</td>\n      <td>n_alcool</td>\n      <td>n_psico</td>\n      <td>s_tpp</td>\n      <td>n_dpp</td>\n      <td>n_oligo</td>\n      <td>n_sifilis</td>\n      <td>n_hiv</td>\n      <td>n_covid</td>\n      <td>n_dheg</td>\n      <td>s_dm</td>\n      <td>Masculino</td>\n      <td>8.0</td>\n    </tr>\n    <tr>\n      <th>17</th>\n      <td>26.0</td>\n      <td>n_fumo</td>\n      <td>n_alcool</td>\n      <td>n_psico</td>\n      <td>s_tpp</td>\n      <td>n_dpp</td>\n      <td>n_oligo</td>\n      <td>n_sifilis</td>\n      <td>n_hiv</td>\n      <td>n_covid</td>\n      <td>s_dheg</td>\n      <td>n_dm</td>\n      <td>Masculino</td>\n      <td>9.0</td>\n    </tr>\n    <tr>\n      <th>...</th>\n      <td>...</td>\n      <td>...</td>\n      <td>...</td>\n      <td>...</td>\n      <td>...</td>\n      <td>...</td>\n      <td>...</td>\n      <td>...</td>\n      <td>...</td>\n      <td>...</td>\n      <td>...</td>\n      <td>...</td>\n      <td>...</td>\n      <td>...</td>\n    </tr>\n    <tr>\n      <th>11</th>\n      <td>34.0</td>\n      <td>n_fumo</td>\n      <td>n_alcool</td>\n      <td>n_psico</td>\n      <td>n_tpp</td>\n      <td>n_dpp</td>\n      <td>n_oligo</td>\n      <td>n_sifilis</td>\n      <td>n_hiv</td>\n      <td>n_covid</td>\n      <td>s_dheg</td>\n      <td>s_dm</td>\n      <td>Feminino</td>\n      <td>3.0</td>\n    </tr>\n    <tr>\n      <th>243</th>\n      <td>34.0</td>\n      <td>n_fumo</td>\n      <td>n_alcool</td>\n      <td>d_psico</td>\n      <td>s_tpp</td>\n      <td>n_dpp</td>\n      <td>n_oligo</td>\n      <td>n_sifilis</td>\n      <td>n_hiv</td>\n      <td>n_covid</td>\n      <td>n_dheg</td>\n      <td>n_dm</td>\n      <td>Feminino</td>\n      <td>9.0</td>\n    </tr>\n    <tr>\n      <th>287</th>\n      <td>25.0</td>\n      <td>n_fumo</td>\n      <td>n_alcool</td>\n      <td>n_psico</td>\n      <td>n_tpp</td>\n      <td>n_dpp</td>\n      <td>n_oligo</td>\n      <td>s_sifilis</td>\n      <td>n_hiv</td>\n      <td>n_covid</td>\n      <td>s_dheg</td>\n      <td>n_dm</td>\n      <td>Masculino</td>\n      <td>8.0</td>\n    </tr>\n    <tr>\n      <th>14</th>\n      <td>24.0</td>\n      <td>n_fumo</td>\n      <td>n_alcool</td>\n      <td>n_psico</td>\n      <td>s_tpp</td>\n      <td>d_dpp</td>\n      <td>n_oligo</td>\n      <td>n_sifilis</td>\n      <td>n_hiv</td>\n      <td>s_covid</td>\n      <td>n_dheg</td>\n      <td>n_dm</td>\n      <td>Feminino</td>\n      <td>4.0</td>\n    </tr>\n    <tr>\n      <th>72</th>\n      <td>24.0</td>\n      <td>n_fumo</td>\n      <td>n_alcool</td>\n      <td>n_psico</td>\n      <td>n_tpp</td>\n      <td>n_dpp</td>\n      <td>n_oligo</td>\n      <td>n_sifilis</td>\n      <td>n_hiv</td>\n      <td>n_covid</td>\n      <td>s_dheg</td>\n      <td>s_dm</td>\n      <td>Feminino</td>\n      <td>8.0</td>\n    </tr>\n  </tbody>\n</table>\n<p>259 rows × 14 columns</p>\n</div>"
     },
     "execution_count": 13,
     "metadata": {},
     "output_type": "execute_result"
    }
   ],
   "source": [
    "x_train"
   ],
   "metadata": {
    "collapsed": false,
    "pycharm": {
     "name": "#%%\n"
    }
   }
  },
  {
   "cell_type": "markdown",
   "metadata": {
    "pycharm": {
     "name": "#%% md\n"
    }
   },
   "source": [
    "### 3.2.  Codificação da Variável *Target*"
   ]
  },
  {
   "cell_type": "markdown",
   "metadata": {
    "pycharm": {
     "name": "#%% md\n"
    }
   },
   "source": [
    "Neste passo a variável *target* categórica terá seus valores de texto substituídos por uma valor numérico.  Originalmente, no *dataset* recebido da API, as variáveis são já codificadas em valores numéricos pelo operador do sistema de alimentação dos dados via dicionário de dados.  No entanto, este processo foi revertido aqui na etapa de preprocessamento para fins didáticos."
   ]
  },
  {
   "cell_type": "code",
   "execution_count": 14,
   "metadata": {
    "pycharm": {
     "name": "#%%\n"
    }
   },
   "outputs": [
    {
     "data": {
      "text/plain": "293    sr\n194    nr\n182    sr\n46     nr\n17     nr\n       ..\n11     sr\n243    nr\n287    nr\n14     sr\n72     nr\nName: reanimacao, Length: 259, dtype: object"
     },
     "execution_count": 14,
     "metadata": {},
     "output_type": "execute_result"
    }
   ],
   "source": [
    "y_train"
   ]
  },
  {
   "cell_type": "code",
   "execution_count": 15,
   "outputs": [
    {
     "name": "stderr",
     "output_type": "stream",
     "text": [
      "29-05-2022 06:19:36 Codificando variável target\n",
      "29-05-2022 06:19:36 Classes [0, 1]: ['nr' 'sr']\n"
     ]
    }
   ],
   "source": [
    "logger.info(\"Codificando variável target\")\n",
    "# Objeto codificador\n",
    "le = LabelEncoder()\n",
    "\n",
    "# Treinamento e transformação do conjunto de treinamento\n",
    "y_train = le.fit_transform(y_train)\n",
    "\n",
    "# Transformação do conjunto de validação - não é necessário treinamento pois já\n",
    "# foi realizado\n",
    "y_val = le.transform(y_val)\n",
    "\n",
    "logger.info(\"Classes [0, 1]: {}\".format(le.inverse_transform([0, 1])))"
   ],
   "metadata": {
    "collapsed": false,
    "pycharm": {
     "name": "#%%\n"
    }
   }
  },
  {
   "cell_type": "code",
   "execution_count": 16,
   "outputs": [
    {
     "data": {
      "text/plain": "array([1, 0, 1, 0, 0, 0, 1, 0, 1, 0, 1, 0, 1, 1, 1, 0, 0, 1, 0, 0, 0, 1,\n       1, 0, 1, 1, 0, 0, 1, 0, 0, 0, 0, 0, 0, 0, 0, 0, 1, 0, 1, 0, 1, 0,\n       0, 0, 1, 1, 0, 1, 0, 0, 1, 0, 1, 1, 0, 0, 1, 0, 0, 0, 0, 0, 0, 1,\n       1, 1, 1, 0, 1, 0, 1, 0, 0, 0, 0, 0, 1, 1, 1, 0, 0, 1, 0, 0, 0, 1,\n       1, 1, 0, 0, 1, 1, 0, 1, 1, 0, 0, 1, 0, 0, 1, 1, 1, 0, 1, 1, 1, 1,\n       1, 1, 0, 1, 0, 1, 0, 0, 0, 0, 1, 0, 0, 0, 0, 1, 0, 1, 0, 0, 0, 0,\n       0, 0, 0, 0, 1, 1, 0, 0, 1, 1, 1, 1, 0, 1, 0, 0, 1, 1, 0, 1, 0, 0,\n       0, 0, 0, 0, 0, 0, 0, 1, 0, 1, 1, 1, 1, 1, 1, 0, 0, 1, 0, 0, 0, 1,\n       1, 1, 1, 1, 0, 0, 1, 1, 1, 0, 1, 0, 0, 0, 0, 0, 0, 0, 0, 0, 0, 1,\n       0, 1, 1, 1, 0, 0, 0, 0, 1, 0, 1, 0, 1, 1, 1, 1, 0, 1, 0, 0, 1, 0,\n       1, 1, 1, 0, 0, 1, 0, 1, 0, 0, 0, 0, 1, 0, 0, 0, 0, 0, 1, 0, 0, 0,\n       0, 0, 0, 1, 0, 0, 0, 0, 1, 0, 0, 0, 1, 0, 0, 1, 0])"
     },
     "execution_count": 16,
     "metadata": {},
     "output_type": "execute_result"
    }
   ],
   "source": [
    "y_train"
   ],
   "metadata": {
    "collapsed": false,
    "pycharm": {
     "name": "#%%\n"
    }
   }
  },
  {
   "cell_type": "code",
   "execution_count": 17,
   "metadata": {
    "pycharm": {
     "name": "#%%\n"
    }
   },
   "outputs": [
    {
     "data": {
      "text/plain": "array([1, 1, 1, 1, 0, 1, 0, 0, 0, 0, 1, 1, 1, 0, 0, 1, 1, 1, 0, 0, 0, 0,\n       1, 1, 0, 1, 0, 1, 1, 0, 0, 0, 1, 0, 1, 1, 1, 1, 1, 0, 0, 0, 1, 0,\n       0, 1, 0, 0, 0, 0, 1, 0, 0, 0, 0, 1, 1, 0, 1, 1, 0, 1, 0, 1, 0, 0,\n       0, 1, 0, 0, 0, 0, 0, 1, 0, 0, 0, 0, 0, 0, 1, 0, 1, 1, 0, 1, 1, 0,\n       0, 0, 1, 0, 1, 0, 1, 0, 1, 0, 1, 1, 0, 0, 0, 0, 0, 0, 1, 0, 0, 1,\n       0, 1, 0, 0, 0])"
     },
     "execution_count": 17,
     "metadata": {},
     "output_type": "execute_result"
    }
   ],
   "source": [
    "y_val"
   ]
  },
  {
   "cell_type": "markdown",
   "metadata": {
    "pycharm": {
     "name": "#%% md\n"
    }
   },
   "source": [
    "### 3.3. Codificação das *Features*"
   ]
  },
  {
   "cell_type": "markdown",
   "source": [
    "#### 3.3.1. *Features* Categóricas"
   ],
   "metadata": {
    "collapsed": false,
    "pycharm": {
     "name": "#%% md\n"
    }
   }
  },
  {
   "cell_type": "code",
   "execution_count": 17,
   "outputs": [
    {
     "data": {
      "text/plain": "(259, 14)"
     },
     "execution_count": 17,
     "metadata": {},
     "output_type": "execute_result"
    }
   ],
   "source": [
    "x_train.shape"
   ],
   "metadata": {
    "collapsed": false,
    "pycharm": {
     "name": "#%%\n"
    }
   }
  },
  {
   "cell_type": "markdown",
   "source": [
    "Seleciona as *features* categóricas"
   ],
   "metadata": {
    "collapsed": false,
    "pycharm": {
     "name": "#%% md\n"
    }
   }
  },
  {
   "cell_type": "code",
   "execution_count": 18,
   "outputs": [
    {
     "data": {
      "text/plain": "['fumo',\n 'alcool',\n 'psicoativas',\n 'tpp',\n 'dpp',\n 'oligoamnio',\n 'sifilis',\n 'hiv',\n 'covid_mae',\n 'dheg',\n 'dm',\n 'sexo']"
     },
     "execution_count": 18,
     "metadata": {},
     "output_type": "execute_result"
    }
   ],
   "source": [
    "colunas = x_train.select_dtypes('object').columns.to_list()\n",
    "colunas"
   ],
   "metadata": {
    "collapsed": false,
    "pycharm": {
     "name": "#%%\n"
    }
   }
  },
  {
   "cell_type": "code",
   "execution_count": 19,
   "outputs": [
    {
     "data": {
      "text/plain": "array(['n_fumo', 'd_fumo', 's_fumo'], dtype=object)"
     },
     "execution_count": 19,
     "metadata": {},
     "output_type": "execute_result"
    }
   ],
   "source": [
    "x_val.fumo.unique()"
   ],
   "metadata": {
    "collapsed": false,
    "pycharm": {
     "name": "#%%\n"
    }
   }
  },
  {
   "cell_type": "code",
   "execution_count": 20,
   "outputs": [],
   "source": [
    "for col in colunas:\n",
    "    # Cria o objeto OneHotEncoder\n",
    "    one_hot = OneHotEncoder(sparse=False, drop='first')\n",
    "\n",
    "    # Treinamento do codificador\n",
    "    one_hot.fit(x_train[col].values.reshape(-1,1))\n",
    "\n",
    "    # Criação de novas colunas\n",
    "    x_train[one_hot.get_feature_names_out()] = one_hot.transform(x_train[col].values.reshape(-1,1))\n",
    "    x_val[one_hot.get_feature_names_out()] = one_hot.transform(x_val[col].values.reshape(-1,1))"
   ],
   "metadata": {
    "collapsed": false,
    "pycharm": {
     "name": "#%%\n"
    }
   }
  },
  {
   "cell_type": "code",
   "execution_count": 21,
   "outputs": [
    {
     "data": {
      "text/plain": "     idade_materna    fumo    alcool psicoativas    tpp    dpp oligoamnio  \\\n293           30.0  n_fumo  n_alcool     n_psico  s_tpp  n_dpp    n_oligo   \n194           33.0  n_fumo  n_alcool     n_psico  n_tpp  n_dpp    n_oligo   \n182           39.0  n_fumo  n_alcool     n_psico  n_tpp  n_dpp    n_oligo   \n46            25.0  n_fumo  n_alcool     n_psico  s_tpp  n_dpp    n_oligo   \n17            26.0  n_fumo  n_alcool     n_psico  s_tpp  n_dpp    n_oligo   \n..             ...     ...       ...         ...    ...    ...        ...   \n11            34.0  n_fumo  n_alcool     n_psico  n_tpp  n_dpp    n_oligo   \n243           34.0  n_fumo  n_alcool     d_psico  s_tpp  n_dpp    n_oligo   \n287           25.0  n_fumo  n_alcool     n_psico  n_tpp  n_dpp    n_oligo   \n14            24.0  n_fumo  n_alcool     n_psico  s_tpp  d_dpp    n_oligo   \n72            24.0  n_fumo  n_alcool     n_psico  n_tpp  n_dpp    n_oligo   \n\n       sifilis    hiv covid_mae  ... x0_s_sifilis x0_n_hiv x0_s_hiv  \\\n293  n_sifilis  n_hiv   n_covid  ...          0.0      1.0      0.0   \n194  n_sifilis  n_hiv   n_covid  ...          0.0      1.0      0.0   \n182  s_sifilis  n_hiv   s_covid  ...          1.0      1.0      0.0   \n46   n_sifilis  n_hiv   n_covid  ...          0.0      1.0      0.0   \n17   n_sifilis  n_hiv   n_covid  ...          0.0      1.0      0.0   \n..         ...    ...       ...  ...          ...      ...      ...   \n11   n_sifilis  n_hiv   n_covid  ...          0.0      1.0      0.0   \n243  n_sifilis  n_hiv   n_covid  ...          0.0      1.0      0.0   \n287  s_sifilis  n_hiv   n_covid  ...          1.0      1.0      0.0   \n14   n_sifilis  n_hiv   s_covid  ...          0.0      1.0      0.0   \n72   n_sifilis  n_hiv   n_covid  ...          0.0      1.0      0.0   \n\n     x0_n_covid  x0_s_covid  x0_n_dheg  x0_s_dheg  x0_n_dm  x0_s_dm  \\\n293         1.0         0.0        1.0        0.0      1.0      0.0   \n194         1.0         0.0        1.0        0.0      0.0      1.0   \n182         0.0         1.0        1.0        0.0      1.0      0.0   \n46          1.0         0.0        1.0        0.0      0.0      1.0   \n17          1.0         0.0        0.0        1.0      1.0      0.0   \n..          ...         ...        ...        ...      ...      ...   \n11          1.0         0.0        0.0        1.0      0.0      1.0   \n243         1.0         0.0        1.0        0.0      1.0      0.0   \n287         1.0         0.0        0.0        1.0      1.0      0.0   \n14          0.0         1.0        1.0        0.0      1.0      0.0   \n72          1.0         0.0        0.0        1.0      0.0      1.0   \n\n     x0_Masculino  \n293           1.0  \n194           1.0  \n182           1.0  \n46            1.0  \n17            1.0  \n..            ...  \n11            0.0  \n243           0.0  \n287           1.0  \n14            0.0  \n72            0.0  \n\n[259 rows x 37 columns]",
      "text/html": "<div>\n<style scoped>\n    .dataframe tbody tr th:only-of-type {\n        vertical-align: middle;\n    }\n\n    .dataframe tbody tr th {\n        vertical-align: top;\n    }\n\n    .dataframe thead th {\n        text-align: right;\n    }\n</style>\n<table border=\"1\" class=\"dataframe\">\n  <thead>\n    <tr style=\"text-align: right;\">\n      <th></th>\n      <th>idade_materna</th>\n      <th>fumo</th>\n      <th>alcool</th>\n      <th>psicoativas</th>\n      <th>tpp</th>\n      <th>dpp</th>\n      <th>oligoamnio</th>\n      <th>sifilis</th>\n      <th>hiv</th>\n      <th>covid_mae</th>\n      <th>...</th>\n      <th>x0_s_sifilis</th>\n      <th>x0_n_hiv</th>\n      <th>x0_s_hiv</th>\n      <th>x0_n_covid</th>\n      <th>x0_s_covid</th>\n      <th>x0_n_dheg</th>\n      <th>x0_s_dheg</th>\n      <th>x0_n_dm</th>\n      <th>x0_s_dm</th>\n      <th>x0_Masculino</th>\n    </tr>\n  </thead>\n  <tbody>\n    <tr>\n      <th>293</th>\n      <td>30.0</td>\n      <td>n_fumo</td>\n      <td>n_alcool</td>\n      <td>n_psico</td>\n      <td>s_tpp</td>\n      <td>n_dpp</td>\n      <td>n_oligo</td>\n      <td>n_sifilis</td>\n      <td>n_hiv</td>\n      <td>n_covid</td>\n      <td>...</td>\n      <td>0.0</td>\n      <td>1.0</td>\n      <td>0.0</td>\n      <td>1.0</td>\n      <td>0.0</td>\n      <td>1.0</td>\n      <td>0.0</td>\n      <td>1.0</td>\n      <td>0.0</td>\n      <td>1.0</td>\n    </tr>\n    <tr>\n      <th>194</th>\n      <td>33.0</td>\n      <td>n_fumo</td>\n      <td>n_alcool</td>\n      <td>n_psico</td>\n      <td>n_tpp</td>\n      <td>n_dpp</td>\n      <td>n_oligo</td>\n      <td>n_sifilis</td>\n      <td>n_hiv</td>\n      <td>n_covid</td>\n      <td>...</td>\n      <td>0.0</td>\n      <td>1.0</td>\n      <td>0.0</td>\n      <td>1.0</td>\n      <td>0.0</td>\n      <td>1.0</td>\n      <td>0.0</td>\n      <td>0.0</td>\n      <td>1.0</td>\n      <td>1.0</td>\n    </tr>\n    <tr>\n      <th>182</th>\n      <td>39.0</td>\n      <td>n_fumo</td>\n      <td>n_alcool</td>\n      <td>n_psico</td>\n      <td>n_tpp</td>\n      <td>n_dpp</td>\n      <td>n_oligo</td>\n      <td>s_sifilis</td>\n      <td>n_hiv</td>\n      <td>s_covid</td>\n      <td>...</td>\n      <td>1.0</td>\n      <td>1.0</td>\n      <td>0.0</td>\n      <td>0.0</td>\n      <td>1.0</td>\n      <td>1.0</td>\n      <td>0.0</td>\n      <td>1.0</td>\n      <td>0.0</td>\n      <td>1.0</td>\n    </tr>\n    <tr>\n      <th>46</th>\n      <td>25.0</td>\n      <td>n_fumo</td>\n      <td>n_alcool</td>\n      <td>n_psico</td>\n      <td>s_tpp</td>\n      <td>n_dpp</td>\n      <td>n_oligo</td>\n      <td>n_sifilis</td>\n      <td>n_hiv</td>\n      <td>n_covid</td>\n      <td>...</td>\n      <td>0.0</td>\n      <td>1.0</td>\n      <td>0.0</td>\n      <td>1.0</td>\n      <td>0.0</td>\n      <td>1.0</td>\n      <td>0.0</td>\n      <td>0.0</td>\n      <td>1.0</td>\n      <td>1.0</td>\n    </tr>\n    <tr>\n      <th>17</th>\n      <td>26.0</td>\n      <td>n_fumo</td>\n      <td>n_alcool</td>\n      <td>n_psico</td>\n      <td>s_tpp</td>\n      <td>n_dpp</td>\n      <td>n_oligo</td>\n      <td>n_sifilis</td>\n      <td>n_hiv</td>\n      <td>n_covid</td>\n      <td>...</td>\n      <td>0.0</td>\n      <td>1.0</td>\n      <td>0.0</td>\n      <td>1.0</td>\n      <td>0.0</td>\n      <td>0.0</td>\n      <td>1.0</td>\n      <td>1.0</td>\n      <td>0.0</td>\n      <td>1.0</td>\n    </tr>\n    <tr>\n      <th>...</th>\n      <td>...</td>\n      <td>...</td>\n      <td>...</td>\n      <td>...</td>\n      <td>...</td>\n      <td>...</td>\n      <td>...</td>\n      <td>...</td>\n      <td>...</td>\n      <td>...</td>\n      <td>...</td>\n      <td>...</td>\n      <td>...</td>\n      <td>...</td>\n      <td>...</td>\n      <td>...</td>\n      <td>...</td>\n      <td>...</td>\n      <td>...</td>\n      <td>...</td>\n      <td>...</td>\n    </tr>\n    <tr>\n      <th>11</th>\n      <td>34.0</td>\n      <td>n_fumo</td>\n      <td>n_alcool</td>\n      <td>n_psico</td>\n      <td>n_tpp</td>\n      <td>n_dpp</td>\n      <td>n_oligo</td>\n      <td>n_sifilis</td>\n      <td>n_hiv</td>\n      <td>n_covid</td>\n      <td>...</td>\n      <td>0.0</td>\n      <td>1.0</td>\n      <td>0.0</td>\n      <td>1.0</td>\n      <td>0.0</td>\n      <td>0.0</td>\n      <td>1.0</td>\n      <td>0.0</td>\n      <td>1.0</td>\n      <td>0.0</td>\n    </tr>\n    <tr>\n      <th>243</th>\n      <td>34.0</td>\n      <td>n_fumo</td>\n      <td>n_alcool</td>\n      <td>d_psico</td>\n      <td>s_tpp</td>\n      <td>n_dpp</td>\n      <td>n_oligo</td>\n      <td>n_sifilis</td>\n      <td>n_hiv</td>\n      <td>n_covid</td>\n      <td>...</td>\n      <td>0.0</td>\n      <td>1.0</td>\n      <td>0.0</td>\n      <td>1.0</td>\n      <td>0.0</td>\n      <td>1.0</td>\n      <td>0.0</td>\n      <td>1.0</td>\n      <td>0.0</td>\n      <td>0.0</td>\n    </tr>\n    <tr>\n      <th>287</th>\n      <td>25.0</td>\n      <td>n_fumo</td>\n      <td>n_alcool</td>\n      <td>n_psico</td>\n      <td>n_tpp</td>\n      <td>n_dpp</td>\n      <td>n_oligo</td>\n      <td>s_sifilis</td>\n      <td>n_hiv</td>\n      <td>n_covid</td>\n      <td>...</td>\n      <td>1.0</td>\n      <td>1.0</td>\n      <td>0.0</td>\n      <td>1.0</td>\n      <td>0.0</td>\n      <td>0.0</td>\n      <td>1.0</td>\n      <td>1.0</td>\n      <td>0.0</td>\n      <td>1.0</td>\n    </tr>\n    <tr>\n      <th>14</th>\n      <td>24.0</td>\n      <td>n_fumo</td>\n      <td>n_alcool</td>\n      <td>n_psico</td>\n      <td>s_tpp</td>\n      <td>d_dpp</td>\n      <td>n_oligo</td>\n      <td>n_sifilis</td>\n      <td>n_hiv</td>\n      <td>s_covid</td>\n      <td>...</td>\n      <td>0.0</td>\n      <td>1.0</td>\n      <td>0.0</td>\n      <td>0.0</td>\n      <td>1.0</td>\n      <td>1.0</td>\n      <td>0.0</td>\n      <td>1.0</td>\n      <td>0.0</td>\n      <td>0.0</td>\n    </tr>\n    <tr>\n      <th>72</th>\n      <td>24.0</td>\n      <td>n_fumo</td>\n      <td>n_alcool</td>\n      <td>n_psico</td>\n      <td>n_tpp</td>\n      <td>n_dpp</td>\n      <td>n_oligo</td>\n      <td>n_sifilis</td>\n      <td>n_hiv</td>\n      <td>n_covid</td>\n      <td>...</td>\n      <td>0.0</td>\n      <td>1.0</td>\n      <td>0.0</td>\n      <td>1.0</td>\n      <td>0.0</td>\n      <td>0.0</td>\n      <td>1.0</td>\n      <td>0.0</td>\n      <td>1.0</td>\n      <td>0.0</td>\n    </tr>\n  </tbody>\n</table>\n<p>259 rows × 37 columns</p>\n</div>"
     },
     "execution_count": 21,
     "metadata": {},
     "output_type": "execute_result"
    }
   ],
   "source": [
    "x_train"
   ],
   "metadata": {
    "collapsed": false,
    "pycharm": {
     "name": "#%%\n"
    }
   }
  },
  {
   "cell_type": "code",
   "execution_count": 22,
   "outputs": [
    {
     "data": {
      "text/plain": "     idade_materna    fumo    alcool psicoativas    tpp    dpp oligoamnio  \\\n306           35.0  n_fumo  n_alcool     n_psico  n_tpp  n_dpp    n_oligo   \n156           27.0  n_fumo  n_alcool     n_psico  n_tpp  n_dpp    n_oligo   \n282           28.0  n_fumo  n_alcool     n_psico  n_tpp  s_dpp    n_oligo   \n281           42.0  n_fumo  n_alcool     n_psico  s_tpp  n_dpp    s_oligo   \n334           40.0  n_fumo  n_alcool     n_psico  s_tpp  s_dpp    n_oligo   \n..             ...     ...       ...         ...    ...    ...        ...   \n27            21.0  d_fumo  d_alcool     d_psico  n_tpp  n_dpp    d_oligo   \n370           34.0  n_fumo  n_alcool     n_psico  s_tpp  n_dpp    n_oligo   \n18            15.0  n_fumo  n_alcool     n_psico  n_tpp  n_dpp    n_oligo   \n172           35.0  n_fumo  n_alcool     n_psico  n_tpp  s_dpp    n_oligo   \n379           33.0  n_fumo  n_alcool     n_psico  n_tpp  n_dpp    n_oligo   \n\n       sifilis    hiv covid_mae  ... x0_s_sifilis x0_n_hiv x0_s_hiv  \\\n306  n_sifilis  d_hiv   s_covid  ...          0.0      0.0      0.0   \n156  n_sifilis  n_hiv   n_covid  ...          0.0      1.0      0.0   \n282  n_sifilis  n_hiv   n_covid  ...          0.0      1.0      0.0   \n281  n_sifilis  n_hiv   n_covid  ...          0.0      1.0      0.0   \n334  s_sifilis  n_hiv   n_covid  ...          1.0      1.0      0.0   \n..         ...    ...       ...  ...          ...      ...      ...   \n27   d_sifilis  d_hiv   d_covid  ...          0.0      0.0      0.0   \n370  s_sifilis  n_hiv   n_covid  ...          1.0      1.0      0.0   \n18   n_sifilis  n_hiv   n_covid  ...          0.0      1.0      0.0   \n172  n_sifilis  n_hiv   n_covid  ...          0.0      1.0      0.0   \n379  n_sifilis  n_hiv   n_covid  ...          0.0      1.0      0.0   \n\n     x0_n_covid  x0_s_covid  x0_n_dheg  x0_s_dheg  x0_n_dm  x0_s_dm  \\\n306         0.0         1.0        1.0        0.0      0.0      1.0   \n156         1.0         0.0        0.0        1.0      1.0      0.0   \n282         1.0         0.0        1.0        0.0      1.0      0.0   \n281         1.0         0.0        0.0        1.0      1.0      0.0   \n334         1.0         0.0        0.0        1.0      1.0      0.0   \n..          ...         ...        ...        ...      ...      ...   \n27          0.0         0.0        0.0        0.0      0.0      0.0   \n370         1.0         0.0        1.0        0.0      1.0      0.0   \n18          1.0         0.0        0.0        1.0      1.0      0.0   \n172         1.0         0.0        0.0        1.0      1.0      0.0   \n379         1.0         0.0        1.0        0.0      1.0      0.0   \n\n     x0_Masculino  \n306           1.0  \n156           1.0  \n282           0.0  \n281           1.0  \n334           1.0  \n..            ...  \n27            1.0  \n370           0.0  \n18            0.0  \n172           1.0  \n379           1.0  \n\n[115 rows x 37 columns]",
      "text/html": "<div>\n<style scoped>\n    .dataframe tbody tr th:only-of-type {\n        vertical-align: middle;\n    }\n\n    .dataframe tbody tr th {\n        vertical-align: top;\n    }\n\n    .dataframe thead th {\n        text-align: right;\n    }\n</style>\n<table border=\"1\" class=\"dataframe\">\n  <thead>\n    <tr style=\"text-align: right;\">\n      <th></th>\n      <th>idade_materna</th>\n      <th>fumo</th>\n      <th>alcool</th>\n      <th>psicoativas</th>\n      <th>tpp</th>\n      <th>dpp</th>\n      <th>oligoamnio</th>\n      <th>sifilis</th>\n      <th>hiv</th>\n      <th>covid_mae</th>\n      <th>...</th>\n      <th>x0_s_sifilis</th>\n      <th>x0_n_hiv</th>\n      <th>x0_s_hiv</th>\n      <th>x0_n_covid</th>\n      <th>x0_s_covid</th>\n      <th>x0_n_dheg</th>\n      <th>x0_s_dheg</th>\n      <th>x0_n_dm</th>\n      <th>x0_s_dm</th>\n      <th>x0_Masculino</th>\n    </tr>\n  </thead>\n  <tbody>\n    <tr>\n      <th>306</th>\n      <td>35.0</td>\n      <td>n_fumo</td>\n      <td>n_alcool</td>\n      <td>n_psico</td>\n      <td>n_tpp</td>\n      <td>n_dpp</td>\n      <td>n_oligo</td>\n      <td>n_sifilis</td>\n      <td>d_hiv</td>\n      <td>s_covid</td>\n      <td>...</td>\n      <td>0.0</td>\n      <td>0.0</td>\n      <td>0.0</td>\n      <td>0.0</td>\n      <td>1.0</td>\n      <td>1.0</td>\n      <td>0.0</td>\n      <td>0.0</td>\n      <td>1.0</td>\n      <td>1.0</td>\n    </tr>\n    <tr>\n      <th>156</th>\n      <td>27.0</td>\n      <td>n_fumo</td>\n      <td>n_alcool</td>\n      <td>n_psico</td>\n      <td>n_tpp</td>\n      <td>n_dpp</td>\n      <td>n_oligo</td>\n      <td>n_sifilis</td>\n      <td>n_hiv</td>\n      <td>n_covid</td>\n      <td>...</td>\n      <td>0.0</td>\n      <td>1.0</td>\n      <td>0.0</td>\n      <td>1.0</td>\n      <td>0.0</td>\n      <td>0.0</td>\n      <td>1.0</td>\n      <td>1.0</td>\n      <td>0.0</td>\n      <td>1.0</td>\n    </tr>\n    <tr>\n      <th>282</th>\n      <td>28.0</td>\n      <td>n_fumo</td>\n      <td>n_alcool</td>\n      <td>n_psico</td>\n      <td>n_tpp</td>\n      <td>s_dpp</td>\n      <td>n_oligo</td>\n      <td>n_sifilis</td>\n      <td>n_hiv</td>\n      <td>n_covid</td>\n      <td>...</td>\n      <td>0.0</td>\n      <td>1.0</td>\n      <td>0.0</td>\n      <td>1.0</td>\n      <td>0.0</td>\n      <td>1.0</td>\n      <td>0.0</td>\n      <td>1.0</td>\n      <td>0.0</td>\n      <td>0.0</td>\n    </tr>\n    <tr>\n      <th>281</th>\n      <td>42.0</td>\n      <td>n_fumo</td>\n      <td>n_alcool</td>\n      <td>n_psico</td>\n      <td>s_tpp</td>\n      <td>n_dpp</td>\n      <td>s_oligo</td>\n      <td>n_sifilis</td>\n      <td>n_hiv</td>\n      <td>n_covid</td>\n      <td>...</td>\n      <td>0.0</td>\n      <td>1.0</td>\n      <td>0.0</td>\n      <td>1.0</td>\n      <td>0.0</td>\n      <td>0.0</td>\n      <td>1.0</td>\n      <td>1.0</td>\n      <td>0.0</td>\n      <td>1.0</td>\n    </tr>\n    <tr>\n      <th>334</th>\n      <td>40.0</td>\n      <td>n_fumo</td>\n      <td>n_alcool</td>\n      <td>n_psico</td>\n      <td>s_tpp</td>\n      <td>s_dpp</td>\n      <td>n_oligo</td>\n      <td>s_sifilis</td>\n      <td>n_hiv</td>\n      <td>n_covid</td>\n      <td>...</td>\n      <td>1.0</td>\n      <td>1.0</td>\n      <td>0.0</td>\n      <td>1.0</td>\n      <td>0.0</td>\n      <td>0.0</td>\n      <td>1.0</td>\n      <td>1.0</td>\n      <td>0.0</td>\n      <td>1.0</td>\n    </tr>\n    <tr>\n      <th>...</th>\n      <td>...</td>\n      <td>...</td>\n      <td>...</td>\n      <td>...</td>\n      <td>...</td>\n      <td>...</td>\n      <td>...</td>\n      <td>...</td>\n      <td>...</td>\n      <td>...</td>\n      <td>...</td>\n      <td>...</td>\n      <td>...</td>\n      <td>...</td>\n      <td>...</td>\n      <td>...</td>\n      <td>...</td>\n      <td>...</td>\n      <td>...</td>\n      <td>...</td>\n      <td>...</td>\n    </tr>\n    <tr>\n      <th>27</th>\n      <td>21.0</td>\n      <td>d_fumo</td>\n      <td>d_alcool</td>\n      <td>d_psico</td>\n      <td>n_tpp</td>\n      <td>n_dpp</td>\n      <td>d_oligo</td>\n      <td>d_sifilis</td>\n      <td>d_hiv</td>\n      <td>d_covid</td>\n      <td>...</td>\n      <td>0.0</td>\n      <td>0.0</td>\n      <td>0.0</td>\n      <td>0.0</td>\n      <td>0.0</td>\n      <td>0.0</td>\n      <td>0.0</td>\n      <td>0.0</td>\n      <td>0.0</td>\n      <td>1.0</td>\n    </tr>\n    <tr>\n      <th>370</th>\n      <td>34.0</td>\n      <td>n_fumo</td>\n      <td>n_alcool</td>\n      <td>n_psico</td>\n      <td>s_tpp</td>\n      <td>n_dpp</td>\n      <td>n_oligo</td>\n      <td>s_sifilis</td>\n      <td>n_hiv</td>\n      <td>n_covid</td>\n      <td>...</td>\n      <td>1.0</td>\n      <td>1.0</td>\n      <td>0.0</td>\n      <td>1.0</td>\n      <td>0.0</td>\n      <td>1.0</td>\n      <td>0.0</td>\n      <td>1.0</td>\n      <td>0.0</td>\n      <td>0.0</td>\n    </tr>\n    <tr>\n      <th>18</th>\n      <td>15.0</td>\n      <td>n_fumo</td>\n      <td>n_alcool</td>\n      <td>n_psico</td>\n      <td>n_tpp</td>\n      <td>n_dpp</td>\n      <td>n_oligo</td>\n      <td>n_sifilis</td>\n      <td>n_hiv</td>\n      <td>n_covid</td>\n      <td>...</td>\n      <td>0.0</td>\n      <td>1.0</td>\n      <td>0.0</td>\n      <td>1.0</td>\n      <td>0.0</td>\n      <td>0.0</td>\n      <td>1.0</td>\n      <td>1.0</td>\n      <td>0.0</td>\n      <td>0.0</td>\n    </tr>\n    <tr>\n      <th>172</th>\n      <td>35.0</td>\n      <td>n_fumo</td>\n      <td>n_alcool</td>\n      <td>n_psico</td>\n      <td>n_tpp</td>\n      <td>s_dpp</td>\n      <td>n_oligo</td>\n      <td>n_sifilis</td>\n      <td>n_hiv</td>\n      <td>n_covid</td>\n      <td>...</td>\n      <td>0.0</td>\n      <td>1.0</td>\n      <td>0.0</td>\n      <td>1.0</td>\n      <td>0.0</td>\n      <td>0.0</td>\n      <td>1.0</td>\n      <td>1.0</td>\n      <td>0.0</td>\n      <td>1.0</td>\n    </tr>\n    <tr>\n      <th>379</th>\n      <td>33.0</td>\n      <td>n_fumo</td>\n      <td>n_alcool</td>\n      <td>n_psico</td>\n      <td>n_tpp</td>\n      <td>n_dpp</td>\n      <td>n_oligo</td>\n      <td>n_sifilis</td>\n      <td>n_hiv</td>\n      <td>n_covid</td>\n      <td>...</td>\n      <td>0.0</td>\n      <td>1.0</td>\n      <td>0.0</td>\n      <td>1.0</td>\n      <td>0.0</td>\n      <td>1.0</td>\n      <td>0.0</td>\n      <td>1.0</td>\n      <td>0.0</td>\n      <td>1.0</td>\n    </tr>\n  </tbody>\n</table>\n<p>115 rows × 37 columns</p>\n</div>"
     },
     "execution_count": 22,
     "metadata": {},
     "output_type": "execute_result"
    }
   ],
   "source": [
    "x_val"
   ],
   "metadata": {
    "collapsed": false,
    "pycharm": {
     "name": "#%%\n"
    }
   }
  },
  {
   "cell_type": "code",
   "execution_count": 23,
   "outputs": [],
   "source": [
    "x_train.drop(columns=colunas, axis=1, inplace=True)\n",
    "x_val.drop(columns=colunas, axis=1, inplace=True)"
   ],
   "metadata": {
    "collapsed": false,
    "pycharm": {
     "name": "#%%\n"
    }
   }
  },
  {
   "cell_type": "code",
   "execution_count": 24,
   "outputs": [
    {
     "data": {
      "text/plain": "     idade_materna  apgar_1_minuto  x0_n_fumo  x0_s_fumo  x0_n_alcool  \\\n293           30.0             1.0        1.0        0.0          1.0   \n194           33.0             9.0        1.0        0.0          1.0   \n182           39.0             6.0        1.0        0.0          1.0   \n46            25.0             8.0        1.0        0.0          1.0   \n17            26.0             9.0        1.0        0.0          1.0   \n\n     x0_s_alcool  x0_n_psico  x0_s_psico  x0_n_tpp  x0_s_tpp  ...  \\\n293          0.0         1.0         0.0       0.0       1.0  ...   \n194          0.0         1.0         0.0       1.0       0.0  ...   \n182          0.0         1.0         0.0       1.0       0.0  ...   \n46           0.0         1.0         0.0       0.0       1.0  ...   \n17           0.0         1.0         0.0       0.0       1.0  ...   \n\n     x0_s_sifilis  x0_n_hiv  x0_s_hiv  x0_n_covid  x0_s_covid  x0_n_dheg  \\\n293           0.0       1.0       0.0         1.0         0.0        1.0   \n194           0.0       1.0       0.0         1.0         0.0        1.0   \n182           1.0       1.0       0.0         0.0         1.0        1.0   \n46            0.0       1.0       0.0         1.0         0.0        1.0   \n17            0.0       1.0       0.0         1.0         0.0        0.0   \n\n     x0_s_dheg  x0_n_dm  x0_s_dm  x0_Masculino  \n293        0.0      1.0      0.0           1.0  \n194        0.0      0.0      1.0           1.0  \n182        0.0      1.0      0.0           1.0  \n46         0.0      0.0      1.0           1.0  \n17         1.0      1.0      0.0           1.0  \n\n[5 rows x 25 columns]",
      "text/html": "<div>\n<style scoped>\n    .dataframe tbody tr th:only-of-type {\n        vertical-align: middle;\n    }\n\n    .dataframe tbody tr th {\n        vertical-align: top;\n    }\n\n    .dataframe thead th {\n        text-align: right;\n    }\n</style>\n<table border=\"1\" class=\"dataframe\">\n  <thead>\n    <tr style=\"text-align: right;\">\n      <th></th>\n      <th>idade_materna</th>\n      <th>apgar_1_minuto</th>\n      <th>x0_n_fumo</th>\n      <th>x0_s_fumo</th>\n      <th>x0_n_alcool</th>\n      <th>x0_s_alcool</th>\n      <th>x0_n_psico</th>\n      <th>x0_s_psico</th>\n      <th>x0_n_tpp</th>\n      <th>x0_s_tpp</th>\n      <th>...</th>\n      <th>x0_s_sifilis</th>\n      <th>x0_n_hiv</th>\n      <th>x0_s_hiv</th>\n      <th>x0_n_covid</th>\n      <th>x0_s_covid</th>\n      <th>x0_n_dheg</th>\n      <th>x0_s_dheg</th>\n      <th>x0_n_dm</th>\n      <th>x0_s_dm</th>\n      <th>x0_Masculino</th>\n    </tr>\n  </thead>\n  <tbody>\n    <tr>\n      <th>293</th>\n      <td>30.0</td>\n      <td>1.0</td>\n      <td>1.0</td>\n      <td>0.0</td>\n      <td>1.0</td>\n      <td>0.0</td>\n      <td>1.0</td>\n      <td>0.0</td>\n      <td>0.0</td>\n      <td>1.0</td>\n      <td>...</td>\n      <td>0.0</td>\n      <td>1.0</td>\n      <td>0.0</td>\n      <td>1.0</td>\n      <td>0.0</td>\n      <td>1.0</td>\n      <td>0.0</td>\n      <td>1.0</td>\n      <td>0.0</td>\n      <td>1.0</td>\n    </tr>\n    <tr>\n      <th>194</th>\n      <td>33.0</td>\n      <td>9.0</td>\n      <td>1.0</td>\n      <td>0.0</td>\n      <td>1.0</td>\n      <td>0.0</td>\n      <td>1.0</td>\n      <td>0.0</td>\n      <td>1.0</td>\n      <td>0.0</td>\n      <td>...</td>\n      <td>0.0</td>\n      <td>1.0</td>\n      <td>0.0</td>\n      <td>1.0</td>\n      <td>0.0</td>\n      <td>1.0</td>\n      <td>0.0</td>\n      <td>0.0</td>\n      <td>1.0</td>\n      <td>1.0</td>\n    </tr>\n    <tr>\n      <th>182</th>\n      <td>39.0</td>\n      <td>6.0</td>\n      <td>1.0</td>\n      <td>0.0</td>\n      <td>1.0</td>\n      <td>0.0</td>\n      <td>1.0</td>\n      <td>0.0</td>\n      <td>1.0</td>\n      <td>0.0</td>\n      <td>...</td>\n      <td>1.0</td>\n      <td>1.0</td>\n      <td>0.0</td>\n      <td>0.0</td>\n      <td>1.0</td>\n      <td>1.0</td>\n      <td>0.0</td>\n      <td>1.0</td>\n      <td>0.0</td>\n      <td>1.0</td>\n    </tr>\n    <tr>\n      <th>46</th>\n      <td>25.0</td>\n      <td>8.0</td>\n      <td>1.0</td>\n      <td>0.0</td>\n      <td>1.0</td>\n      <td>0.0</td>\n      <td>1.0</td>\n      <td>0.0</td>\n      <td>0.0</td>\n      <td>1.0</td>\n      <td>...</td>\n      <td>0.0</td>\n      <td>1.0</td>\n      <td>0.0</td>\n      <td>1.0</td>\n      <td>0.0</td>\n      <td>1.0</td>\n      <td>0.0</td>\n      <td>0.0</td>\n      <td>1.0</td>\n      <td>1.0</td>\n    </tr>\n    <tr>\n      <th>17</th>\n      <td>26.0</td>\n      <td>9.0</td>\n      <td>1.0</td>\n      <td>0.0</td>\n      <td>1.0</td>\n      <td>0.0</td>\n      <td>1.0</td>\n      <td>0.0</td>\n      <td>0.0</td>\n      <td>1.0</td>\n      <td>...</td>\n      <td>0.0</td>\n      <td>1.0</td>\n      <td>0.0</td>\n      <td>1.0</td>\n      <td>0.0</td>\n      <td>0.0</td>\n      <td>1.0</td>\n      <td>1.0</td>\n      <td>0.0</td>\n      <td>1.0</td>\n    </tr>\n  </tbody>\n</table>\n<p>5 rows × 25 columns</p>\n</div>"
     },
     "execution_count": 24,
     "metadata": {},
     "output_type": "execute_result"
    }
   ],
   "source": [
    "x_train.head()"
   ],
   "metadata": {
    "collapsed": false,
    "pycharm": {
     "name": "#%%\n"
    }
   }
  },
  {
   "cell_type": "code",
   "execution_count": 25,
   "outputs": [
    {
     "data": {
      "text/plain": "     idade_materna  apgar_1_minuto  x0_n_fumo  x0_s_fumo  x0_n_alcool  \\\n306           35.0             2.0        1.0        0.0          1.0   \n156           27.0             6.0        1.0        0.0          1.0   \n282           28.0             2.0        1.0        0.0          1.0   \n281           42.0             4.0        1.0        0.0          1.0   \n334           40.0             7.0        1.0        0.0          1.0   \n\n     x0_s_alcool  x0_n_psico  x0_s_psico  x0_n_tpp  x0_s_tpp  ...  \\\n306          0.0         1.0         0.0       1.0       0.0  ...   \n156          0.0         1.0         0.0       1.0       0.0  ...   \n282          0.0         1.0         0.0       1.0       0.0  ...   \n281          0.0         1.0         0.0       0.0       1.0  ...   \n334          0.0         1.0         0.0       0.0       1.0  ...   \n\n     x0_s_sifilis  x0_n_hiv  x0_s_hiv  x0_n_covid  x0_s_covid  x0_n_dheg  \\\n306           0.0       0.0       0.0         0.0         1.0        1.0   \n156           0.0       1.0       0.0         1.0         0.0        0.0   \n282           0.0       1.0       0.0         1.0         0.0        1.0   \n281           0.0       1.0       0.0         1.0         0.0        0.0   \n334           1.0       1.0       0.0         1.0         0.0        0.0   \n\n     x0_s_dheg  x0_n_dm  x0_s_dm  x0_Masculino  \n306        0.0      0.0      1.0           1.0  \n156        1.0      1.0      0.0           1.0  \n282        0.0      1.0      0.0           0.0  \n281        1.0      1.0      0.0           1.0  \n334        1.0      1.0      0.0           1.0  \n\n[5 rows x 25 columns]",
      "text/html": "<div>\n<style scoped>\n    .dataframe tbody tr th:only-of-type {\n        vertical-align: middle;\n    }\n\n    .dataframe tbody tr th {\n        vertical-align: top;\n    }\n\n    .dataframe thead th {\n        text-align: right;\n    }\n</style>\n<table border=\"1\" class=\"dataframe\">\n  <thead>\n    <tr style=\"text-align: right;\">\n      <th></th>\n      <th>idade_materna</th>\n      <th>apgar_1_minuto</th>\n      <th>x0_n_fumo</th>\n      <th>x0_s_fumo</th>\n      <th>x0_n_alcool</th>\n      <th>x0_s_alcool</th>\n      <th>x0_n_psico</th>\n      <th>x0_s_psico</th>\n      <th>x0_n_tpp</th>\n      <th>x0_s_tpp</th>\n      <th>...</th>\n      <th>x0_s_sifilis</th>\n      <th>x0_n_hiv</th>\n      <th>x0_s_hiv</th>\n      <th>x0_n_covid</th>\n      <th>x0_s_covid</th>\n      <th>x0_n_dheg</th>\n      <th>x0_s_dheg</th>\n      <th>x0_n_dm</th>\n      <th>x0_s_dm</th>\n      <th>x0_Masculino</th>\n    </tr>\n  </thead>\n  <tbody>\n    <tr>\n      <th>306</th>\n      <td>35.0</td>\n      <td>2.0</td>\n      <td>1.0</td>\n      <td>0.0</td>\n      <td>1.0</td>\n      <td>0.0</td>\n      <td>1.0</td>\n      <td>0.0</td>\n      <td>1.0</td>\n      <td>0.0</td>\n      <td>...</td>\n      <td>0.0</td>\n      <td>0.0</td>\n      <td>0.0</td>\n      <td>0.0</td>\n      <td>1.0</td>\n      <td>1.0</td>\n      <td>0.0</td>\n      <td>0.0</td>\n      <td>1.0</td>\n      <td>1.0</td>\n    </tr>\n    <tr>\n      <th>156</th>\n      <td>27.0</td>\n      <td>6.0</td>\n      <td>1.0</td>\n      <td>0.0</td>\n      <td>1.0</td>\n      <td>0.0</td>\n      <td>1.0</td>\n      <td>0.0</td>\n      <td>1.0</td>\n      <td>0.0</td>\n      <td>...</td>\n      <td>0.0</td>\n      <td>1.0</td>\n      <td>0.0</td>\n      <td>1.0</td>\n      <td>0.0</td>\n      <td>0.0</td>\n      <td>1.0</td>\n      <td>1.0</td>\n      <td>0.0</td>\n      <td>1.0</td>\n    </tr>\n    <tr>\n      <th>282</th>\n      <td>28.0</td>\n      <td>2.0</td>\n      <td>1.0</td>\n      <td>0.0</td>\n      <td>1.0</td>\n      <td>0.0</td>\n      <td>1.0</td>\n      <td>0.0</td>\n      <td>1.0</td>\n      <td>0.0</td>\n      <td>...</td>\n      <td>0.0</td>\n      <td>1.0</td>\n      <td>0.0</td>\n      <td>1.0</td>\n      <td>0.0</td>\n      <td>1.0</td>\n      <td>0.0</td>\n      <td>1.0</td>\n      <td>0.0</td>\n      <td>0.0</td>\n    </tr>\n    <tr>\n      <th>281</th>\n      <td>42.0</td>\n      <td>4.0</td>\n      <td>1.0</td>\n      <td>0.0</td>\n      <td>1.0</td>\n      <td>0.0</td>\n      <td>1.0</td>\n      <td>0.0</td>\n      <td>0.0</td>\n      <td>1.0</td>\n      <td>...</td>\n      <td>0.0</td>\n      <td>1.0</td>\n      <td>0.0</td>\n      <td>1.0</td>\n      <td>0.0</td>\n      <td>0.0</td>\n      <td>1.0</td>\n      <td>1.0</td>\n      <td>0.0</td>\n      <td>1.0</td>\n    </tr>\n    <tr>\n      <th>334</th>\n      <td>40.0</td>\n      <td>7.0</td>\n      <td>1.0</td>\n      <td>0.0</td>\n      <td>1.0</td>\n      <td>0.0</td>\n      <td>1.0</td>\n      <td>0.0</td>\n      <td>0.0</td>\n      <td>1.0</td>\n      <td>...</td>\n      <td>1.0</td>\n      <td>1.0</td>\n      <td>0.0</td>\n      <td>1.0</td>\n      <td>0.0</td>\n      <td>0.0</td>\n      <td>1.0</td>\n      <td>1.0</td>\n      <td>0.0</td>\n      <td>1.0</td>\n    </tr>\n  </tbody>\n</table>\n<p>5 rows × 25 columns</p>\n</div>"
     },
     "execution_count": 25,
     "metadata": {},
     "output_type": "execute_result"
    }
   ],
   "source": [
    "x_val.head()"
   ],
   "metadata": {
    "collapsed": false,
    "pycharm": {
     "name": "#%%\n"
    }
   }
  },
  {
   "cell_type": "code",
   "execution_count": 26,
   "outputs": [
    {
     "data": {
      "text/plain": "<IPython.core.display.HTML object>",
      "text/html": "Waiting for W&B process to finish... <strong style=\"color:green\">(success).</strong>"
     },
     "metadata": {},
     "output_type": "display_data"
    },
    {
     "data": {
      "text/plain": "VBox(children=(Label(value='0.001 MB of 0.001 MB uploaded (0.000 MB deduped)\\r'), FloatProgress(value=1.0, max…",
      "application/vnd.jupyter.widget-view+json": {
       "version_major": 2,
       "version_minor": 0,
       "model_id": "caafc8c12b244aa59433d9b2d1e41962"
      }
     },
     "metadata": {},
     "output_type": "display_data"
    },
    {
     "data": {
      "text/plain": "<IPython.core.display.HTML object>",
      "text/html": "Synced <strong style=\"color:#cdcd00\">stoic-forest-62</strong>: <a href=\"https://wandb.ai/ecalasans/mlreanimacao/runs/1kdiq6ix\" target=\"_blank\">https://wandb.ai/ecalasans/mlreanimacao/runs/1kdiq6ix</a><br/>Synced 5 W&B file(s), 0 media file(s), 0 artifact file(s) and 0 other file(s)"
     },
     "metadata": {},
     "output_type": "display_data"
    },
    {
     "data": {
      "text/plain": "<IPython.core.display.HTML object>",
      "text/html": "Find logs at: <code>./wandb/run-20220526_041816-1kdiq6ix/logs</code>"
     },
     "metadata": {},
     "output_type": "display_data"
    }
   ],
   "source": [
    "# Finaliza a execução do wandb\n",
    "run.finish()"
   ],
   "metadata": {
    "collapsed": false,
    "pycharm": {
     "name": "#%%\n"
    }
   }
  },
  {
   "cell_type": "markdown",
   "source": [
    "## 4. Construção do *Pipeline*"
   ],
   "metadata": {
    "collapsed": false,
    "pycharm": {
     "name": "#%% md\n"
    }
   }
  },
  {
   "cell_type": "markdown",
   "source": [
    "Executar parte do código acima que restaura a estrutura do artefato até antes do *OneHotEncoding*"
   ],
   "metadata": {
    "collapsed": false,
    "pycharm": {
     "name": "#%% md\n"
    }
   }
  },
  {
   "cell_type": "markdown",
   "source": [
    "### 4.1. Criação da Classe **FeatureSelection**"
   ],
   "metadata": {
    "collapsed": false,
    "pycharm": {
     "name": "#%% md\n"
    }
   }
  },
  {
   "cell_type": "code",
   "execution_count": 18,
   "outputs": [],
   "source": [
    "class FeatureSelector(BaseEstimator, TransformerMixin):\n",
    "    # Construtor\n",
    "    def __init__(self, feature_names):\n",
    "        self.feature_names = feature_names\n",
    "\n",
    "    # Override de fit\n",
    "    def fit(self, X, y=None):\n",
    "        return self\n",
    "\n",
    "    # Retorna as colunas passadas no construtor\n",
    "    def transform(self, X, y=None):\n",
    "        return X[self.feature_names]"
   ],
   "metadata": {
    "collapsed": false,
    "pycharm": {
     "name": "#%%\n"
    }
   }
  },
  {
   "cell_type": "code",
   "execution_count": 19,
   "outputs": [
    {
     "data": {
      "text/plain": "       fumo    alcool psicoativas    tpp    dpp oligoamnio    sifilis    hiv  \\\n293  n_fumo  n_alcool     n_psico  s_tpp  n_dpp    n_oligo  n_sifilis  n_hiv   \n194  n_fumo  n_alcool     n_psico  n_tpp  n_dpp    n_oligo  n_sifilis  n_hiv   \n182  n_fumo  n_alcool     n_psico  n_tpp  n_dpp    n_oligo  s_sifilis  n_hiv   \n46   n_fumo  n_alcool     n_psico  s_tpp  n_dpp    n_oligo  n_sifilis  n_hiv   \n17   n_fumo  n_alcool     n_psico  s_tpp  n_dpp    n_oligo  n_sifilis  n_hiv   \n\n    covid_mae    dheg    dm       sexo  \n293   n_covid  n_dheg  n_dm  Masculino  \n194   n_covid  n_dheg  s_dm  Masculino  \n182   s_covid  n_dheg  n_dm  Masculino  \n46    n_covid  n_dheg  s_dm  Masculino  \n17    n_covid  s_dheg  n_dm  Masculino  ",
      "text/html": "<div>\n<style scoped>\n    .dataframe tbody tr th:only-of-type {\n        vertical-align: middle;\n    }\n\n    .dataframe tbody tr th {\n        vertical-align: top;\n    }\n\n    .dataframe thead th {\n        text-align: right;\n    }\n</style>\n<table border=\"1\" class=\"dataframe\">\n  <thead>\n    <tr style=\"text-align: right;\">\n      <th></th>\n      <th>fumo</th>\n      <th>alcool</th>\n      <th>psicoativas</th>\n      <th>tpp</th>\n      <th>dpp</th>\n      <th>oligoamnio</th>\n      <th>sifilis</th>\n      <th>hiv</th>\n      <th>covid_mae</th>\n      <th>dheg</th>\n      <th>dm</th>\n      <th>sexo</th>\n    </tr>\n  </thead>\n  <tbody>\n    <tr>\n      <th>293</th>\n      <td>n_fumo</td>\n      <td>n_alcool</td>\n      <td>n_psico</td>\n      <td>s_tpp</td>\n      <td>n_dpp</td>\n      <td>n_oligo</td>\n      <td>n_sifilis</td>\n      <td>n_hiv</td>\n      <td>n_covid</td>\n      <td>n_dheg</td>\n      <td>n_dm</td>\n      <td>Masculino</td>\n    </tr>\n    <tr>\n      <th>194</th>\n      <td>n_fumo</td>\n      <td>n_alcool</td>\n      <td>n_psico</td>\n      <td>n_tpp</td>\n      <td>n_dpp</td>\n      <td>n_oligo</td>\n      <td>n_sifilis</td>\n      <td>n_hiv</td>\n      <td>n_covid</td>\n      <td>n_dheg</td>\n      <td>s_dm</td>\n      <td>Masculino</td>\n    </tr>\n    <tr>\n      <th>182</th>\n      <td>n_fumo</td>\n      <td>n_alcool</td>\n      <td>n_psico</td>\n      <td>n_tpp</td>\n      <td>n_dpp</td>\n      <td>n_oligo</td>\n      <td>s_sifilis</td>\n      <td>n_hiv</td>\n      <td>s_covid</td>\n      <td>n_dheg</td>\n      <td>n_dm</td>\n      <td>Masculino</td>\n    </tr>\n    <tr>\n      <th>46</th>\n      <td>n_fumo</td>\n      <td>n_alcool</td>\n      <td>n_psico</td>\n      <td>s_tpp</td>\n      <td>n_dpp</td>\n      <td>n_oligo</td>\n      <td>n_sifilis</td>\n      <td>n_hiv</td>\n      <td>n_covid</td>\n      <td>n_dheg</td>\n      <td>s_dm</td>\n      <td>Masculino</td>\n    </tr>\n    <tr>\n      <th>17</th>\n      <td>n_fumo</td>\n      <td>n_alcool</td>\n      <td>n_psico</td>\n      <td>s_tpp</td>\n      <td>n_dpp</td>\n      <td>n_oligo</td>\n      <td>n_sifilis</td>\n      <td>n_hiv</td>\n      <td>n_covid</td>\n      <td>s_dheg</td>\n      <td>n_dm</td>\n      <td>Masculino</td>\n    </tr>\n  </tbody>\n</table>\n</div>"
     },
     "execution_count": 19,
     "metadata": {},
     "output_type": "execute_result"
    }
   ],
   "source": [
    "# Teste da classe\n",
    "fs = FeatureSelector(x_train.select_dtypes(\"object\").columns.to_list())\n",
    "df = fs.fit_transform(x_train)\n",
    "df.head()"
   ],
   "metadata": {
    "collapsed": false,
    "pycharm": {
     "name": "#%%\n"
    }
   }
  },
  {
   "cell_type": "markdown",
   "source": [
    "### 4.2. Criação da Classe **CategoricalTransformer**"
   ],
   "metadata": {
    "collapsed": false,
    "pycharm": {
     "name": "#%% md\n"
    }
   }
  },
  {
   "cell_type": "code",
   "execution_count": 20,
   "outputs": [],
   "source": [
    "class CategoricalTransformer(BaseEstimator, TransformerMixin):\n",
    "    # Construtor\n",
    "    def __init__(self, new_features=True, colnames=None):\n",
    "        self.new_features = new_features\n",
    "        self.colnames = colnames\n",
    "\n",
    "    # Override de fit\n",
    "    def fit(self, X, y=None):\n",
    "        return self\n",
    "\n",
    "    # Override de get_feature_names_out\n",
    "    def get_feature_names_out(self):\n",
    "        return self.colnames.tolist()\n",
    "\n",
    "    # Transformer method we wrote for this transformer\n",
    "    def transform(self, X, y=None):\n",
    "        df = pd.DataFrame(X, columns=self.colnames)\n",
    "\n",
    "        # Remove eventuais espaços em branco dos valores - a princípio isso não existe na base de dados\n",
    "        df = df.apply(lambda row: row.str.strip())\n",
    "        \n",
    "        # Opção de fazer preprocessamento se new_features for True(padrão da classe)\n",
    "        if self.new_features:\n",
    "            df['fumo'].fillna(2, inplace=True)\n",
    "            df['alcool'].fillna(2, inplace=True)\n",
    "            df['psicoativas'].fillna(2, inplace=True)\n",
    "            df['tpp'].fillna(2, inplace=True)\n",
    "            df['dheg'].fillna(2, inplace=True)\n",
    "            df['dm'].fillna(2, inplace=True)\n",
    "            df['sexo'].fillna(3, inplace=True)\n",
    "            df['oligoamnio'].fillna(2, inplace=True)\n",
    "            df['dpp'].fillna(2, inplace=True)\n",
    "            df['sifilis'].fillna(2, inplace=True)\n",
    "            df['hiv'].fillna(2, inplace=True)\n",
    "            df['covid_mae'].fillna(2, inplace=True)\n",
    "\n",
    "            # Elimina valores com sexo indefinido\n",
    "            df.drop(df[df['sexo'] == 3].index, inplace=True)\n",
    "            \n",
    "            # Categoriza as features pois o artefato retorna sempre valores numéricos\n",
    "            df['fumo'].replace([0, 1, 2, 3], ['n_fumo', 's_fumo', 'n_fumo', 'd_fumo'], inplace=True)\n",
    "            df['alcool'].replace([0, 1, 2, 3], ['n_alcool', 's_alcool', 'n_alcool', 'd_alcool'], inplace=True)\n",
    "            df['psicoativas'].replace([0, 1, 2, 3], ['n_psico', 's_psico', 'n_psico', 'd_psico'], inplace=True)\n",
    "            df['tpp'].replace([0, 1, 2, 3], ['n_tpp', 's_tpp', 'n_tpp', 'd_tpp'], inplace=True)\n",
    "            df['dheg'].replace([0, 1, 2, 3], ['n_dheg', 's_dheg', 'n_dheg', 'd_dheg'], inplace=True)\n",
    "            \n",
    "                # Melhor adequação da feature sexo\n",
    "            df['sexo'].replace([1,2], ['Feminino', 'Masculino'], inplace=True)\n",
    "            df['dpp'].replace([0, 1, 2, 3], ['n_dpp', 's_dpp', 'n_dpp', 'd_dpp'], inplace=True)\n",
    "            df['oligoamnio'].replace([0, 1, 2, 3], ['n_oligo', 's_oligo', 'n_oligo', 'd_oligo'], inplace=True)\n",
    "            df['sifilis'].replace([0, 1, 2, 3], ['n_sifilis', 's_sifilis', 'n_sifilis', 'd_sifilis'], inplace=True)\n",
    "            df['hiv'].replace([0, 1, 2, 3], ['n_hiv', 's_hiv', 'n_hiv', 'd_hiv'], inplace=True)\n",
    "            df['covid_mae'].replace([0, 1, 2, 3], ['n_covid', 's_covid', 'n_covid', 'd_covid'], inplace=True)\n",
    "            \n",
    "                # Consolidações\n",
    "            df['dm'].replace([0,1,2,3,4,5,6], ['n_dm', 'n_dm','s_dm','s_dm', 's_dm','s_dm','d_dm'], inplace=True)\n",
    "\n",
    "        self.colnames = df.columns\n",
    "\n",
    "        return df"
   ],
   "metadata": {
    "collapsed": false,
    "pycharm": {
     "name": "#%%\n"
    }
   }
  },
  {
   "cell_type": "code",
   "execution_count": 21,
   "outputs": [
    {
     "data": {
      "text/plain": "       fumo    alcool psicoativas    tpp    dpp oligoamnio    sifilis    hiv  \\\n293  n_fumo  n_alcool     n_psico  s_tpp  n_dpp    n_oligo  n_sifilis  n_hiv   \n194  n_fumo  n_alcool     n_psico  n_tpp  n_dpp    n_oligo  n_sifilis  n_hiv   \n182  n_fumo  n_alcool     n_psico  n_tpp  n_dpp    n_oligo  s_sifilis  n_hiv   \n46   n_fumo  n_alcool     n_psico  s_tpp  n_dpp    n_oligo  n_sifilis  n_hiv   \n17   n_fumo  n_alcool     n_psico  s_tpp  n_dpp    n_oligo  n_sifilis  n_hiv   \n\n    covid_mae    dheg    dm       sexo  \n293   n_covid  n_dheg  n_dm  Masculino  \n194   n_covid  n_dheg  s_dm  Masculino  \n182   s_covid  n_dheg  n_dm  Masculino  \n46    n_covid  n_dheg  s_dm  Masculino  \n17    n_covid  s_dheg  n_dm  Masculino  ",
      "text/html": "<div>\n<style scoped>\n    .dataframe tbody tr th:only-of-type {\n        vertical-align: middle;\n    }\n\n    .dataframe tbody tr th {\n        vertical-align: top;\n    }\n\n    .dataframe thead th {\n        text-align: right;\n    }\n</style>\n<table border=\"1\" class=\"dataframe\">\n  <thead>\n    <tr style=\"text-align: right;\">\n      <th></th>\n      <th>fumo</th>\n      <th>alcool</th>\n      <th>psicoativas</th>\n      <th>tpp</th>\n      <th>dpp</th>\n      <th>oligoamnio</th>\n      <th>sifilis</th>\n      <th>hiv</th>\n      <th>covid_mae</th>\n      <th>dheg</th>\n      <th>dm</th>\n      <th>sexo</th>\n    </tr>\n  </thead>\n  <tbody>\n    <tr>\n      <th>293</th>\n      <td>n_fumo</td>\n      <td>n_alcool</td>\n      <td>n_psico</td>\n      <td>s_tpp</td>\n      <td>n_dpp</td>\n      <td>n_oligo</td>\n      <td>n_sifilis</td>\n      <td>n_hiv</td>\n      <td>n_covid</td>\n      <td>n_dheg</td>\n      <td>n_dm</td>\n      <td>Masculino</td>\n    </tr>\n    <tr>\n      <th>194</th>\n      <td>n_fumo</td>\n      <td>n_alcool</td>\n      <td>n_psico</td>\n      <td>n_tpp</td>\n      <td>n_dpp</td>\n      <td>n_oligo</td>\n      <td>n_sifilis</td>\n      <td>n_hiv</td>\n      <td>n_covid</td>\n      <td>n_dheg</td>\n      <td>s_dm</td>\n      <td>Masculino</td>\n    </tr>\n    <tr>\n      <th>182</th>\n      <td>n_fumo</td>\n      <td>n_alcool</td>\n      <td>n_psico</td>\n      <td>n_tpp</td>\n      <td>n_dpp</td>\n      <td>n_oligo</td>\n      <td>s_sifilis</td>\n      <td>n_hiv</td>\n      <td>s_covid</td>\n      <td>n_dheg</td>\n      <td>n_dm</td>\n      <td>Masculino</td>\n    </tr>\n    <tr>\n      <th>46</th>\n      <td>n_fumo</td>\n      <td>n_alcool</td>\n      <td>n_psico</td>\n      <td>s_tpp</td>\n      <td>n_dpp</td>\n      <td>n_oligo</td>\n      <td>n_sifilis</td>\n      <td>n_hiv</td>\n      <td>n_covid</td>\n      <td>n_dheg</td>\n      <td>s_dm</td>\n      <td>Masculino</td>\n    </tr>\n    <tr>\n      <th>17</th>\n      <td>n_fumo</td>\n      <td>n_alcool</td>\n      <td>n_psico</td>\n      <td>s_tpp</td>\n      <td>n_dpp</td>\n      <td>n_oligo</td>\n      <td>n_sifilis</td>\n      <td>n_hiv</td>\n      <td>n_covid</td>\n      <td>s_dheg</td>\n      <td>n_dm</td>\n      <td>Masculino</td>\n    </tr>\n  </tbody>\n</table>\n</div>"
     },
     "execution_count": 21,
     "metadata": {},
     "output_type": "execute_result"
    }
   ],
   "source": [
    "# Validação\n",
    "fs = FeatureSelector(x_train.select_dtypes(\"object\").columns.to_list())\n",
    "df = fs.fit_transform(x_train)\n",
    "df.head()"
   ],
   "metadata": {
    "collapsed": false,
    "pycharm": {
     "name": "#%%\n"
    }
   }
  },
  {
   "cell_type": "code",
   "execution_count": 22,
   "outputs": [
    {
     "data": {
      "text/plain": "       fumo    alcool psicoativas    tpp    dpp oligoamnio    sifilis    hiv  \\\n293  n_fumo  n_alcool     n_psico  s_tpp  n_dpp    n_oligo  n_sifilis  n_hiv   \n194  n_fumo  n_alcool     n_psico  n_tpp  n_dpp    n_oligo  n_sifilis  n_hiv   \n182  n_fumo  n_alcool     n_psico  n_tpp  n_dpp    n_oligo  s_sifilis  n_hiv   \n46   n_fumo  n_alcool     n_psico  s_tpp  n_dpp    n_oligo  n_sifilis  n_hiv   \n17   n_fumo  n_alcool     n_psico  s_tpp  n_dpp    n_oligo  n_sifilis  n_hiv   \n\n    covid_mae    dheg    dm       sexo  \n293   n_covid  n_dheg  n_dm  Masculino  \n194   n_covid  n_dheg  s_dm  Masculino  \n182   s_covid  n_dheg  n_dm  Masculino  \n46    n_covid  n_dheg  s_dm  Masculino  \n17    n_covid  s_dheg  n_dm  Masculino  ",
      "text/html": "<div>\n<style scoped>\n    .dataframe tbody tr th:only-of-type {\n        vertical-align: middle;\n    }\n\n    .dataframe tbody tr th {\n        vertical-align: top;\n    }\n\n    .dataframe thead th {\n        text-align: right;\n    }\n</style>\n<table border=\"1\" class=\"dataframe\">\n  <thead>\n    <tr style=\"text-align: right;\">\n      <th></th>\n      <th>fumo</th>\n      <th>alcool</th>\n      <th>psicoativas</th>\n      <th>tpp</th>\n      <th>dpp</th>\n      <th>oligoamnio</th>\n      <th>sifilis</th>\n      <th>hiv</th>\n      <th>covid_mae</th>\n      <th>dheg</th>\n      <th>dm</th>\n      <th>sexo</th>\n    </tr>\n  </thead>\n  <tbody>\n    <tr>\n      <th>293</th>\n      <td>n_fumo</td>\n      <td>n_alcool</td>\n      <td>n_psico</td>\n      <td>s_tpp</td>\n      <td>n_dpp</td>\n      <td>n_oligo</td>\n      <td>n_sifilis</td>\n      <td>n_hiv</td>\n      <td>n_covid</td>\n      <td>n_dheg</td>\n      <td>n_dm</td>\n      <td>Masculino</td>\n    </tr>\n    <tr>\n      <th>194</th>\n      <td>n_fumo</td>\n      <td>n_alcool</td>\n      <td>n_psico</td>\n      <td>n_tpp</td>\n      <td>n_dpp</td>\n      <td>n_oligo</td>\n      <td>n_sifilis</td>\n      <td>n_hiv</td>\n      <td>n_covid</td>\n      <td>n_dheg</td>\n      <td>s_dm</td>\n      <td>Masculino</td>\n    </tr>\n    <tr>\n      <th>182</th>\n      <td>n_fumo</td>\n      <td>n_alcool</td>\n      <td>n_psico</td>\n      <td>n_tpp</td>\n      <td>n_dpp</td>\n      <td>n_oligo</td>\n      <td>s_sifilis</td>\n      <td>n_hiv</td>\n      <td>s_covid</td>\n      <td>n_dheg</td>\n      <td>n_dm</td>\n      <td>Masculino</td>\n    </tr>\n    <tr>\n      <th>46</th>\n      <td>n_fumo</td>\n      <td>n_alcool</td>\n      <td>n_psico</td>\n      <td>s_tpp</td>\n      <td>n_dpp</td>\n      <td>n_oligo</td>\n      <td>n_sifilis</td>\n      <td>n_hiv</td>\n      <td>n_covid</td>\n      <td>n_dheg</td>\n      <td>s_dm</td>\n      <td>Masculino</td>\n    </tr>\n    <tr>\n      <th>17</th>\n      <td>n_fumo</td>\n      <td>n_alcool</td>\n      <td>n_psico</td>\n      <td>s_tpp</td>\n      <td>n_dpp</td>\n      <td>n_oligo</td>\n      <td>n_sifilis</td>\n      <td>n_hiv</td>\n      <td>n_covid</td>\n      <td>s_dheg</td>\n      <td>n_dm</td>\n      <td>Masculino</td>\n    </tr>\n  </tbody>\n</table>\n</div>"
     },
     "execution_count": 22,
     "metadata": {},
     "output_type": "execute_result"
    }
   ],
   "source": [
    "ct = CategoricalTransformer(new_features=True, colnames=df.columns.to_list())\n",
    "df_cat = ct.fit_transform(x_train)\n",
    "df_cat.head()"
   ],
   "metadata": {
    "collapsed": false,
    "pycharm": {
     "name": "#%%\n"
    }
   }
  },
  {
   "cell_type": "code",
   "execution_count": 23,
   "outputs": [
    {
     "data": {
      "text/plain": "fumo           3\nalcool         3\npsicoativas    3\ntpp            3\ndpp            3\noligoamnio     3\nsifilis        3\nhiv            3\ncovid_mae      3\ndheg           3\ndm             3\nsexo           2\ndtype: int64"
     },
     "execution_count": 23,
     "metadata": {},
     "output_type": "execute_result"
    }
   ],
   "source": [
    "x_train.select_dtypes(\"object\").apply(pd.Series.nunique)"
   ],
   "metadata": {
    "collapsed": false,
    "pycharm": {
     "name": "#%%\n"
    }
   }
  },
  {
   "cell_type": "code",
   "execution_count": 24,
   "outputs": [
    {
     "data": {
      "text/plain": "fumo           3\nalcool         3\npsicoativas    3\ntpp            3\ndpp            3\noligoamnio     3\nsifilis        3\nhiv            3\ncovid_mae      3\ndheg           3\ndm             3\nsexo           2\ndtype: int64"
     },
     "execution_count": 24,
     "metadata": {},
     "output_type": "execute_result"
    }
   ],
   "source": [
    "df_cat.apply(pd.Series.nunique)"
   ],
   "metadata": {
    "collapsed": false,
    "pycharm": {
     "name": "#%%\n"
    }
   }
  },
  {
   "cell_type": "markdown",
   "source": [
    "### 4.3. Criação da Classe **NumericalTransformer**"
   ],
   "metadata": {
    "collapsed": false,
    "pycharm": {
     "name": "#%% md\n"
    }
   }
  },
  {
   "cell_type": "code",
   "execution_count": 25,
   "outputs": [],
   "source": [
    "class NumericalTransformer(BaseEstimator, TransformerMixin):\n",
    "    # Tipos de scalers\n",
    "    # model 0: minmax\n",
    "    # model 1: standard\n",
    "    # model 2: without scaler\n",
    "    def __init__(self, model=0, colnames=None):\n",
    "        self.model = model\n",
    "        self.colnames = colnames\n",
    "        self.scaler = None\n",
    "\n",
    "    def fit(self, X, y=None):\n",
    "        df = pd.DataFrame(X, columns=self.colnames)\n",
    "        # minmax\n",
    "        if self.model == 0:\n",
    "            self.scaler = MinMaxScaler()\n",
    "            self.scaler.fit(df)\n",
    "        # standard scaler\n",
    "        elif self.model == 1:\n",
    "            self.scaler = StandardScaler()\n",
    "            self.scaler.fit(df)\n",
    "        return self\n",
    "\n",
    "    def get_feature_names_out(self):\n",
    "        return self.colnames\n",
    "\n",
    "    def transform(self, X, y=None):\n",
    "        df = pd.DataFrame(X, columns=self.colnames)\n",
    "\n",
    "        # update columns name\n",
    "        self.colnames = df.columns.tolist()\n",
    "\n",
    "        # minmax\n",
    "        if self.model == 0:\n",
    "            # transform data\n",
    "            df = self.scaler.transform(df)\n",
    "        elif self.model == 1:\n",
    "            # transform data\n",
    "            df = self.scaler.transform(df)\n",
    "        else:\n",
    "            df = df.values\n",
    "\n",
    "        return df\n"
   ],
   "metadata": {
    "collapsed": false,
    "pycharm": {
     "name": "#%%\n"
    }
   }
  },
  {
   "cell_type": "code",
   "execution_count": 26,
   "outputs": [
    {
     "data": {
      "text/plain": "     idade_materna  apgar_1_minuto\n293           30.0             1.0\n194           33.0             9.0\n182           39.0             6.0\n46            25.0             8.0\n17            26.0             9.0",
      "text/html": "<div>\n<style scoped>\n    .dataframe tbody tr th:only-of-type {\n        vertical-align: middle;\n    }\n\n    .dataframe tbody tr th {\n        vertical-align: top;\n    }\n\n    .dataframe thead th {\n        text-align: right;\n    }\n</style>\n<table border=\"1\" class=\"dataframe\">\n  <thead>\n    <tr style=\"text-align: right;\">\n      <th></th>\n      <th>idade_materna</th>\n      <th>apgar_1_minuto</th>\n    </tr>\n  </thead>\n  <tbody>\n    <tr>\n      <th>293</th>\n      <td>30.0</td>\n      <td>1.0</td>\n    </tr>\n    <tr>\n      <th>194</th>\n      <td>33.0</td>\n      <td>9.0</td>\n    </tr>\n    <tr>\n      <th>182</th>\n      <td>39.0</td>\n      <td>6.0</td>\n    </tr>\n    <tr>\n      <th>46</th>\n      <td>25.0</td>\n      <td>8.0</td>\n    </tr>\n    <tr>\n      <th>17</th>\n      <td>26.0</td>\n      <td>9.0</td>\n    </tr>\n  </tbody>\n</table>\n</div>"
     },
     "execution_count": 26,
     "metadata": {},
     "output_type": "execute_result"
    }
   ],
   "source": [
    "# Validação\n",
    "fs = FeatureSelector(x_train.select_dtypes(\"float64\").columns.to_list())\n",
    "df = fs.fit_transform(x_train)\n",
    "df.head()"
   ],
   "metadata": {
    "collapsed": false,
    "pycharm": {
     "name": "#%%\n"
    }
   }
  },
  {
   "cell_type": "code",
   "execution_count": 27,
   "outputs": [
    {
     "data": {
      "text/plain": "array([[ 0.32208602, -2.45073571],\n       [ 0.76424298,  1.13031111],\n       [ 1.6485569 , -0.21258145],\n       [-0.41484224,  0.68268026],\n       [-0.26745659,  1.13031111],\n       [ 0.61685733,  0.68268026],\n       [-0.41484224, -0.6602123 ],\n       [ 0.76424298,  0.68268026],\n       [-0.12007094, -2.45073571],\n       [ 0.91162864,  0.68268026],\n       [ 0.46947168, -0.21258145],\n       [-0.12007094, -0.6602123 ],\n       [ 0.76424298, -1.555474  ],\n       [-0.70961355, -0.21258145],\n       [-1.44654182,  0.68268026],\n       [-1.00438486,  0.68268026],\n       [-1.00438486,  0.2350494 ],\n       [-1.29915617, -2.45073571],\n       [-0.70961355,  0.68268026],\n       [ 0.46947168,  0.68268026],\n       [-0.5622279 ,  0.68268026],\n       [-0.12007094, -1.10784315],\n       [-0.5622279 ,  0.2350494 ],\n       [-0.85699921,  1.13031111],\n       [-0.85699921, -1.10784315],\n       [ 1.05901429, -1.555474  ],\n       [ 1.05901429,  0.68268026],\n       [ 1.05901429,  1.13031111],\n       [ 0.76424298,  0.2350494 ],\n       [-1.00438486,  0.2350494 ],\n       [-0.70961355,  0.68268026],\n       [-1.59392747, -0.21258145],\n       [ 0.61685733,  0.68268026],\n       [-0.26745659,  0.2350494 ],\n       [-1.00438486,  0.68268026],\n       [ 0.02731472, -1.10784315],\n       [-0.12007094,  1.13031111],\n       [ 0.02731472, -0.21258145],\n       [-1.44654182,  0.2350494 ],\n       [-1.74131313,  0.68268026],\n       [ 1.20639994,  0.68268026],\n       [ 0.02731472,  1.13031111],\n       [ 0.91162864,  0.2350494 ],\n       [-1.29915617,  1.13031111],\n       [-1.44654182,  0.68268026],\n       [-1.00438486,  0.68268026],\n       [-1.15177051, -2.00310485],\n       [ 0.17470037,  0.68268026],\n       [ 1.3537856 ,  0.68268026],\n       [ 1.6485569 , -0.21258145],\n       [ 0.61685733, -2.00310485],\n       [-1.44654182,  0.68268026],\n       [ 0.17470037,  0.68268026],\n       [-1.44654182,  1.13031111],\n       [-0.41484224, -0.21258145],\n       [ 1.94332821,  0.2350494 ],\n       [-0.85699921,  0.68268026],\n       [-1.44654182,  0.68268026],\n       [ 0.76424298, -0.21258145],\n       [ 0.17470037, -0.21258145],\n       [ 1.05901429,  0.68268026],\n       [ 1.94332821,  0.2350494 ],\n       [ 0.91162864,  0.2350494 ],\n       [ 1.20639994,  0.68268026],\n       [-0.41484224,  0.68268026],\n       [ 1.50117125, -0.6602123 ],\n       [ 1.94332821, -2.00310485],\n       [-1.00438486, -0.6602123 ],\n       [-0.85699921, -1.555474  ],\n       [ 0.91162864,  0.2350494 ],\n       [-1.00438486,  0.2350494 ],\n       [ 0.17470037, -0.21258145],\n       [ 0.61685733,  0.68268026],\n       [-0.41484224,  0.68268026],\n       [-0.85699921,  1.13031111],\n       [ 0.61685733,  0.68268026],\n       [ 0.02731472, -0.21258145],\n       [-0.70961355,  0.68268026],\n       [-0.5622279 , -1.10784315],\n       [-1.00438486, -1.555474  ],\n       [-0.70961355, -0.6602123 ],\n       [-0.70961355,  0.68268026],\n       [ 1.05901429,  1.13031111],\n       [-0.5622279 , -1.10784315],\n       [-0.12007094,  1.13031111],\n       [-1.74131313,  0.2350494 ],\n       [-1.00438486,  0.68268026],\n       [-0.85699921,  0.68268026],\n       [-1.00438486, -2.00310485],\n       [ 0.76424298, -1.555474  ],\n       [-0.85699921,  0.2350494 ],\n       [-0.41484224,  0.68268026],\n       [-0.26745659, -1.555474  ],\n       [ 1.20639994,  0.68268026],\n       [ 1.6485569 ,  0.68268026],\n       [-1.15177051, -1.10784315],\n       [-0.85699921, -2.00310485],\n       [ 1.05901429,  1.13031111],\n       [ 0.46947168,  0.68268026],\n       [-0.41484224, -2.00310485],\n       [-1.15177051,  1.13031111],\n       [-1.44654182,  0.68268026],\n       [ 0.46947168, -0.21258145],\n       [ 1.94332821, -0.21258145],\n       [-1.15177051,  0.68268026],\n       [ 0.32208602,  0.68268026],\n       [ 1.05901429, -1.555474  ],\n       [-0.41484224,  0.2350494 ],\n       [-0.85699921, -1.10784315],\n       [-0.41484224, -1.10784315],\n       [ 0.46947168, -1.10784315],\n       [-1.15177051, -0.21258145],\n       [ 0.61685733, -0.21258145],\n       [-0.5622279 , -1.555474  ],\n       [ 1.05901429,  0.68268026],\n       [-0.41484224, -0.21258145],\n       [-1.15177051,  0.2350494 ],\n       [ 0.61685733,  1.13031111],\n       [ 1.3537856 ,  0.68268026],\n       [ 1.05901429,  0.68268026],\n       [-1.44654182, -2.45073571],\n       [-1.44654182,  0.68268026],\n       [ 0.76424298,  0.68268026],\n       [ 0.02731472,  0.68268026],\n       [-0.5622279 ,  0.68268026],\n       [ 0.91162864, -2.00310485],\n       [-0.5622279 ,  1.13031111],\n       [-0.70961355, -0.6602123 ],\n       [-0.41484224, -0.21258145],\n       [-0.5622279 ,  1.13031111],\n       [ 0.61685733, -0.21258145],\n       [ 0.91162864, -0.21258145],\n       [-0.41484224,  1.13031111],\n       [-0.5622279 ,  0.68268026],\n       [ 1.3537856 , -0.21258145],\n       [ 0.76424298,  0.68268026],\n       [-1.15177051, -2.45073571],\n       [ 0.17470037, -1.555474  ],\n       [-0.85699921,  0.2350494 ],\n       [ 2.09071387,  0.68268026],\n       [-0.41484224, -1.555474  ],\n       [ 0.91162864, -1.555474  ],\n       [ 1.20639994, -0.6602123 ],\n       [-1.44654182, -0.6602123 ],\n       [-1.74131313,  0.68268026],\n       [-1.00438486, -2.45073571],\n       [ 0.91162864,  1.13031111],\n       [ 0.02731472,  0.68268026],\n       [-0.41484224,  0.2350494 ],\n       [ 0.61685733, -1.555474  ],\n       [ 0.17470037,  0.68268026],\n       [ 1.20639994,  0.2350494 ],\n       [-0.70961355,  0.68268026],\n       [ 0.02731472,  0.68268026],\n       [-0.5622279 ,  0.68268026],\n       [ 0.02731472,  0.68268026],\n       [-1.00438486,  1.13031111],\n       [ 0.02731472,  0.68268026],\n       [-0.41484224,  0.68268026],\n       [ 0.17470037,  0.2350494 ],\n       [-0.70961355,  0.68268026],\n       [ 0.61685733, -0.21258145],\n       [ 0.61685733, -0.21258145],\n       [-0.70961355, -1.555474  ],\n       [ 1.20639994, -0.6602123 ],\n       [-0.26745659, -0.6602123 ],\n       [ 1.3537856 , -1.10784315],\n       [ 1.05901429, -0.6602123 ],\n       [ 2.09071387, -1.10784315],\n       [ 1.94332821, -0.21258145],\n       [-0.85699921,  0.2350494 ],\n       [ 0.61685733, -2.00310485],\n       [-1.00438486,  0.2350494 ],\n       [ 0.91162864,  0.68268026],\n       [ 1.79594256,  0.68268026],\n       [ 0.76424298, -0.21258145],\n       [ 0.61685733, -0.6602123 ],\n       [-1.74131313,  0.68268026],\n       [ 1.50117125, -0.21258145],\n       [ 1.50117125,  0.2350494 ],\n       [-1.44654182,  0.68268026],\n       [ 1.50117125,  0.2350494 ],\n       [-1.15177051,  1.13031111],\n       [ 0.02731472, -0.6602123 ],\n       [ 0.32208602,  0.2350494 ],\n       [ 0.91162864,  0.68268026],\n       [ 0.76424298, -2.00310485],\n       [ 0.76424298,  0.68268026],\n       [ 1.05901429,  1.13031111],\n       [-0.85699921,  0.68268026],\n       [ 1.05901429,  0.68268026],\n       [-1.00438486,  0.68268026],\n       [-1.00438486,  0.68268026],\n       [-1.00438486,  1.13031111],\n       [ 1.05901429,  0.68268026],\n       [-0.12007094,  1.13031111],\n       [-0.5622279 ,  1.13031111],\n       [-0.12007094, -1.555474  ],\n       [-1.44654182,  1.13031111],\n       [ 0.91162864,  0.68268026],\n       [-1.74131313,  0.2350494 ],\n       [-0.70961355, -1.555474  ],\n       [ 1.05901429,  0.2350494 ],\n       [-1.00438486, -0.21258145],\n       [-1.29915617, -1.10784315],\n       [ 0.76424298, -0.6602123 ],\n       [ 1.6485569 , -0.6602123 ],\n       [-0.12007094,  0.2350494 ],\n       [ 0.91162864, -2.89836656],\n       [ 1.6485569 ,  0.68268026],\n       [-1.59392747, -1.10784315],\n       [ 0.32208602, -0.21258145],\n       [ 1.3537856 , -1.555474  ],\n       [-0.26745659, -1.555474  ],\n       [ 1.05901429,  1.13031111],\n       [ 0.61685733,  0.68268026],\n       [ 1.3537856 ,  0.68268026],\n       [ 1.6485569 ,  0.2350494 ],\n       [-1.59392747, -0.6602123 ],\n       [-0.26745659,  0.68268026],\n       [ 0.32208602, -1.10784315],\n       [ 0.76424298,  0.68268026],\n       [ 0.91162864, -1.10784315],\n       [ 1.6485569 ,  1.13031111],\n       [ 1.20639994,  0.2350494 ],\n       [-1.15177051, -0.6602123 ],\n       [-0.70961355,  0.68268026],\n       [-1.15177051, -1.10784315],\n       [-0.85699921,  1.13031111],\n       [-1.15177051,  0.68268026],\n       [-0.5622279 ,  0.68268026],\n       [-0.41484224,  0.68268026],\n       [-1.74131313, -2.89836656],\n       [-1.44654182,  0.2350494 ],\n       [ 0.91162864,  1.13031111],\n       [ 0.02731472,  0.68268026],\n       [-0.26745659,  0.68268026],\n       [ 1.20639994,  0.68268026],\n       [ 0.61685733,  0.68268026],\n       [ 0.02731472, -0.21258145],\n       [-0.70961355,  0.68268026],\n       [-0.26745659,  0.68268026],\n       [ 1.3537856 ,  1.13031111],\n       [ 1.79594256,  0.68268026],\n       [-1.74131313,  0.68268026],\n       [-1.29915617, -1.10784315],\n       [ 1.20639994, -0.21258145],\n       [ 1.05901429,  1.13031111],\n       [ 0.02731472, -0.21258145],\n       [-1.44654182,  1.13031111],\n       [-1.15177051, -2.45073571],\n       [-1.15177051, -1.555474  ],\n       [ 0.17470037,  0.68268026],\n       [ 1.05901429,  0.68268026],\n       [ 0.91162864, -1.555474  ],\n       [ 0.91162864,  1.13031111],\n       [-0.41484224,  0.68268026],\n       [-0.5622279 , -1.10784315],\n       [-0.5622279 ,  0.68268026]])"
     },
     "execution_count": 27,
     "metadata": {},
     "output_type": "execute_result"
    }
   ],
   "source": [
    "nt = NumericalTransformer(model=1, colnames=df.columns.to_list())\n",
    "df_nt = nt.fit_transform(df)\n",
    "df_nt"
   ],
   "metadata": {
    "collapsed": false,
    "pycharm": {
     "name": "#%%\n"
    }
   }
  },
  {
   "cell_type": "code",
   "execution_count": 28,
   "outputs": [
    {
     "data": {
      "text/plain": "['idade_materna', 'apgar_1_minuto']"
     },
     "execution_count": 28,
     "metadata": {},
     "output_type": "execute_result"
    }
   ],
   "source": [
    "nt.get_feature_names_out()"
   ],
   "metadata": {
    "collapsed": false,
    "pycharm": {
     "name": "#%%\n"
    }
   }
  },
  {
   "cell_type": "markdown",
   "source": [
    "### 4.4.  Encadeamento"
   ],
   "metadata": {
    "collapsed": false,
    "pycharm": {
     "name": "#%% md\n"
    }
   }
  },
  {
   "cell_type": "code",
   "execution_count": 29,
   "outputs": [],
   "source": [
    "# Tipos de scalers = 0 (min-max), 1 (z-score), 2 (without normalization)\n",
    "numerical_model = 0\n",
    "\n",
    "# Features categóricas\n",
    "categorical_features = x_train.select_dtypes(\"object\").columns.to_list()\n",
    "\n",
    "# Features numéricas\n",
    "numerical_features = x_train.select_dtypes(\"float64\").columns.to_list()\n",
    "\n",
    "# A parte de preenchimento de dados faltantes já é realizada pela classe CategoricalTransformer\n",
    "categorical_pipeline = Pipeline(steps=[('cat_selector', FeatureSelector(categorical_features)),\n",
    "                                       ('cat_transformer', CategoricalTransformer(colnames=categorical_features)),\n",
    "                                       ('cat_encoder', OneHotEncoder(sparse=False, drop=\"first\"))\n",
    "                                       ]\n",
    "                                )\n",
    "\n",
    "# A parte de preenchimento de dados faltantes já é realizada pela classe NumericalTransformer\n",
    "numerical_pipeline = Pipeline(steps=[('num_selector', FeatureSelector(numerical_features)),\n",
    "                                     ('num_transformer', NumericalTransformer(numerical_model,\n",
    "                                                                              colnames=numerical_features))])\n",
    "\n",
    "# Reune os Pipelines num só\n",
    "full_pipeline_preprocessing = FeatureUnion(transformer_list=[('cat_pipeline', categorical_pipeline),\n",
    "                                                             ('num_pipeline', numerical_pipeline)])"
   ],
   "metadata": {
    "collapsed": false,
    "pycharm": {
     "name": "#%%\n"
    }
   }
  },
  {
   "cell_type": "code",
   "execution_count": 30,
   "outputs": [],
   "source": [
    "# Validação\n",
    "new_data = full_pipeline_preprocessing.fit_transform(x_train)"
   ],
   "metadata": {
    "collapsed": false,
    "pycharm": {
     "name": "#%%\n"
    }
   }
  },
  {
   "cell_type": "code",
   "execution_count": 31,
   "outputs": [
    {
     "data": {
      "text/plain": "array([[1.        , 0.        , 1.        , ..., 1.        , 0.53846154,\n        0.11111111],\n       [1.        , 0.        , 1.        , ..., 1.        , 0.65384615,\n        1.        ],\n       [1.        , 0.        , 1.        , ..., 1.        , 0.88461538,\n        0.66666667],\n       ...,\n       [1.        , 0.        , 1.        , ..., 1.        , 0.34615385,\n        0.88888889],\n       [1.        , 0.        , 1.        , ..., 0.        , 0.30769231,\n        0.44444444],\n       [1.        , 0.        , 1.        , ..., 0.        , 0.30769231,\n        0.88888889]])"
     },
     "execution_count": 31,
     "metadata": {},
     "output_type": "execute_result"
    }
   ],
   "source": [
    "new_data"
   ],
   "metadata": {
    "collapsed": false,
    "pycharm": {
     "name": "#%%\n"
    }
   }
  },
  {
   "cell_type": "code",
   "execution_count": 32,
   "outputs": [
    {
     "data": {
      "text/plain": "['fumo_n_fumo',\n 'fumo_s_fumo',\n 'alcool_n_alcool',\n 'alcool_s_alcool',\n 'psicoativas_n_psico',\n 'psicoativas_s_psico',\n 'tpp_n_tpp',\n 'tpp_s_tpp',\n 'dpp_n_dpp',\n 'dpp_s_dpp',\n 'oligoamnio_n_oligo',\n 'oligoamnio_s_oligo',\n 'sifilis_n_sifilis',\n 'sifilis_s_sifilis',\n 'hiv_n_hiv',\n 'hiv_s_hiv',\n 'covid_mae_n_covid',\n 'covid_mae_s_covid',\n 'dheg_n_dheg',\n 'dheg_s_dheg',\n 'dm_n_dm',\n 'dm_s_dm',\n 'sexo_Masculino']"
     },
     "execution_count": 32,
     "metadata": {},
     "output_type": "execute_result"
    }
   ],
   "source": [
    "cat_names = list(full_pipeline_preprocessing.get_params()['cat_pipeline'][2].get_feature_names_out())\n",
    "cat_names"
   ],
   "metadata": {
    "collapsed": false,
    "pycharm": {
     "name": "#%%\n"
    }
   }
  },
  {
   "cell_type": "code",
   "execution_count": 33,
   "outputs": [
    {
     "data": {
      "text/plain": "list"
     },
     "execution_count": 33,
     "metadata": {},
     "output_type": "execute_result"
    }
   ],
   "source": [
    "num_names = full_pipeline_preprocessing.get_params()['num_pipeline'][1].get_feature_names_out()\n",
    "type(num_names)"
   ],
   "metadata": {
    "collapsed": false,
    "pycharm": {
     "name": "#%%\n"
    }
   }
  },
  {
   "cell_type": "code",
   "execution_count": 34,
   "outputs": [
    {
     "data": {
      "text/plain": "   fumo_n_fumo  fumo_s_fumo  alcool_n_alcool  alcool_s_alcool  \\\n0          1.0          0.0              1.0              0.0   \n1          1.0          0.0              1.0              0.0   \n2          1.0          0.0              1.0              0.0   \n3          1.0          0.0              1.0              0.0   \n4          1.0          0.0              1.0              0.0   \n\n   psicoativas_n_psico  psicoativas_s_psico  tpp_n_tpp  tpp_s_tpp  dpp_n_dpp  \\\n0                  1.0                  0.0        0.0        1.0        1.0   \n1                  1.0                  0.0        1.0        0.0        1.0   \n2                  1.0                  0.0        1.0        0.0        1.0   \n3                  1.0                  0.0        0.0        1.0        1.0   \n4                  1.0                  0.0        0.0        1.0        1.0   \n\n   dpp_s_dpp  ...  hiv_s_hiv  covid_mae_n_covid  covid_mae_s_covid  \\\n0        0.0  ...        0.0                1.0                0.0   \n1        0.0  ...        0.0                1.0                0.0   \n2        0.0  ...        0.0                0.0                1.0   \n3        0.0  ...        0.0                1.0                0.0   \n4        0.0  ...        0.0                1.0                0.0   \n\n   dheg_n_dheg  dheg_s_dheg  dm_n_dm  dm_s_dm  sexo_Masculino  idade_materna  \\\n0          1.0          0.0      1.0      0.0             1.0       0.538462   \n1          1.0          0.0      0.0      1.0             1.0       0.653846   \n2          1.0          0.0      1.0      0.0             1.0       0.884615   \n3          1.0          0.0      0.0      1.0             1.0       0.346154   \n4          0.0          1.0      1.0      0.0             1.0       0.384615   \n\n   apgar_1_minuto  \n0        0.111111  \n1        1.000000  \n2        0.666667  \n3        0.888889  \n4        1.000000  \n\n[5 rows x 25 columns]",
      "text/html": "<div>\n<style scoped>\n    .dataframe tbody tr th:only-of-type {\n        vertical-align: middle;\n    }\n\n    .dataframe tbody tr th {\n        vertical-align: top;\n    }\n\n    .dataframe thead th {\n        text-align: right;\n    }\n</style>\n<table border=\"1\" class=\"dataframe\">\n  <thead>\n    <tr style=\"text-align: right;\">\n      <th></th>\n      <th>fumo_n_fumo</th>\n      <th>fumo_s_fumo</th>\n      <th>alcool_n_alcool</th>\n      <th>alcool_s_alcool</th>\n      <th>psicoativas_n_psico</th>\n      <th>psicoativas_s_psico</th>\n      <th>tpp_n_tpp</th>\n      <th>tpp_s_tpp</th>\n      <th>dpp_n_dpp</th>\n      <th>dpp_s_dpp</th>\n      <th>...</th>\n      <th>hiv_s_hiv</th>\n      <th>covid_mae_n_covid</th>\n      <th>covid_mae_s_covid</th>\n      <th>dheg_n_dheg</th>\n      <th>dheg_s_dheg</th>\n      <th>dm_n_dm</th>\n      <th>dm_s_dm</th>\n      <th>sexo_Masculino</th>\n      <th>idade_materna</th>\n      <th>apgar_1_minuto</th>\n    </tr>\n  </thead>\n  <tbody>\n    <tr>\n      <th>0</th>\n      <td>1.0</td>\n      <td>0.0</td>\n      <td>1.0</td>\n      <td>0.0</td>\n      <td>1.0</td>\n      <td>0.0</td>\n      <td>0.0</td>\n      <td>1.0</td>\n      <td>1.0</td>\n      <td>0.0</td>\n      <td>...</td>\n      <td>0.0</td>\n      <td>1.0</td>\n      <td>0.0</td>\n      <td>1.0</td>\n      <td>0.0</td>\n      <td>1.0</td>\n      <td>0.0</td>\n      <td>1.0</td>\n      <td>0.538462</td>\n      <td>0.111111</td>\n    </tr>\n    <tr>\n      <th>1</th>\n      <td>1.0</td>\n      <td>0.0</td>\n      <td>1.0</td>\n      <td>0.0</td>\n      <td>1.0</td>\n      <td>0.0</td>\n      <td>1.0</td>\n      <td>0.0</td>\n      <td>1.0</td>\n      <td>0.0</td>\n      <td>...</td>\n      <td>0.0</td>\n      <td>1.0</td>\n      <td>0.0</td>\n      <td>1.0</td>\n      <td>0.0</td>\n      <td>0.0</td>\n      <td>1.0</td>\n      <td>1.0</td>\n      <td>0.653846</td>\n      <td>1.000000</td>\n    </tr>\n    <tr>\n      <th>2</th>\n      <td>1.0</td>\n      <td>0.0</td>\n      <td>1.0</td>\n      <td>0.0</td>\n      <td>1.0</td>\n      <td>0.0</td>\n      <td>1.0</td>\n      <td>0.0</td>\n      <td>1.0</td>\n      <td>0.0</td>\n      <td>...</td>\n      <td>0.0</td>\n      <td>0.0</td>\n      <td>1.0</td>\n      <td>1.0</td>\n      <td>0.0</td>\n      <td>1.0</td>\n      <td>0.0</td>\n      <td>1.0</td>\n      <td>0.884615</td>\n      <td>0.666667</td>\n    </tr>\n    <tr>\n      <th>3</th>\n      <td>1.0</td>\n      <td>0.0</td>\n      <td>1.0</td>\n      <td>0.0</td>\n      <td>1.0</td>\n      <td>0.0</td>\n      <td>0.0</td>\n      <td>1.0</td>\n      <td>1.0</td>\n      <td>0.0</td>\n      <td>...</td>\n      <td>0.0</td>\n      <td>1.0</td>\n      <td>0.0</td>\n      <td>1.0</td>\n      <td>0.0</td>\n      <td>0.0</td>\n      <td>1.0</td>\n      <td>1.0</td>\n      <td>0.346154</td>\n      <td>0.888889</td>\n    </tr>\n    <tr>\n      <th>4</th>\n      <td>1.0</td>\n      <td>0.0</td>\n      <td>1.0</td>\n      <td>0.0</td>\n      <td>1.0</td>\n      <td>0.0</td>\n      <td>0.0</td>\n      <td>1.0</td>\n      <td>1.0</td>\n      <td>0.0</td>\n      <td>...</td>\n      <td>0.0</td>\n      <td>1.0</td>\n      <td>0.0</td>\n      <td>0.0</td>\n      <td>1.0</td>\n      <td>1.0</td>\n      <td>0.0</td>\n      <td>1.0</td>\n      <td>0.384615</td>\n      <td>1.000000</td>\n    </tr>\n  </tbody>\n</table>\n<p>5 rows × 25 columns</p>\n</div>"
     },
     "execution_count": 34,
     "metadata": {},
     "output_type": "execute_result"
    }
   ],
   "source": [
    "df = pd.DataFrame(new_data, columns=cat_names+num_names)\n",
    "df.head()"
   ],
   "metadata": {
    "collapsed": false,
    "pycharm": {
     "name": "#%%\n"
    }
   }
  },
  {
   "cell_type": "markdown",
   "source": [
    "## 5. *Holdout Training*"
   ],
   "metadata": {
    "collapsed": false,
    "pycharm": {
     "name": "#%% md\n"
    }
   }
  },
  {
   "cell_type": "markdown",
   "source": [
    "Pipeline completo e treinamento"
   ],
   "metadata": {
    "collapsed": false,
    "pycharm": {
     "name": "#%% md\n"
    }
   }
  },
  {
   "cell_type": "code",
   "execution_count": 50,
   "outputs": [
    {
     "name": "stderr",
     "output_type": "stream",
     "text": [
      "29-05-2022 05:58:48 Treinando...\n",
      "29-05-2022 05:58:48 Inferindo valores...\n",
      "29-05-2022 05:58:48 Métricas de avaliação\n",
      "29-05-2022 05:58:48 Accuracy: 0.7391304347826086\n",
      "29-05-2022 05:58:48 Precision: 0.6545454545454545\n",
      "29-05-2022 05:58:48 Recall: 0.7659574468085106\n",
      "29-05-2022 05:58:48 F1: 0.7058823529411765\n"
     ]
    }
   ],
   "source": [
    "pipe = Pipeline(steps = [('full_pipeline', full_pipeline_preprocessing),\n",
    "                         (\"classifier\",DecisionTreeClassifier())\n",
    "                         ]\n",
    "                )\n",
    "\n",
    "# training\n",
    "logger.info(\"Treinando...\")\n",
    "pipe.fit(x_train, y_train)\n",
    "\n",
    "# predict\n",
    "logger.info(\"Inferindo valores...\")\n",
    "predict = pipe.predict(x_val)\n",
    "\n",
    "# Evaluation Metrics\n",
    "logger.info(\"Métricas de avaliação\")\n",
    "fbeta = fbeta_score(y_val, predict, beta=1, zero_division=1)\n",
    "precision = precision_score(y_val, predict, zero_division=1)\n",
    "recall = recall_score(y_val, predict, zero_division=1)\n",
    "acc = accuracy_score(y_val, predict)\n",
    "\n",
    "logger.info(\"Accuracy: {}\".format(acc))\n",
    "logger.info(\"Precision: {}\".format(precision))\n",
    "logger.info(\"Recall: {}\".format(recall))\n",
    "logger.info(\"F1: {}\".format(fbeta))"
   ],
   "metadata": {
    "collapsed": false,
    "pycharm": {
     "name": "#%%\n"
    }
   }
  },
  {
   "cell_type": "markdown",
   "source": [
    "Upload de informações para o *wandb*"
   ],
   "metadata": {
    "collapsed": false,
    "pycharm": {
     "name": "#%% md\n"
    }
   }
  },
  {
   "cell_type": "code",
   "execution_count": 32,
   "outputs": [],
   "source": [
    "run.summary[\"Acc\"] = acc\n",
    "run.summary[\"Precision\"] = precision\n",
    "run.summary[\"Recall\"] = recall\n",
    "run.summary[\"F1\"] = fbeta"
   ],
   "metadata": {
    "collapsed": false,
    "pycharm": {
     "name": "#%%\n"
    }
   }
  },
  {
   "cell_type": "markdown",
   "source": [
    "Avalia possíveis vieses no modelo"
   ],
   "metadata": {
    "collapsed": false,
    "pycharm": {
     "name": "#%% md\n"
    }
   }
  },
  {
   "cell_type": "code",
   "execution_count": 33,
   "outputs": [
    {
     "name": "stderr",
     "output_type": "stream",
     "text": [
      "29-05-2022 05:13:32 Inferindo viés...\n",
      "29-05-2022 05:13:32 Métricas de avaliação de viés\n",
      "29-05-2022 05:13:32 Bias Accuracy: 0.9884169884169884\n",
      "29-05-2022 05:13:32 Bias Precision: 1.0\n",
      "29-05-2022 05:13:32 Bias Recall: 0.9716981132075472\n",
      "29-05-2022 05:13:32 Bias F1: 0.985645933014354\n"
     ]
    }
   ],
   "source": [
    "# predict bias\n",
    "logger.info(\"Inferindo viés...\")\n",
    "predict_bias = pipe.predict(x_train)\n",
    "\n",
    "# Evaluation Metrics\n",
    "logger.info(\"Métricas de avaliação de viés\")\n",
    "fbeta = fbeta_score(y_train, predict_bias, beta=1, zero_division=1)\n",
    "precision = precision_score(y_train, predict_bias, zero_division=1)\n",
    "recall = recall_score(y_train, predict_bias, zero_division=1)\n",
    "acc = accuracy_score(y_train, predict_bias)\n",
    "\n",
    "logger.info(\"Bias Accuracy: {}\".format(acc))\n",
    "logger.info(\"Bias Precision: {}\".format(precision))\n",
    "logger.info(\"Bias Recall: {}\".format(recall))\n",
    "logger.info(\"Bias F1: {}\".format(fbeta))"
   ],
   "metadata": {
    "collapsed": false,
    "pycharm": {
     "name": "#%%\n"
    }
   }
  },
  {
   "cell_type": "markdown",
   "source": [
    "Observa-se que, mesmo para os dados de treinamento, ainda há um certo grau de erro em reconhecer quem precisa de reanimação ou não porém, considerando um IC de 95%, pode-se dizer que o modelo é aceitável."
   ],
   "metadata": {
    "collapsed": false,
    "pycharm": {
     "name": "#%% md\n"
    }
   }
  },
  {
   "cell_type": "markdown",
   "source": [
    "Comparação de métricas"
   ],
   "metadata": {
    "collapsed": false,
    "pycharm": {
     "name": "#%% md\n"
    }
   }
  },
  {
   "cell_type": "code",
   "execution_count": 34,
   "outputs": [
    {
     "name": "stdout",
     "output_type": "stream",
     "text": [
      "              precision    recall  f1-score   support\n",
      "\n",
      "           0       0.82      0.72      0.77        68\n",
      "           1       0.65      0.77      0.71        47\n",
      "\n",
      "    accuracy                           0.74       115\n",
      "   macro avg       0.74      0.74      0.74       115\n",
      "weighted avg       0.75      0.74      0.74       115\n",
      "\n"
     ]
    }
   ],
   "source": [
    "print(classification_report(y_val,predict))"
   ],
   "metadata": {
    "collapsed": false,
    "pycharm": {
     "name": "#%%\n"
    }
   }
  },
  {
   "cell_type": "markdown",
   "source": [
    "Matriz de confusão"
   ],
   "metadata": {
    "collapsed": false,
    "pycharm": {
     "name": "#%% md\n"
    }
   }
  },
  {
   "cell_type": "code",
   "execution_count": 35,
   "outputs": [
    {
     "data": {
      "text/plain": "<Figure size 504x288 with 2 Axes>",
      "image/png": "[encoded data removed]"
     },
     "metadata": {
      "needs_background": "light"
     },
     "output_type": "display_data"
    }
   ],
   "source": [
    "fig_confusion_matrix, ax = plt.subplots(1,1,figsize=(7,4))\n",
    "ConfusionMatrixDisplay(confusion_matrix(predict,y_val,labels=[1,0]),\n",
    "                       display_labels=[\"Reanimar\",\"Não reanimar\"]).plot(values_format=\".0f\",ax=ax)\n",
    "\n",
    "ax.set_xlabel(\"True Label\")\n",
    "ax.set_ylabel(\"Predicted Label\")\n",
    "plt.show()"
   ],
   "metadata": {
    "collapsed": false,
    "pycharm": {
     "name": "#%%\n"
    }
   }
  },
  {
   "cell_type": "code",
   "execution_count": 36,
   "outputs": [],
   "source": [
    "df = pd.DataFrame(y_val, columns=['TrueValue'])"
   ],
   "metadata": {
    "collapsed": false,
    "pycharm": {
     "name": "#%%\n"
    }
   }
  },
  {
   "cell_type": "code",
   "execution_count": 37,
   "outputs": [
    {
     "data": {
      "text/plain": "TrueValue    47\ndtype: int64"
     },
     "execution_count": 37,
     "metadata": {},
     "output_type": "execute_result"
    }
   ],
   "source": [
    "df[df['TrueValue'] == 1].count()"
   ],
   "metadata": {
    "collapsed": false,
    "pycharm": {
     "name": "#%%\n"
    }
   }
  },
  {
   "cell_type": "markdown",
   "source": [
    "Gráficos do treinamento"
   ],
   "metadata": {
    "collapsed": false,
    "pycharm": {
     "name": "#%% md\n"
    }
   }
  },
  {
   "cell_type": "code",
   "execution_count": 41,
   "outputs": [
    {
     "data": {
      "text/plain": "['fumo_n_fumo',\n 'fumo_s_fumo',\n 'alcool_n_alcool',\n 'alcool_s_alcool',\n 'psicoativas_n_psico',\n 'psicoativas_s_psico',\n 'tpp_n_tpp',\n 'tpp_s_tpp',\n 'dpp_n_dpp',\n 'dpp_s_dpp',\n 'oligoamnio_n_oligo',\n 'oligoamnio_s_oligo',\n 'sifilis_n_sifilis',\n 'sifilis_s_sifilis',\n 'hiv_n_hiv',\n 'hiv_s_hiv',\n 'covid_mae_n_covid',\n 'covid_mae_s_covid',\n 'dheg_n_dheg',\n 'dheg_s_dheg',\n 'dm_n_dm',\n 'dm_s_dm',\n 'sexo_Masculino',\n 'idade_materna',\n 'apgar_1_minuto']"
     },
     "execution_count": 41,
     "metadata": {},
     "output_type": "execute_result"
    }
   ],
   "source": [
    "cat_names = pipe.named_steps['full_pipeline'].get_params()[\"cat_pipeline\"][2].get_feature_names_out().tolist()\n",
    "num_names = pipe.named_steps['full_pipeline'].get_params()[\"num_pipeline\"][1].get_feature_names_out()\n",
    "all_names = cat_names + num_names\n",
    "all_names"
   ],
   "metadata": {
    "collapsed": false,
    "pycharm": {
     "name": "#%%\n"
    }
   }
  },
  {
   "cell_type": "code",
   "execution_count": 42,
   "outputs": [
    {
     "name": "stderr",
     "output_type": "stream",
     "text": [
      "\u001B[34m\u001B[1mwandb\u001B[0m: \n",
      "\u001B[34m\u001B[1mwandb\u001B[0m: Plotting DT.\n",
      "\u001B[34m\u001B[1mwandb\u001B[0m: Logged feature importances.\n",
      "\u001B[34m\u001B[1mwandb\u001B[0m: Logged confusion matrix.\n",
      "\u001B[34m\u001B[1mwandb\u001B[0m: Logged summary metrics.\n",
      "\u001B[34m\u001B[1mwandb\u001B[0m: Logged class proportions.\n",
      "\u001B[34m\u001B[1mwandb\u001B[0m: Logged calibration curve.\n",
      "\u001B[34m\u001B[1mwandb\u001B[0m: \u001B[33mWARNING\u001B[0m wandb.plots.* functions are deprecated and will be removed in a future release. Please use wandb.plot.* instead.\n",
      "\u001B[34m\u001B[1mwandb\u001B[0m: Logged roc curve.\n",
      "\u001B[34m\u001B[1mwandb\u001B[0m: Logged precision-recall curve.\n"
     ]
    }
   ],
   "source": [
    "# Visualize all classifier plots\n",
    "# For a complete documentation please see: https://docs.wandb.ai/guides/integrations/scikit\n",
    "wandb.sklearn.plot_classifier(pipe.get_params()[\"classifier\"],\n",
    "                              full_pipeline_preprocessing.transform(x_train),\n",
    "                              full_pipeline_preprocessing.transform(x_val),\n",
    "                              y_train,\n",
    "                              y_val,\n",
    "                              predict,\n",
    "                              pipe.predict_proba(x_val),\n",
    "                              [0,1],\n",
    "                              model_name='DT', feature_names=all_names)"
   ],
   "metadata": {
    "collapsed": false,
    "pycharm": {
     "name": "#%%\n"
    }
   }
  },
  {
   "cell_type": "code",
   "execution_count": 43,
   "outputs": [
    {
     "data": {
      "text/plain": "<IPython.core.display.HTML object>",
      "text/html": "Waiting for W&B process to finish... <strong style=\"color:green\">(success).</strong>"
     },
     "metadata": {},
     "output_type": "display_data"
    },
    {
     "data": {
      "text/plain": "VBox(children=(Label(value='0.010 MB of 0.010 MB uploaded (0.000 MB deduped)\\r'), FloatProgress(value=1.0, max…",
      "application/vnd.jupyter.widget-view+json": {
       "version_major": 2,
       "version_minor": 0,
       "model_id": "e625113f5e3e49e99b75fbf6fc16b68f"
      }
     },
     "metadata": {},
     "output_type": "display_data"
    },
    {
     "data": {
      "text/plain": "<IPython.core.display.HTML object>",
      "text/html": "<style>\n    table.wandb td:nth-child(1) { padding: 0 10px; text-align: right }\n    .wandb-row { display: flex; flex-direction: row; flex-wrap: wrap; width: 100% }\n    .wandb-col { display: flex; flex-direction: column; flex-basis: 100%; flex: 1; padding: 10px; }\n    </style>\n<div class=\"wandb-row\"><div class=\"wandb-col\"><h3>Run summary:</h3><br/><table class=\"wandb\"><tr><td>Acc</td><td>0.73913</td></tr><tr><td>F1</td><td>0.70588</td></tr><tr><td>Precision</td><td>0.65455</td></tr><tr><td>Recall</td><td>0.76596</td></tr></table><br/></div></div>"
     },
     "metadata": {},
     "output_type": "display_data"
    },
    {
     "data": {
      "text/plain": "<IPython.core.display.HTML object>",
      "text/html": "Synced <strong style=\"color:#cdcd00\">woven-frost-66</strong>: <a href=\"https://wandb.ai/ecalasans/mlreanimacao/runs/347iduca\" target=\"_blank\">https://wandb.ai/ecalasans/mlreanimacao/runs/347iduca</a><br/>Synced 5 W&B file(s), 7 media file(s), 7 artifact file(s) and 0 other file(s)"
     },
     "metadata": {},
     "output_type": "display_data"
    },
    {
     "data": {
      "text/plain": "<IPython.core.display.HTML object>",
      "text/html": "Find logs at: <code>./wandb/run-20220529_051115-347iduca/logs</code>"
     },
     "metadata": {},
     "output_type": "display_data"
    }
   ],
   "source": [
    "run.finish()"
   ],
   "metadata": {
    "collapsed": false,
    "pycharm": {
     "name": "#%%\n"
    }
   }
  },
  {
   "cell_type": "markdown",
   "source": [
    "## 6.  Ajuste de Hiperparâmetros"
   ],
   "metadata": {
    "collapsed": false,
    "pycharm": {
     "name": "#%% md\n"
    }
   }
  },
  {
   "cell_type": "markdown",
   "source": [
    "Aqui será explorada a seção **Sweep** do wandb, que disponibiliza vários métodos para o ajuste de hiperparâmetros do modelo."
   ],
   "metadata": {
    "collapsed": false,
    "pycharm": {
     "name": "#%% md\n"
    }
   }
  },
  {
   "cell_type": "code",
   "execution_count": 44,
   "outputs": [],
   "source": [
    "seed = 1618"
   ],
   "metadata": {
    "collapsed": false,
    "pycharm": {
     "name": "#%%\n"
    }
   }
  },
  {
   "cell_type": "markdown",
   "source": [
    "Configurações do **Sweep*"
   ],
   "metadata": {
    "collapsed": false,
    "pycharm": {
     "name": "#%% md\n"
    }
   }
  },
  {
   "cell_type": "code",
   "execution_count": 45,
   "outputs": [
    {
     "name": "stdout",
     "output_type": "stream",
     "text": [
      "Create sweep with ID: sv2on0ss\n",
      "Sweep URL: https://wandb.ai/ecalasans/mlreanimacao/sweeps/sv2on0ss\n"
     ]
    }
   ],
   "source": [
    "sweep_config = {\n",
    "    # try grid or random\n",
    "    \"method\": \"random\",\n",
    "    \"metric\": {\n",
    "        \"name\": \"Accuracy\",\n",
    "        \"goal\": \"maximize\"\n",
    "    },\n",
    "    \"parameters\": {\n",
    "        \"criterion\": {\n",
    "            \"values\": [\"gini\",\"entropy\"]\n",
    "        },\n",
    "        \"splitter\": {\n",
    "            \"values\": [\"random\",\"best\"]\n",
    "        },\n",
    "        \"model\": {\n",
    "            \"values\": [0,1,2]\n",
    "        },\n",
    "        \"random_state\": {\n",
    "            \"values\": [seed]\n",
    "        }\n",
    "    }\n",
    "}\n",
    "\n",
    "sweep_id = wandb.sweep(sweep_config, project=\"mlreanimacao\")"
   ],
   "metadata": {
    "collapsed": false,
    "pycharm": {
     "name": "#%%\n"
    }
   }
  },
  {
   "cell_type": "markdown",
   "source": [
    "Define uma função para ser passada para o **Sweep**"
   ],
   "metadata": {
    "collapsed": false,
    "pycharm": {
     "name": "#%% md\n"
    }
   }
  },
  {
   "cell_type": "code",
   "execution_count": 46,
   "outputs": [
    {
     "data": {
      "text/plain": "{'n_jobs': None,\n 'transformer_list': [('cat_pipeline',\n   Pipeline(steps=[('cat_selector',\n                    FeatureSelector(feature_names=['fumo', 'alcool', 'psicoativas',\n                                                   'tpp', 'dpp', 'oligoamnio',\n                                                   'sifilis', 'hiv', 'covid_mae',\n                                                   'dheg', 'dm', 'sexo'])),\n                   ('cat_transformer',\n                    CategoricalTransformer(colnames=Index(['fumo', 'alcool', 'psicoativas', 'tpp', 'dpp', 'oligoamnio', 'sifilis',\n          'hiv', 'covid_mae', 'dheg', 'dm', 'sexo'],\n         dtype='object'))),\n                   ('cat_encoder', OneHotEncoder(drop='first', sparse=False))])),\n  ('num_pipeline',\n   Pipeline(steps=[('num_selector',\n                    FeatureSelector(feature_names=['idade_materna',\n                                                   'apgar_1_minuto'])),\n                   ('num_transformer',\n                    NumericalTransformer(colnames=['idade_materna',\n                                                   'apgar_1_minuto']))]))],\n 'transformer_weights': None,\n 'verbose': False,\n 'cat_pipeline': Pipeline(steps=[('cat_selector',\n                  FeatureSelector(feature_names=['fumo', 'alcool', 'psicoativas',\n                                                 'tpp', 'dpp', 'oligoamnio',\n                                                 'sifilis', 'hiv', 'covid_mae',\n                                                 'dheg', 'dm', 'sexo'])),\n                 ('cat_transformer',\n                  CategoricalTransformer(colnames=Index(['fumo', 'alcool', 'psicoativas', 'tpp', 'dpp', 'oligoamnio', 'sifilis',\n        'hiv', 'covid_mae', 'dheg', 'dm', 'sexo'],\n       dtype='object'))),\n                 ('cat_encoder', OneHotEncoder(drop='first', sparse=False))]),\n 'num_pipeline': Pipeline(steps=[('num_selector',\n                  FeatureSelector(feature_names=['idade_materna',\n                                                 'apgar_1_minuto'])),\n                 ('num_transformer',\n                  NumericalTransformer(colnames=['idade_materna',\n                                                 'apgar_1_minuto']))]),\n 'cat_pipeline__memory': None,\n 'cat_pipeline__steps': [('cat_selector',\n   FeatureSelector(feature_names=['fumo', 'alcool', 'psicoativas', 'tpp', 'dpp',\n                                  'oligoamnio', 'sifilis', 'hiv', 'covid_mae',\n                                  'dheg', 'dm', 'sexo'])),\n  ('cat_transformer',\n   CategoricalTransformer(colnames=Index(['fumo', 'alcool', 'psicoativas', 'tpp', 'dpp', 'oligoamnio', 'sifilis',\n          'hiv', 'covid_mae', 'dheg', 'dm', 'sexo'],\n         dtype='object'))),\n  ('cat_encoder', OneHotEncoder(drop='first', sparse=False))],\n 'cat_pipeline__verbose': False,\n 'cat_pipeline__cat_selector': FeatureSelector(feature_names=['fumo', 'alcool', 'psicoativas', 'tpp', 'dpp',\n                                'oligoamnio', 'sifilis', 'hiv', 'covid_mae',\n                                'dheg', 'dm', 'sexo']),\n 'cat_pipeline__cat_transformer': CategoricalTransformer(colnames=Index(['fumo', 'alcool', 'psicoativas', 'tpp', 'dpp', 'oligoamnio', 'sifilis',\n        'hiv', 'covid_mae', 'dheg', 'dm', 'sexo'],\n       dtype='object')),\n 'cat_pipeline__cat_encoder': OneHotEncoder(drop='first', sparse=False),\n 'cat_pipeline__cat_selector__feature_names': ['fumo',\n  'alcool',\n  'psicoativas',\n  'tpp',\n  'dpp',\n  'oligoamnio',\n  'sifilis',\n  'hiv',\n  'covid_mae',\n  'dheg',\n  'dm',\n  'sexo'],\n 'cat_pipeline__cat_transformer__colnames': Index(['fumo', 'alcool', 'psicoativas', 'tpp', 'dpp', 'oligoamnio', 'sifilis',\n        'hiv', 'covid_mae', 'dheg', 'dm', 'sexo'],\n       dtype='object'),\n 'cat_pipeline__cat_transformer__new_features': True,\n 'cat_pipeline__cat_encoder__categories': 'auto',\n 'cat_pipeline__cat_encoder__drop': 'first',\n 'cat_pipeline__cat_encoder__dtype': numpy.float64,\n 'cat_pipeline__cat_encoder__handle_unknown': 'error',\n 'cat_pipeline__cat_encoder__sparse': False,\n 'num_pipeline__memory': None,\n 'num_pipeline__steps': [('num_selector',\n   FeatureSelector(feature_names=['idade_materna', 'apgar_1_minuto'])),\n  ('num_transformer',\n   NumericalTransformer(colnames=['idade_materna', 'apgar_1_minuto']))],\n 'num_pipeline__verbose': False,\n 'num_pipeline__num_selector': FeatureSelector(feature_names=['idade_materna', 'apgar_1_minuto']),\n 'num_pipeline__num_transformer': NumericalTransformer(colnames=['idade_materna', 'apgar_1_minuto']),\n 'num_pipeline__num_selector__feature_names': ['idade_materna',\n  'apgar_1_minuto'],\n 'num_pipeline__num_transformer__colnames': ['idade_materna',\n  'apgar_1_minuto'],\n 'num_pipeline__num_transformer__model': 0}"
     },
     "execution_count": 46,
     "metadata": {},
     "output_type": "execute_result"
    }
   ],
   "source": [
    "#pipe.named_steps['full_pipeline'].get_params()"
   ],
   "metadata": {
    "collapsed": false,
    "pycharm": {
     "name": "#%%\n"
    }
   }
  },
  {
   "cell_type": "code",
   "execution_count": 47,
   "outputs": [],
   "source": [
    "def train():\n",
    "    with wandb.init() as run:\n",
    "\n",
    "        # The full pipeline\n",
    "        pipe = Pipeline(steps = [('full_pipeline', full_pipeline_preprocessing),\n",
    "                                 (\"classifier\",DecisionTreeClassifier())\n",
    "                                 ]\n",
    "                        )\n",
    "\n",
    "        # update the parameters of the pipeline that we would like to tuning\n",
    "        pipe.set_params(**{\"full_pipeline__num_pipeline__num_transformer__model\": run.config.model})\n",
    "        pipe.set_params(**{\"classifier__criterion\": run.config.criterion})\n",
    "        pipe.set_params(**{\"classifier__splitter\": run.config.splitter})\n",
    "        pipe.set_params(**{\"classifier__random_state\": run.config.random_state})\n",
    "\n",
    "        # training\n",
    "        logger.info(\"Training\")\n",
    "        pipe.fit(x_train, y_train)\n",
    "\n",
    "        # predict\n",
    "        logger.info(\"Infering\")\n",
    "        predict = pipe.predict(x_val)\n",
    "\n",
    "        # Evaluation Metrics\n",
    "        logger.info(\"Evaluation metrics\")\n",
    "        fbeta = fbeta_score(y_val, predict, beta=1, zero_division=1)\n",
    "        precision = precision_score(y_val, predict, zero_division=1)\n",
    "        recall = recall_score(y_val, predict, zero_division=1)\n",
    "        acc = accuracy_score(y_val, predict)\n",
    "\n",
    "        logger.info(\"Accuracy: {}\".format(acc))\n",
    "        logger.info(\"Precision: {}\".format(precision))\n",
    "        logger.info(\"Recall: {}\".format(recall))\n",
    "        logger.info(\"F1: {}\".format(fbeta))\n",
    "\n",
    "        run.summary[\"Accuracy\"] = acc\n",
    "        run.summary[\"Precision\"] = precision\n",
    "        run.summary[\"Recall\"] = recall\n",
    "        run.summary[\"F1\"] = fbeta"
   ],
   "metadata": {
    "collapsed": false,
    "pycharm": {
     "name": "#%%\n"
    }
   }
  },
  {
   "cell_type": "code",
   "execution_count": 48,
   "outputs": [
    {
     "name": "stderr",
     "output_type": "stream",
     "text": [
      "\u001B[34m\u001B[1mwandb\u001B[0m: Agent Starting Run: bmse7s2c with config:\n",
      "\u001B[34m\u001B[1mwandb\u001B[0m: \tcriterion: entropy\n",
      "\u001B[34m\u001B[1mwandb\u001B[0m: \tmodel: 2\n",
      "\u001B[34m\u001B[1mwandb\u001B[0m: \trandom_state: 1618\n",
      "\u001B[34m\u001B[1mwandb\u001B[0m: \tsplitter: random\n"
     ]
    },
    {
     "data": {
      "text/plain": "<IPython.core.display.HTML object>",
      "text/html": "wandb version 0.12.17 is available!  To upgrade, please run:\n $ pip install wandb --upgrade"
     },
     "metadata": {},
     "output_type": "display_data"
    },
    {
     "data": {
      "text/plain": "<IPython.core.display.HTML object>",
      "text/html": "Tracking run with wandb version 0.12.15"
     },
     "metadata": {},
     "output_type": "display_data"
    },
    {
     "data": {
      "text/plain": "<IPython.core.display.HTML object>",
      "text/html": "Run data is saved locally in <code>/Users/ericcalasans/Documents/Projetos/ml_proj1/wandb/run-20220529_054200-bmse7s2c</code>"
     },
     "metadata": {},
     "output_type": "display_data"
    },
    {
     "data": {
      "text/plain": "<IPython.core.display.HTML object>",
      "text/html": "Syncing run <strong><a href=\"https://wandb.ai/ecalasans/mlreanimacao/runs/bmse7s2c\" target=\"_blank\">autumn-sweep-1</a></strong> to <a href=\"https://wandb.ai/ecalasans/mlreanimacao\" target=\"_blank\">Weights & Biases</a> (<a href=\"https://wandb.me/run\" target=\"_blank\">docs</a>)<br/>Sweep page:  <a href=\"https://wandb.ai/ecalasans/mlreanimacao/sweeps/sv2on0ss\" target=\"_blank\">https://wandb.ai/ecalasans/mlreanimacao/sweeps/sv2on0ss</a>"
     },
     "metadata": {},
     "output_type": "display_data"
    },
    {
     "name": "stderr",
     "output_type": "stream",
     "text": [
      "29-05-2022 05:42:09 Training\n",
      "29-05-2022 05:42:09 Infering\n",
      "29-05-2022 05:42:09 Evaluation metrics\n",
      "29-05-2022 05:42:09 Accuracy: 0.7391304347826086\n",
      "29-05-2022 05:42:09 Precision: 0.6545454545454545\n",
      "29-05-2022 05:42:09 Recall: 0.7659574468085106\n",
      "29-05-2022 05:42:09 F1: 0.7058823529411765\n"
     ]
    },
    {
     "data": {
      "text/plain": "<IPython.core.display.HTML object>",
      "text/html": "Waiting for W&B process to finish... <strong style=\"color:green\">(success).</strong>"
     },
     "metadata": {},
     "output_type": "display_data"
    },
    {
     "data": {
      "text/plain": "VBox(children=(Label(value='0.000 MB of 0.000 MB uploaded (0.000 MB deduped)\\r'), FloatProgress(value=1.0, max…",
      "application/vnd.jupyter.widget-view+json": {
       "version_major": 2,
       "version_minor": 0,
       "model_id": "2dc0691b9a2146e093657a824bf17e99"
      }
     },
     "metadata": {},
     "output_type": "display_data"
    },
    {
     "data": {
      "text/plain": "<IPython.core.display.HTML object>",
      "text/html": "<style>\n    table.wandb td:nth-child(1) { padding: 0 10px; text-align: right }\n    .wandb-row { display: flex; flex-direction: row; flex-wrap: wrap; width: 100% }\n    .wandb-col { display: flex; flex-direction: column; flex-basis: 100%; flex: 1; padding: 10px; }\n    </style>\n<div class=\"wandb-row\"><div class=\"wandb-col\"><h3>Run summary:</h3><br/><table class=\"wandb\"><tr><td>Accuracy</td><td>0.73913</td></tr><tr><td>F1</td><td>0.70588</td></tr><tr><td>Precision</td><td>0.65455</td></tr><tr><td>Recall</td><td>0.76596</td></tr></table><br/></div></div>"
     },
     "metadata": {},
     "output_type": "display_data"
    },
    {
     "data": {
      "text/plain": "<IPython.core.display.HTML object>",
      "text/html": "Synced <strong style=\"color:#cdcd00\">autumn-sweep-1</strong>: <a href=\"https://wandb.ai/ecalasans/mlreanimacao/runs/bmse7s2c\" target=\"_blank\">https://wandb.ai/ecalasans/mlreanimacao/runs/bmse7s2c</a><br/>Synced 5 W&B file(s), 0 media file(s), 0 artifact file(s) and 0 other file(s)"
     },
     "metadata": {},
     "output_type": "display_data"
    },
    {
     "data": {
      "text/plain": "<IPython.core.display.HTML object>",
      "text/html": "Find logs at: <code>./wandb/run-20220529_054200-bmse7s2c/logs</code>"
     },
     "metadata": {},
     "output_type": "display_data"
    },
    {
     "name": "stderr",
     "output_type": "stream",
     "text": [
      "\u001B[34m\u001B[1mwandb\u001B[0m: Agent Starting Run: jn5re678 with config:\n",
      "\u001B[34m\u001B[1mwandb\u001B[0m: \tcriterion: gini\n",
      "\u001B[34m\u001B[1mwandb\u001B[0m: \tmodel: 0\n",
      "\u001B[34m\u001B[1mwandb\u001B[0m: \trandom_state: 1618\n",
      "\u001B[34m\u001B[1mwandb\u001B[0m: \tsplitter: random\n"
     ]
    },
    {
     "data": {
      "text/plain": "<IPython.core.display.HTML object>",
      "text/html": "wandb version 0.12.17 is available!  To upgrade, please run:\n $ pip install wandb --upgrade"
     },
     "metadata": {},
     "output_type": "display_data"
    },
    {
     "data": {
      "text/plain": "<IPython.core.display.HTML object>",
      "text/html": "Tracking run with wandb version 0.12.15"
     },
     "metadata": {},
     "output_type": "display_data"
    },
    {
     "data": {
      "text/plain": "<IPython.core.display.HTML object>",
      "text/html": "Run data is saved locally in <code>/Users/ericcalasans/Documents/Projetos/ml_proj1/wandb/run-20220529_054222-jn5re678</code>"
     },
     "metadata": {},
     "output_type": "display_data"
    },
    {
     "data": {
      "text/plain": "<IPython.core.display.HTML object>",
      "text/html": "Syncing run <strong><a href=\"https://wandb.ai/ecalasans/mlreanimacao/runs/jn5re678\" target=\"_blank\">good-sweep-2</a></strong> to <a href=\"https://wandb.ai/ecalasans/mlreanimacao\" target=\"_blank\">Weights & Biases</a> (<a href=\"https://wandb.me/run\" target=\"_blank\">docs</a>)<br/>Sweep page:  <a href=\"https://wandb.ai/ecalasans/mlreanimacao/sweeps/sv2on0ss\" target=\"_blank\">https://wandb.ai/ecalasans/mlreanimacao/sweeps/sv2on0ss</a>"
     },
     "metadata": {},
     "output_type": "display_data"
    },
    {
     "name": "stderr",
     "output_type": "stream",
     "text": [
      "29-05-2022 05:42:32 Training\n",
      "29-05-2022 05:42:32 Infering\n",
      "29-05-2022 05:42:32 Evaluation metrics\n",
      "29-05-2022 05:42:32 Accuracy: 0.8\n",
      "29-05-2022 05:42:32 Precision: 0.75\n",
      "29-05-2022 05:42:32 Recall: 0.7659574468085106\n",
      "29-05-2022 05:42:32 F1: 0.7578947368421053\n"
     ]
    },
    {
     "data": {
      "text/plain": "<IPython.core.display.HTML object>",
      "text/html": "Waiting for W&B process to finish... <strong style=\"color:green\">(success).</strong>"
     },
     "metadata": {},
     "output_type": "display_data"
    },
    {
     "data": {
      "text/plain": "VBox(children=(Label(value='0.000 MB of 0.000 MB uploaded (0.000 MB deduped)\\r'), FloatProgress(value=1.0, max…",
      "application/vnd.jupyter.widget-view+json": {
       "version_major": 2,
       "version_minor": 0,
       "model_id": "64ca60688ce64b6aa0a442359f312608"
      }
     },
     "metadata": {},
     "output_type": "display_data"
    },
    {
     "data": {
      "text/plain": "<IPython.core.display.HTML object>",
      "text/html": "<style>\n    table.wandb td:nth-child(1) { padding: 0 10px; text-align: right }\n    .wandb-row { display: flex; flex-direction: row; flex-wrap: wrap; width: 100% }\n    .wandb-col { display: flex; flex-direction: column; flex-basis: 100%; flex: 1; padding: 10px; }\n    </style>\n<div class=\"wandb-row\"><div class=\"wandb-col\"><h3>Run summary:</h3><br/><table class=\"wandb\"><tr><td>Accuracy</td><td>0.8</td></tr><tr><td>F1</td><td>0.75789</td></tr><tr><td>Precision</td><td>0.75</td></tr><tr><td>Recall</td><td>0.76596</td></tr></table><br/></div></div>"
     },
     "metadata": {},
     "output_type": "display_data"
    },
    {
     "data": {
      "text/plain": "<IPython.core.display.HTML object>",
      "text/html": "Synced <strong style=\"color:#cdcd00\">good-sweep-2</strong>: <a href=\"https://wandb.ai/ecalasans/mlreanimacao/runs/jn5re678\" target=\"_blank\">https://wandb.ai/ecalasans/mlreanimacao/runs/jn5re678</a><br/>Synced 5 W&B file(s), 0 media file(s), 0 artifact file(s) and 0 other file(s)"
     },
     "metadata": {},
     "output_type": "display_data"
    },
    {
     "data": {
      "text/plain": "<IPython.core.display.HTML object>",
      "text/html": "Find logs at: <code>./wandb/run-20220529_054222-jn5re678/logs</code>"
     },
     "metadata": {},
     "output_type": "display_data"
    },
    {
     "name": "stderr",
     "output_type": "stream",
     "text": [
      "\u001B[34m\u001B[1mwandb\u001B[0m: Agent Starting Run: gq0n1n95 with config:\n",
      "\u001B[34m\u001B[1mwandb\u001B[0m: \tcriterion: entropy\n",
      "\u001B[34m\u001B[1mwandb\u001B[0m: \tmodel: 2\n",
      "\u001B[34m\u001B[1mwandb\u001B[0m: \trandom_state: 1618\n",
      "\u001B[34m\u001B[1mwandb\u001B[0m: \tsplitter: random\n"
     ]
    },
    {
     "data": {
      "text/plain": "<IPython.core.display.HTML object>",
      "text/html": "wandb version 0.12.17 is available!  To upgrade, please run:\n $ pip install wandb --upgrade"
     },
     "metadata": {},
     "output_type": "display_data"
    },
    {
     "data": {
      "text/plain": "<IPython.core.display.HTML object>",
      "text/html": "Tracking run with wandb version 0.12.15"
     },
     "metadata": {},
     "output_type": "display_data"
    },
    {
     "data": {
      "text/plain": "<IPython.core.display.HTML object>",
      "text/html": "Run data is saved locally in <code>/Users/ericcalasans/Documents/Projetos/ml_proj1/wandb/run-20220529_054249-gq0n1n95</code>"
     },
     "metadata": {},
     "output_type": "display_data"
    },
    {
     "data": {
      "text/plain": "<IPython.core.display.HTML object>",
      "text/html": "Syncing run <strong><a href=\"https://wandb.ai/ecalasans/mlreanimacao/runs/gq0n1n95\" target=\"_blank\">golden-sweep-3</a></strong> to <a href=\"https://wandb.ai/ecalasans/mlreanimacao\" target=\"_blank\">Weights & Biases</a> (<a href=\"https://wandb.me/run\" target=\"_blank\">docs</a>)<br/>Sweep page:  <a href=\"https://wandb.ai/ecalasans/mlreanimacao/sweeps/sv2on0ss\" target=\"_blank\">https://wandb.ai/ecalasans/mlreanimacao/sweeps/sv2on0ss</a>"
     },
     "metadata": {},
     "output_type": "display_data"
    },
    {
     "name": "stderr",
     "output_type": "stream",
     "text": [
      "29-05-2022 05:42:59 Training\n",
      "29-05-2022 05:43:00 Infering\n",
      "29-05-2022 05:43:00 Evaluation metrics\n",
      "29-05-2022 05:43:00 Accuracy: 0.7391304347826086\n",
      "29-05-2022 05:43:00 Precision: 0.6545454545454545\n",
      "29-05-2022 05:43:00 Recall: 0.7659574468085106\n",
      "29-05-2022 05:43:00 F1: 0.7058823529411765\n"
     ]
    },
    {
     "data": {
      "text/plain": "<IPython.core.display.HTML object>",
      "text/html": "Waiting for W&B process to finish... <strong style=\"color:green\">(success).</strong>"
     },
     "metadata": {},
     "output_type": "display_data"
    },
    {
     "data": {
      "text/plain": "VBox(children=(Label(value='0.000 MB of 0.000 MB uploaded (0.000 MB deduped)\\r'), FloatProgress(value=1.0, max…",
      "application/vnd.jupyter.widget-view+json": {
       "version_major": 2,
       "version_minor": 0,
       "model_id": "c65a104216084b73a5c40129288bb12d"
      }
     },
     "metadata": {},
     "output_type": "display_data"
    },
    {
     "data": {
      "text/plain": "<IPython.core.display.HTML object>",
      "text/html": "<style>\n    table.wandb td:nth-child(1) { padding: 0 10px; text-align: right }\n    .wandb-row { display: flex; flex-direction: row; flex-wrap: wrap; width: 100% }\n    .wandb-col { display: flex; flex-direction: column; flex-basis: 100%; flex: 1; padding: 10px; }\n    </style>\n<div class=\"wandb-row\"><div class=\"wandb-col\"><h3>Run summary:</h3><br/><table class=\"wandb\"><tr><td>Accuracy</td><td>0.73913</td></tr><tr><td>F1</td><td>0.70588</td></tr><tr><td>Precision</td><td>0.65455</td></tr><tr><td>Recall</td><td>0.76596</td></tr></table><br/></div></div>"
     },
     "metadata": {},
     "output_type": "display_data"
    },
    {
     "data": {
      "text/plain": "<IPython.core.display.HTML object>",
      "text/html": "Synced <strong style=\"color:#cdcd00\">golden-sweep-3</strong>: <a href=\"https://wandb.ai/ecalasans/mlreanimacao/runs/gq0n1n95\" target=\"_blank\">https://wandb.ai/ecalasans/mlreanimacao/runs/gq0n1n95</a><br/>Synced 5 W&B file(s), 0 media file(s), 0 artifact file(s) and 0 other file(s)"
     },
     "metadata": {},
     "output_type": "display_data"
    },
    {
     "data": {
      "text/plain": "<IPython.core.display.HTML object>",
      "text/html": "Find logs at: <code>./wandb/run-20220529_054249-gq0n1n95/logs</code>"
     },
     "metadata": {},
     "output_type": "display_data"
    },
    {
     "name": "stderr",
     "output_type": "stream",
     "text": [
      "\u001B[34m\u001B[1mwandb\u001B[0m: Agent Starting Run: 636rx3rj with config:\n",
      "\u001B[34m\u001B[1mwandb\u001B[0m: \tcriterion: entropy\n",
      "\u001B[34m\u001B[1mwandb\u001B[0m: \tmodel: 0\n",
      "\u001B[34m\u001B[1mwandb\u001B[0m: \trandom_state: 1618\n",
      "\u001B[34m\u001B[1mwandb\u001B[0m: \tsplitter: random\n"
     ]
    },
    {
     "data": {
      "text/plain": "<IPython.core.display.HTML object>",
      "text/html": "wandb version 0.12.17 is available!  To upgrade, please run:\n $ pip install wandb --upgrade"
     },
     "metadata": {},
     "output_type": "display_data"
    },
    {
     "data": {
      "text/plain": "<IPython.core.display.HTML object>",
      "text/html": "Tracking run with wandb version 0.12.15"
     },
     "metadata": {},
     "output_type": "display_data"
    },
    {
     "data": {
      "text/plain": "<IPython.core.display.HTML object>",
      "text/html": "Run data is saved locally in <code>/Users/ericcalasans/Documents/Projetos/ml_proj1/wandb/run-20220529_054316-636rx3rj</code>"
     },
     "metadata": {},
     "output_type": "display_data"
    },
    {
     "data": {
      "text/plain": "<IPython.core.display.HTML object>",
      "text/html": "Syncing run <strong><a href=\"https://wandb.ai/ecalasans/mlreanimacao/runs/636rx3rj\" target=\"_blank\">graceful-sweep-4</a></strong> to <a href=\"https://wandb.ai/ecalasans/mlreanimacao\" target=\"_blank\">Weights & Biases</a> (<a href=\"https://wandb.me/run\" target=\"_blank\">docs</a>)<br/>Sweep page:  <a href=\"https://wandb.ai/ecalasans/mlreanimacao/sweeps/sv2on0ss\" target=\"_blank\">https://wandb.ai/ecalasans/mlreanimacao/sweeps/sv2on0ss</a>"
     },
     "metadata": {},
     "output_type": "display_data"
    },
    {
     "name": "stderr",
     "output_type": "stream",
     "text": [
      "29-05-2022 05:43:25 Training\n",
      "29-05-2022 05:43:26 Infering\n",
      "29-05-2022 05:43:26 Evaluation metrics\n",
      "29-05-2022 05:43:26 Accuracy: 0.7391304347826086\n",
      "29-05-2022 05:43:26 Precision: 0.6545454545454545\n",
      "29-05-2022 05:43:26 Recall: 0.7659574468085106\n",
      "29-05-2022 05:43:26 F1: 0.7058823529411765\n"
     ]
    },
    {
     "data": {
      "text/plain": "<IPython.core.display.HTML object>",
      "text/html": "Waiting for W&B process to finish... <strong style=\"color:green\">(success).</strong>"
     },
     "metadata": {},
     "output_type": "display_data"
    },
    {
     "data": {
      "text/plain": "VBox(children=(Label(value='0.000 MB of 0.000 MB uploaded (0.000 MB deduped)\\r'), FloatProgress(value=1.0, max…",
      "application/vnd.jupyter.widget-view+json": {
       "version_major": 2,
       "version_minor": 0,
       "model_id": "c32d0c205d944eb6af942b6c54d9929c"
      }
     },
     "metadata": {},
     "output_type": "display_data"
    },
    {
     "data": {
      "text/plain": "<IPython.core.display.HTML object>",
      "text/html": "<style>\n    table.wandb td:nth-child(1) { padding: 0 10px; text-align: right }\n    .wandb-row { display: flex; flex-direction: row; flex-wrap: wrap; width: 100% }\n    .wandb-col { display: flex; flex-direction: column; flex-basis: 100%; flex: 1; padding: 10px; }\n    </style>\n<div class=\"wandb-row\"><div class=\"wandb-col\"><h3>Run summary:</h3><br/><table class=\"wandb\"><tr><td>Accuracy</td><td>0.73913</td></tr><tr><td>F1</td><td>0.70588</td></tr><tr><td>Precision</td><td>0.65455</td></tr><tr><td>Recall</td><td>0.76596</td></tr></table><br/></div></div>"
     },
     "metadata": {},
     "output_type": "display_data"
    },
    {
     "data": {
      "text/plain": "<IPython.core.display.HTML object>",
      "text/html": "Synced <strong style=\"color:#cdcd00\">graceful-sweep-4</strong>: <a href=\"https://wandb.ai/ecalasans/mlreanimacao/runs/636rx3rj\" target=\"_blank\">https://wandb.ai/ecalasans/mlreanimacao/runs/636rx3rj</a><br/>Synced 5 W&B file(s), 0 media file(s), 0 artifact file(s) and 0 other file(s)"
     },
     "metadata": {},
     "output_type": "display_data"
    },
    {
     "data": {
      "text/plain": "<IPython.core.display.HTML object>",
      "text/html": "Find logs at: <code>./wandb/run-20220529_054316-636rx3rj/logs</code>"
     },
     "metadata": {},
     "output_type": "display_data"
    },
    {
     "name": "stderr",
     "output_type": "stream",
     "text": [
      "\u001B[34m\u001B[1mwandb\u001B[0m: Agent Starting Run: 15t9lnqi with config:\n",
      "\u001B[34m\u001B[1mwandb\u001B[0m: \tcriterion: gini\n",
      "\u001B[34m\u001B[1mwandb\u001B[0m: \tmodel: 0\n",
      "\u001B[34m\u001B[1mwandb\u001B[0m: \trandom_state: 1618\n",
      "\u001B[34m\u001B[1mwandb\u001B[0m: \tsplitter: random\n"
     ]
    },
    {
     "data": {
      "text/plain": "<IPython.core.display.HTML object>",
      "text/html": "wandb version 0.12.17 is available!  To upgrade, please run:\n $ pip install wandb --upgrade"
     },
     "metadata": {},
     "output_type": "display_data"
    },
    {
     "data": {
      "text/plain": "<IPython.core.display.HTML object>",
      "text/html": "Tracking run with wandb version 0.12.15"
     },
     "metadata": {},
     "output_type": "display_data"
    },
    {
     "data": {
      "text/plain": "<IPython.core.display.HTML object>",
      "text/html": "Run data is saved locally in <code>/Users/ericcalasans/Documents/Projetos/ml_proj1/wandb/run-20220529_054344-15t9lnqi</code>"
     },
     "metadata": {},
     "output_type": "display_data"
    },
    {
     "data": {
      "text/plain": "<IPython.core.display.HTML object>",
      "text/html": "Syncing run <strong><a href=\"https://wandb.ai/ecalasans/mlreanimacao/runs/15t9lnqi\" target=\"_blank\">hearty-sweep-5</a></strong> to <a href=\"https://wandb.ai/ecalasans/mlreanimacao\" target=\"_blank\">Weights & Biases</a> (<a href=\"https://wandb.me/run\" target=\"_blank\">docs</a>)<br/>Sweep page:  <a href=\"https://wandb.ai/ecalasans/mlreanimacao/sweeps/sv2on0ss\" target=\"_blank\">https://wandb.ai/ecalasans/mlreanimacao/sweeps/sv2on0ss</a>"
     },
     "metadata": {},
     "output_type": "display_data"
    },
    {
     "name": "stderr",
     "output_type": "stream",
     "text": [
      "29-05-2022 05:43:53 Training\n",
      "29-05-2022 05:43:53 Infering\n",
      "29-05-2022 05:43:53 Evaluation metrics\n",
      "29-05-2022 05:43:53 Accuracy: 0.8\n",
      "29-05-2022 05:43:53 Precision: 0.75\n",
      "29-05-2022 05:43:53 Recall: 0.7659574468085106\n",
      "29-05-2022 05:43:53 F1: 0.7578947368421053\n"
     ]
    },
    {
     "data": {
      "text/plain": "<IPython.core.display.HTML object>",
      "text/html": "Waiting for W&B process to finish... <strong style=\"color:green\">(success).</strong>"
     },
     "metadata": {},
     "output_type": "display_data"
    },
    {
     "data": {
      "text/plain": "VBox(children=(Label(value='0.000 MB of 0.000 MB uploaded (0.000 MB deduped)\\r'), FloatProgress(value=1.0, max…",
      "application/vnd.jupyter.widget-view+json": {
       "version_major": 2,
       "version_minor": 0,
       "model_id": "63b10a1c4740444db283550017c218b6"
      }
     },
     "metadata": {},
     "output_type": "display_data"
    },
    {
     "data": {
      "text/plain": "<IPython.core.display.HTML object>",
      "text/html": "<style>\n    table.wandb td:nth-child(1) { padding: 0 10px; text-align: right }\n    .wandb-row { display: flex; flex-direction: row; flex-wrap: wrap; width: 100% }\n    .wandb-col { display: flex; flex-direction: column; flex-basis: 100%; flex: 1; padding: 10px; }\n    </style>\n<div class=\"wandb-row\"><div class=\"wandb-col\"><h3>Run summary:</h3><br/><table class=\"wandb\"><tr><td>Accuracy</td><td>0.8</td></tr><tr><td>F1</td><td>0.75789</td></tr><tr><td>Precision</td><td>0.75</td></tr><tr><td>Recall</td><td>0.76596</td></tr></table><br/></div></div>"
     },
     "metadata": {},
     "output_type": "display_data"
    },
    {
     "data": {
      "text/plain": "<IPython.core.display.HTML object>",
      "text/html": "Synced <strong style=\"color:#cdcd00\">hearty-sweep-5</strong>: <a href=\"https://wandb.ai/ecalasans/mlreanimacao/runs/15t9lnqi\" target=\"_blank\">https://wandb.ai/ecalasans/mlreanimacao/runs/15t9lnqi</a><br/>Synced 5 W&B file(s), 0 media file(s), 0 artifact file(s) and 0 other file(s)"
     },
     "metadata": {},
     "output_type": "display_data"
    },
    {
     "data": {
      "text/plain": "<IPython.core.display.HTML object>",
      "text/html": "Find logs at: <code>./wandb/run-20220529_054344-15t9lnqi/logs</code>"
     },
     "metadata": {},
     "output_type": "display_data"
    },
    {
     "name": "stderr",
     "output_type": "stream",
     "text": [
      "\u001B[34m\u001B[1mwandb\u001B[0m: Sweep Agent: Waiting for job.\n",
      "\u001B[34m\u001B[1mwandb\u001B[0m: Job received.\n",
      "\u001B[34m\u001B[1mwandb\u001B[0m: Agent Starting Run: e8x5g2ua with config:\n",
      "\u001B[34m\u001B[1mwandb\u001B[0m: \tcriterion: gini\n",
      "\u001B[34m\u001B[1mwandb\u001B[0m: \tmodel: 0\n",
      "\u001B[34m\u001B[1mwandb\u001B[0m: \trandom_state: 1618\n",
      "\u001B[34m\u001B[1mwandb\u001B[0m: \tsplitter: best\n"
     ]
    },
    {
     "data": {
      "text/plain": "<IPython.core.display.HTML object>",
      "text/html": "wandb version 0.12.17 is available!  To upgrade, please run:\n $ pip install wandb --upgrade"
     },
     "metadata": {},
     "output_type": "display_data"
    },
    {
     "data": {
      "text/plain": "<IPython.core.display.HTML object>",
      "text/html": "Tracking run with wandb version 0.12.15"
     },
     "metadata": {},
     "output_type": "display_data"
    },
    {
     "data": {
      "text/plain": "<IPython.core.display.HTML object>",
      "text/html": "Run data is saved locally in <code>/Users/ericcalasans/Documents/Projetos/ml_proj1/wandb/run-20220529_054415-e8x5g2ua</code>"
     },
     "metadata": {},
     "output_type": "display_data"
    },
    {
     "data": {
      "text/plain": "<IPython.core.display.HTML object>",
      "text/html": "Syncing run <strong><a href=\"https://wandb.ai/ecalasans/mlreanimacao/runs/e8x5g2ua\" target=\"_blank\">ruby-sweep-6</a></strong> to <a href=\"https://wandb.ai/ecalasans/mlreanimacao\" target=\"_blank\">Weights & Biases</a> (<a href=\"https://wandb.me/run\" target=\"_blank\">docs</a>)<br/>Sweep page:  <a href=\"https://wandb.ai/ecalasans/mlreanimacao/sweeps/sv2on0ss\" target=\"_blank\">https://wandb.ai/ecalasans/mlreanimacao/sweeps/sv2on0ss</a>"
     },
     "metadata": {},
     "output_type": "display_data"
    },
    {
     "name": "stderr",
     "output_type": "stream",
     "text": [
      "29-05-2022 05:44:23 Training\n",
      "29-05-2022 05:44:23 Infering\n",
      "29-05-2022 05:44:24 Evaluation metrics\n",
      "29-05-2022 05:44:24 Accuracy: 0.7304347826086957\n",
      "29-05-2022 05:44:24 Precision: 0.6481481481481481\n",
      "29-05-2022 05:44:24 Recall: 0.7446808510638298\n",
      "29-05-2022 05:44:24 F1: 0.6930693069306931\n"
     ]
    },
    {
     "data": {
      "text/plain": "<IPython.core.display.HTML object>",
      "text/html": "Waiting for W&B process to finish... <strong style=\"color:green\">(success).</strong>"
     },
     "metadata": {},
     "output_type": "display_data"
    },
    {
     "data": {
      "text/plain": "VBox(children=(Label(value='0.000 MB of 0.000 MB uploaded (0.000 MB deduped)\\r'), FloatProgress(value=1.0, max…",
      "application/vnd.jupyter.widget-view+json": {
       "version_major": 2,
       "version_minor": 0,
       "model_id": "e831a0403b6f4cfbac03e019cb361115"
      }
     },
     "metadata": {},
     "output_type": "display_data"
    },
    {
     "data": {
      "text/plain": "<IPython.core.display.HTML object>",
      "text/html": "<style>\n    table.wandb td:nth-child(1) { padding: 0 10px; text-align: right }\n    .wandb-row { display: flex; flex-direction: row; flex-wrap: wrap; width: 100% }\n    .wandb-col { display: flex; flex-direction: column; flex-basis: 100%; flex: 1; padding: 10px; }\n    </style>\n<div class=\"wandb-row\"><div class=\"wandb-col\"><h3>Run summary:</h3><br/><table class=\"wandb\"><tr><td>Accuracy</td><td>0.73043</td></tr><tr><td>F1</td><td>0.69307</td></tr><tr><td>Precision</td><td>0.64815</td></tr><tr><td>Recall</td><td>0.74468</td></tr></table><br/></div></div>"
     },
     "metadata": {},
     "output_type": "display_data"
    },
    {
     "data": {
      "text/plain": "<IPython.core.display.HTML object>",
      "text/html": "Synced <strong style=\"color:#cdcd00\">ruby-sweep-6</strong>: <a href=\"https://wandb.ai/ecalasans/mlreanimacao/runs/e8x5g2ua\" target=\"_blank\">https://wandb.ai/ecalasans/mlreanimacao/runs/e8x5g2ua</a><br/>Synced 5 W&B file(s), 0 media file(s), 0 artifact file(s) and 0 other file(s)"
     },
     "metadata": {},
     "output_type": "display_data"
    },
    {
     "data": {
      "text/plain": "<IPython.core.display.HTML object>",
      "text/html": "Find logs at: <code>./wandb/run-20220529_054415-e8x5g2ua/logs</code>"
     },
     "metadata": {},
     "output_type": "display_data"
    }
   ],
   "source": [
    "wandb.agent(sweep_id=sweep_id, function=train, count=6)"
   ],
   "metadata": {
    "collapsed": false,
    "pycharm": {
     "name": "#%%\n"
    }
   }
  },
  {
   "cell_type": "markdown",
   "source": [
    "## 7.  Configuração, Treinamento e Exportação do Melhor Modelo"
   ],
   "metadata": {
    "collapsed": false,
    "pycharm": {
     "name": "#%% md\n"
    }
   }
  },
  {
   "cell_type": "markdown",
   "source": [
    "### 7.1. Configuração"
   ],
   "metadata": {
    "collapsed": false,
    "pycharm": {
     "name": "#%% md\n"
    }
   }
  },
  {
   "cell_type": "markdown",
   "source": [
    "Realizado a avaliação do treinamento, nesta etapa será realizado um novo treinamento do modelo, desta vez com os resultados de configuração obtidos na etapa anterior.  Revisando os dados obtidos tem-se:"
   ],
   "metadata": {
    "collapsed": false,
    "pycharm": {
     "name": "#%% md\n"
    }
   }
  },
  {
   "cell_type": "code",
   "execution_count": 51,
   "outputs": [
    {
     "name": "stderr",
     "output_type": "stream",
     "text": [
      "29-05-2022 05:59:01 Accuracy: 0.7391304347826086\n",
      "29-05-2022 05:59:01 Precision: 0.6545454545454545\n",
      "29-05-2022 05:59:01 Recall: 0.7659574468085106\n",
      "29-05-2022 05:59:01 F1: 0.7058823529411765\n"
     ]
    }
   ],
   "source": [
    "logger.info(\"Accuracy: {}\".format(acc))\n",
    "logger.info(\"Precision: {}\".format(precision))\n",
    "logger.info(\"Recall: {}\".format(recall))\n",
    "logger.info(\"F1: {}\".format(fbeta))"
   ],
   "metadata": {
    "collapsed": false,
    "pycharm": {
     "name": "#%%\n"
    }
   }
  },
  {
   "cell_type": "markdown",
   "source": [
    "Em consulta ao **Sweep** do wandb, duas execuções demonstraram-se mais eficientes em melhorar os índices de acurácia, F1 e *precision*, mantendo o *recall* praticamente inalterado.  Selecionou-se a **heart-sweep-5** por apresentar tempo de execução ligeiramente menor(1s menor que sua concorrente que apresenta os mesmos resultados e as mesmas configurações)."
   ],
   "metadata": {
    "collapsed": false,
    "pycharm": {
     "name": "#%% md\n"
    }
   }
  },
  {
   "cell_type": "markdown",
   "source": [
    "Devido a uma característica da interação entre o wandb e o jupyter se faz necessário o reinício do ambiente para que se desvincule a última execução do wandb realizada na fase de ajuste de hiperparâmetros.  Dessa forma, também se faz necessária a execução de todos os itens deste notebook exceto o **5** e **6**.  Após realizado isto, executa-se o wandb novamente selecionando o projeto e o tipo de trabalho(*job type*)."
   ],
   "metadata": {
    "collapsed": false,
    "pycharm": {
     "name": "#%% md\n"
    }
   }
  },
  {
   "cell_type": "code",
   "execution_count": 35,
   "outputs": [
    {
     "data": {
      "text/plain": "<IPython.core.display.HTML object>",
      "text/html": "Finishing last run (ID:1o67td20) before initializing another..."
     },
     "metadata": {},
     "output_type": "display_data"
    },
    {
     "data": {
      "text/plain": "<IPython.core.display.HTML object>",
      "text/html": "Waiting for W&B process to finish... <strong style=\"color:green\">(success).</strong>"
     },
     "metadata": {},
     "output_type": "display_data"
    },
    {
     "data": {
      "text/plain": "VBox(children=(Label(value='0.001 MB of 0.001 MB uploaded (0.000 MB deduped)\\r'), FloatProgress(value=1.0, max…",
      "application/vnd.jupyter.widget-view+json": {
       "version_major": 2,
       "version_minor": 0,
       "model_id": "ab3f7fba5bb94605b18337ce8287c8e8"
      }
     },
     "metadata": {},
     "output_type": "display_data"
    },
    {
     "data": {
      "text/plain": "<IPython.core.display.HTML object>",
      "text/html": "Synced <strong style=\"color:#cdcd00\">exalted-rain-73</strong>: <a href=\"https://wandb.ai/ecalasans/mlreanimacao/runs/1o67td20\" target=\"_blank\">https://wandb.ai/ecalasans/mlreanimacao/runs/1o67td20</a><br/>Synced 5 W&B file(s), 0 media file(s), 0 artifact file(s) and 0 other file(s)"
     },
     "metadata": {},
     "output_type": "display_data"
    },
    {
     "data": {
      "text/plain": "<IPython.core.display.HTML object>",
      "text/html": "Find logs at: <code>./wandb/run-20220529_061830-1o67td20/logs</code>"
     },
     "metadata": {},
     "output_type": "display_data"
    },
    {
     "data": {
      "text/plain": "<IPython.core.display.HTML object>",
      "text/html": "Successfully finished last run (ID:1o67td20). Initializing new run:<br/>"
     },
     "metadata": {},
     "output_type": "display_data"
    },
    {
     "data": {
      "text/plain": "<IPython.core.display.HTML object>",
      "text/html": "wandb version 0.12.17 is available!  To upgrade, please run:\n $ pip install wandb --upgrade"
     },
     "metadata": {},
     "output_type": "display_data"
    },
    {
     "data": {
      "text/plain": "<IPython.core.display.HTML object>",
      "text/html": "Tracking run with wandb version 0.12.15"
     },
     "metadata": {},
     "output_type": "display_data"
    },
    {
     "data": {
      "text/plain": "<IPython.core.display.HTML object>",
      "text/html": "Run data is saved locally in <code>/Users/ericcalasans/Documents/Projetos/ml_proj1/wandb/run-20220529_062629-t9pcap00</code>"
     },
     "metadata": {},
     "output_type": "display_data"
    },
    {
     "data": {
      "text/plain": "<IPython.core.display.HTML object>",
      "text/html": "Syncing run <strong><a href=\"https://wandb.ai/ecalasans/mlreanimacao/runs/t9pcap00\" target=\"_blank\">fresh-snowball-74</a></strong> to <a href=\"https://wandb.ai/ecalasans/mlreanimacao\" target=\"_blank\">Weights & Biases</a> (<a href=\"https://wandb.me/run\" target=\"_blank\">docs</a>)<br/>"
     },
     "metadata": {},
     "output_type": "display_data"
    }
   ],
   "source": [
    "run = wandb.init(project='mlreanimacao', job_type='train')"
   ],
   "metadata": {
    "collapsed": false,
    "pycharm": {
     "name": "#%%\n"
    }
   }
  },
  {
   "cell_type": "markdown",
   "source": [
    "### 7.2. Treinamento"
   ],
   "metadata": {
    "collapsed": false,
    "pycharm": {
     "name": "#%% md\n"
    }
   }
  },
  {
   "cell_type": "markdown",
   "source": [
    "Executa-se agora o *pipeline* com os ajustes apontados pela melhor execução no wandb."
   ],
   "metadata": {
    "collapsed": false,
    "pycharm": {
     "name": "#%% md\n"
    }
   }
  },
  {
   "cell_type": "code",
   "execution_count": 36,
   "outputs": [
    {
     "name": "stderr",
     "output_type": "stream",
     "text": [
      "29-05-2022 06:34:09 Training\n",
      "29-05-2022 06:34:09 Infering\n",
      "29-05-2022 06:34:09 Evaluation metrics\n",
      "29-05-2022 06:34:09 Accuracy: 0.8\n",
      "29-05-2022 06:34:09 Precision: 0.75\n",
      "29-05-2022 06:34:09 Recall: 0.7659574468085106\n",
      "29-05-2022 06:34:09 F1: 0.7578947368421053\n"
     ]
    }
   ],
   "source": [
    "# The full pipeline\n",
    "pipe = Pipeline(steps = [('full_pipeline', full_pipeline_preprocessing),\n",
    "                         (\"classifier\",DecisionTreeClassifier())\n",
    "                         ]\n",
    "                )\n",
    "\n",
    "# update the parameters of the pipeline that we would like to tuning\n",
    "pipe.set_params(**{\"full_pipeline__num_pipeline__num_transformer__model\": 0})\n",
    "pipe.set_params(**{\"classifier__criterion\": 'gini'})\n",
    "pipe.set_params(**{\"classifier__splitter\": 'random'})\n",
    "pipe.set_params(**{\"classifier__random_state\": 1618})\n",
    "\n",
    "# training\n",
    "logger.info(\"Training\")\n",
    "pipe.fit(x_train, y_train)\n",
    "\n",
    "# predict\n",
    "logger.info(\"Infering\")\n",
    "predict = pipe.predict(x_val)\n",
    "\n",
    "# Evaluation Metrics\n",
    "logger.info(\"Evaluation metrics\")\n",
    "fbeta = fbeta_score(y_val, predict, beta=1, zero_division=1)\n",
    "precision = precision_score(y_val, predict, zero_division=1)\n",
    "recall = recall_score(y_val, predict, zero_division=1)\n",
    "acc = accuracy_score(y_val, predict)\n",
    "\n",
    "logger.info(\"Accuracy: {}\".format(acc))\n",
    "logger.info(\"Precision: {}\".format(precision))\n",
    "logger.info(\"Recall: {}\".format(recall))\n",
    "logger.info(\"F1: {}\".format(fbeta))\n",
    "\n",
    "run.summary[\"Accuracy\"] = acc\n",
    "run.summary[\"Precision\"] = precision\n",
    "run.summary[\"Recall\"] = recall\n",
    "run.summary[\"F1\"] = fbeta"
   ],
   "metadata": {
    "collapsed": false,
    "pycharm": {
     "name": "#%%\n"
    }
   }
  },
  {
   "cell_type": "markdown",
   "source": [
    "Geração de gráficos com o modelo otimizado para o wandb"
   ],
   "metadata": {
    "collapsed": false,
    "pycharm": {
     "name": "#%% md\n"
    }
   }
  },
  {
   "cell_type": "code",
   "execution_count": 37,
   "outputs": [
    {
     "data": {
      "text/plain": "['fumo_n_fumo',\n 'fumo_s_fumo',\n 'alcool_n_alcool',\n 'alcool_s_alcool',\n 'psicoativas_n_psico',\n 'psicoativas_s_psico',\n 'tpp_n_tpp',\n 'tpp_s_tpp',\n 'dpp_n_dpp',\n 'dpp_s_dpp',\n 'oligoamnio_n_oligo',\n 'oligoamnio_s_oligo',\n 'sifilis_n_sifilis',\n 'sifilis_s_sifilis',\n 'hiv_n_hiv',\n 'hiv_s_hiv',\n 'covid_mae_n_covid',\n 'covid_mae_s_covid',\n 'dheg_n_dheg',\n 'dheg_s_dheg',\n 'dm_n_dm',\n 'dm_s_dm',\n 'sexo_Masculino',\n 'idade_materna',\n 'apgar_1_minuto']"
     },
     "execution_count": 37,
     "metadata": {},
     "output_type": "execute_result"
    }
   ],
   "source": [
    "cat_names = pipe.named_steps['full_pipeline'].get_params()[\"cat_pipeline\"][2].get_feature_names_out().tolist()\n",
    "num_names = pipe.named_steps['full_pipeline'].get_params()[\"num_pipeline\"][1].get_feature_names_out()\n",
    "all_names = cat_names + num_names\n",
    "all_names"
   ],
   "metadata": {
    "collapsed": false,
    "pycharm": {
     "name": "#%%\n"
    }
   }
  },
  {
   "cell_type": "code",
   "execution_count": 38,
   "outputs": [
    {
     "name": "stderr",
     "output_type": "stream",
     "text": [
      "\u001B[34m\u001B[1mwandb\u001B[0m: \n",
      "\u001B[34m\u001B[1mwandb\u001B[0m: Plotting DT.\n",
      "\u001B[34m\u001B[1mwandb\u001B[0m: Logged feature importances.\n",
      "\u001B[34m\u001B[1mwandb\u001B[0m: Logged confusion matrix.\n",
      "\u001B[34m\u001B[1mwandb\u001B[0m: Logged summary metrics.\n",
      "\u001B[34m\u001B[1mwandb\u001B[0m: Logged class proportions.\n",
      "\u001B[34m\u001B[1mwandb\u001B[0m: Logged calibration curve.\n",
      "\u001B[34m\u001B[1mwandb\u001B[0m: \u001B[33mWARNING\u001B[0m wandb.plots.* functions are deprecated and will be removed in a future release. Please use wandb.plot.* instead.\n",
      "\u001B[34m\u001B[1mwandb\u001B[0m: Logged roc curve.\n",
      "\u001B[34m\u001B[1mwandb\u001B[0m: Logged precision-recall curve.\n"
     ]
    }
   ],
   "source": [
    "wandb.sklearn.plot_classifier(pipe.get_params()[\"classifier\"],\n",
    "                              full_pipeline_preprocessing.transform(x_train),\n",
    "                              full_pipeline_preprocessing.transform(x_val),\n",
    "                              y_train,\n",
    "                              y_val,\n",
    "                              predict,\n",
    "                              pipe.predict_proba(x_val),\n",
    "                              [0,1],\n",
    "                              model_name='DT', feature_names=all_names)"
   ],
   "metadata": {
    "collapsed": false,
    "pycharm": {
     "name": "#%%\n"
    }
   }
  },
  {
   "cell_type": "markdown",
   "source": [
    "### 7.3. Exportação do Modelo"
   ],
   "metadata": {
    "collapsed": false,
    "pycharm": {
     "name": "#%% md\n"
    }
   }
  },
  {
   "cell_type": "markdown",
   "source": [
    "Variáveis auxiliares"
   ],
   "metadata": {
    "collapsed": false,
    "pycharm": {
     "name": "#%% md\n"
    }
   }
  },
  {
   "cell_type": "code",
   "execution_count": 39,
   "outputs": [],
   "source": [
    "artifact_type = \"inference_artifact\"\n",
    "artifact_encoder = \"target_encoder\"\n",
    "artifact_model = \"model_export\""
   ],
   "metadata": {
    "collapsed": false,
    "pycharm": {
     "name": "#%%\n"
    }
   }
  },
  {
   "cell_type": "markdown",
   "source": [
    "Uso do módulo **joblib** para auxiliar na tarefa de exportação realizando a serialização dos objetos **pipe** e **le**."
   ],
   "metadata": {
    "collapsed": false,
    "pycharm": {
     "name": "#%% md\n"
    }
   }
  },
  {
   "cell_type": "code",
   "execution_count": 40,
   "outputs": [
    {
     "name": "stderr",
     "output_type": "stream",
     "text": [
      "29-05-2022 06:42:13 Salvando artefatos na máquina...\n"
     ]
    },
    {
     "data": {
      "text/plain": "['target_encoder']"
     },
     "execution_count": 40,
     "metadata": {},
     "output_type": "execute_result"
    }
   ],
   "source": [
    "logger.info(\"Salvando artefatos na máquina...\")\n",
    "# Save the model using joblib\n",
    "joblib.dump(pipe, artifact_model)\n",
    "\n",
    "# Save the target encoder using joblib\n",
    "joblib.dump(le, artifact_encoder)"
   ],
   "metadata": {
    "collapsed": false,
    "pycharm": {
     "name": "#%%\n"
    }
   }
  },
  {
   "cell_type": "markdown",
   "source": [
    "Geração do artefato do modelo"
   ],
   "metadata": {
    "collapsed": false,
    "pycharm": {
     "name": "#%% md\n"
    }
   }
  },
  {
   "cell_type": "code",
   "execution_count": 41,
   "outputs": [
    {
     "name": "stderr",
     "output_type": "stream",
     "text": [
      "29-05-2022 06:44:44 Gerando artefato do modelo\n"
     ]
    },
    {
     "data": {
      "text/plain": "<wandb.sdk.wandb_artifacts.Artifact at 0x7faf6e7049d0>"
     },
     "execution_count": 41,
     "metadata": {},
     "output_type": "execute_result"
    }
   ],
   "source": [
    "artifact = wandb.Artifact(artifact_model,\n",
    "                          type=artifact_type,\n",
    "                          description=\"Pipeline completo de Preprocessamento e Treinamento do Modelo\"\n",
    "                          )\n",
    "\n",
    "logger.info(\"Gerando artefato do modelo...\")\n",
    "artifact.add_file(artifact_model)\n",
    "run.log_artifact(artifact)"
   ],
   "metadata": {
    "collapsed": false,
    "pycharm": {
     "name": "#%%\n"
    }
   }
  },
  {
   "cell_type": "markdown",
   "source": [
    "Geração do artefato do codificador da *target*"
   ],
   "metadata": {
    "collapsed": false,
    "pycharm": {
     "name": "#%% md\n"
    }
   }
  },
  {
   "cell_type": "code",
   "execution_count": 42,
   "outputs": [
    {
     "name": "stderr",
     "output_type": "stream",
     "text": [
      "29-05-2022 06:45:34 Gerando artefato do codificador...\n"
     ]
    },
    {
     "data": {
      "text/plain": "<wandb.sdk.wandb_artifacts.Artifact at 0x7faf6e704c70>"
     },
     "execution_count": 42,
     "metadata": {},
     "output_type": "execute_result"
    }
   ],
   "source": [
    "artifact = wandb.Artifact(artifact_encoder,\n",
    "                          type=artifact_type,\n",
    "                          description=\"Codificador da target\"\n",
    "                          )\n",
    "\n",
    "logger.info(\"Gerando artefato do codificador...\")\n",
    "artifact.add_file(artifact_encoder)\n",
    "run.log_artifact(artifact)"
   ],
   "metadata": {
    "collapsed": false,
    "pycharm": {
     "name": "#%%\n"
    }
   }
  },
  {
   "cell_type": "code",
   "execution_count": 43,
   "outputs": [
    {
     "data": {
      "text/plain": "<IPython.core.display.HTML object>",
      "text/html": "Waiting for W&B process to finish... <strong style=\"color:green\">(success).</strong>"
     },
     "metadata": {},
     "output_type": "display_data"
    },
    {
     "data": {
      "text/plain": "VBox(children=(Label(value='0.029 MB of 0.029 MB uploaded (0.000 MB deduped)\\r'), FloatProgress(value=1.0, max…",
      "application/vnd.jupyter.widget-view+json": {
       "version_major": 2,
       "version_minor": 0,
       "model_id": "7e4570023e614dc49fcf5a97591f30cb"
      }
     },
     "metadata": {},
     "output_type": "display_data"
    },
    {
     "data": {
      "text/plain": "<IPython.core.display.HTML object>",
      "text/html": "<style>\n    table.wandb td:nth-child(1) { padding: 0 10px; text-align: right }\n    .wandb-row { display: flex; flex-direction: row; flex-wrap: wrap; width: 100% }\n    .wandb-col { display: flex; flex-direction: column; flex-basis: 100%; flex: 1; padding: 10px; }\n    </style>\n<div class=\"wandb-row\"><div class=\"wandb-col\"><h3>Run summary:</h3><br/><table class=\"wandb\"><tr><td>Accuracy</td><td>0.8</td></tr><tr><td>F1</td><td>0.75789</td></tr><tr><td>Precision</td><td>0.75</td></tr><tr><td>Recall</td><td>0.76596</td></tr></table><br/></div></div>"
     },
     "metadata": {},
     "output_type": "display_data"
    },
    {
     "data": {
      "text/plain": "<IPython.core.display.HTML object>",
      "text/html": "Synced <strong style=\"color:#cdcd00\">fresh-snowball-74</strong>: <a href=\"https://wandb.ai/ecalasans/mlreanimacao/runs/t9pcap00\" target=\"_blank\">https://wandb.ai/ecalasans/mlreanimacao/runs/t9pcap00</a><br/>Synced 5 W&B file(s), 7 media file(s), 9 artifact file(s) and 0 other file(s)"
     },
     "metadata": {},
     "output_type": "display_data"
    },
    {
     "data": {
      "text/plain": "<IPython.core.display.HTML object>",
      "text/html": "Find logs at: <code>./wandb/run-20220529_062629-t9pcap00/logs</code>"
     },
     "metadata": {},
     "output_type": "display_data"
    }
   ],
   "source": [
    "# Finaliza execução no wandb\n",
    "run.finish()"
   ],
   "metadata": {
    "collapsed": false,
    "pycharm": {
     "name": "#%%\n"
    }
   }
  },
  {
   "cell_type": "code",
   "execution_count": null,
   "outputs": [],
   "source": [],
   "metadata": {
    "collapsed": false,
    "pycharm": {
     "name": "#%%\n"
    }
   }
  }
 ],
 "metadata": {
  "interpreter": {
   "hash": "a6df4f99f956271f2216113daf53bb4424045a1a04a5301999ce02b002a8d33f"
  },
  "kernelspec": {
   "display_name": "Python 3.8.12 ('mlearning')",
   "language": "python",
   "name": "python3"
  },
  "language_info": {
   "codemirror_mode": {
    "name": "ipython",
    "version": 3
   },
   "file_extension": ".py",
   "mimetype": "text/x-python",
   "name": "python",
   "nbconvert_exporter": "python",
   "pygments_lexer": "ipython3",
   "version": "3.8.12"
  },
  "orig_nbformat": 4
 },
 "nbformat": 4,
 "nbformat_minor": 2
}